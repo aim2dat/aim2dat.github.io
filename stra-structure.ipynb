{
 "cells": [
  {
   "cell_type": "raw",
   "id": "ca70229d",
   "metadata": {
    "raw_mimetype": "text/restructuredtext"
   },
   "source": [
    "========================================\n",
    "Representation of molecules and crystals\n",
    "========================================\n",
    "\n",
    "The :class:`Structure <aim2dat.strct.Structure>` class is designed to contain all necessary details of a molecular or crystalline structure. Moreover, it contains all methods that operate on a single structure, e.g. order parameters or the distance between atoms, and methods to manipulate the :class:`Structure <aim2dat.strct.Structure>` object, e.g. deleting atoms or scaling the structrue's unit cell. In case of the manipulation methods, a new :class:`Structure <aim2dat.strct.Structure>` instance will be returned and the initial :class:`Structure <aim2dat.strct.Structure>` object remains unchanged.\n",
    "\n",
    "Initialization of the object\n",
    "============================\n",
    "\n",
    "A structure is defined by its periodic boundary condition (:attr:`pbc <aim2dat.strct.Structure.pbc>`) and two lists with the length equal to the number of atoms:\n",
    "\n",
    "* :attr:`elements <aim2dat.strct.Structure.elements>` contains the element symbol or number of each atom.\n",
    "* :attr:`positions <aim2dat.strct.Structure.positions>` contains the cartesian coordinates (list or tuple of three numbers) of each atom.\n",
    "\n",
    "The periodic boundary conditions can be given as single boolean or a list of 3 booleans for mixed periodic and non-periodic boundary conditions.\n",
    "If :attr:`pbc <aim2dat.strct.Structure.pbc>` is set to `True` for one or more directions a cell needs to be specified as well via a 3 times 3 nested list.\n",
    "If :attr:`cell <aim2dat.strct.Structure.cell>` is given, the positions can also be passed on as scaled coordinates by setting the ``is_cartesian`` key to ``False`` or wrapped back into the unit cell by setting ``wrap`` to ``True``.\n",
    "\n",
    "The :class:`Structure <aim2dat.strct.Structure>` object is created by passing the information at the initialization of the class:"
   ]
  },
  {
   "cell_type": "code",
   "execution_count": 1,
   "id": "310a9474",
   "metadata": {
    "execution": {
     "iopub.execute_input": "2024-10-15T07:34:20.390456Z",
     "iopub.status.busy": "2024-10-15T07:34:20.390260Z",
     "iopub.status.idle": "2024-10-15T07:34:21.474614Z",
     "shell.execute_reply": "2024-10-15T07:34:21.473869Z"
    }
   },
   "outputs": [],
   "source": [
    "from aim2dat.strct import Structure\n",
    "\n",
    "strct_molecule = Structure(\n",
    "    label=\"molecule\",\n",
    "    elements=[\"N\", \"H\", 1, 1],\n",
    "    positions=[\n",
    "        [0.000000, 0.000000, 0.000000],\n",
    "        [0.000000, 0.000000, 1.008000],\n",
    "        [0.950353, 0.000000, -0.336000],\n",
    "        [-0.475176, -0.823029, -0.336000],\n",
    "    ],\n",
    "    pbc=False,\n",
    "    site_attributes = {\"oxidation_state\": [-3, 1, 1, 1]}\n",
    ")\n",
    "\n",
    "strct_crystal = Structure(\n",
    "    elements=[\"Ga\", \"As\"],\n",
    "    positions=[\n",
    "        [0.0, 0.0, 0.0],\n",
    "        [1.75, 1.75, 1.75],\n",
    "    ],\n",
    "    cell=[\n",
    "        [0.0, 4.066, 4.0660001],\n",
    "        [4.066, 0.0, 4.066],\n",
    "        [4.066, 4.066, 0.0],\n",
    "    ],\n",
    "    is_cartesian=False,\n",
    "    wrap=True,\n",
    "    pbc=[True, True, True],\n",
    ")"
   ]
  },
  {
   "cell_type": "raw",
   "id": "7b101b2e",
   "metadata": {
    "raw_mimetype": "text/restructuredtext"
   },
   "source": [
    "The following additional properties can be specified during the instance creation:\n",
    "\n",
    "* :attr:`cell <aim2dat.strct.Structure.cell>` defines the unit cell for periodic structures.\n",
    "* ``is_cartesian`` specifies whether the given coordinates (:attr:`positions <aim2dat.strct.Structure.positions>`) are cartesian or scaled by the :attr:`cell <aim2dat.strct.Structure.cell>` vectors.\n",
    "* :attr:`kinds <aim2dat.strct.Structure.kinds>` can be assigned to distinguish atoms of the same element but with different properties (e.g. spin-up and spin-down in magnetic materials). It expects a list with the same length as :attr:`elements <aim2dat.strct.Structure.elements>` and :attr:`positions <aim2dat.strct.Structure.positions>`.\n",
    "* :attr:`attributes <aim2dat.strct.Structure.attributes>` stores a dictionary of different structural properties or can contain additional information about the structure.\n",
    "* :attr:`site_attributes <aim2dat.strct.Structure.site_attributes>` stores attributes containing information on the atom sites. Therefore, each value must have the same length as :attr:`elements <aim2dat.strct.Structure.elements>` and :attr:`positions <aim2dat.strct.Structure.positions>`.\n",
    "* :attr:`site_attributes <aim2dat.strct.Structure.site_attributes>` stores a dictionary likewise to :attr:`attributes <aim2dat.strct.Structure.attributes>`. However, each value needs to have the length of sites of the structure and individual values can be accessed via the :meth:`iter_sites <aim2dat.strct.Structure.iter_sites>`.\n",
    "* :attr:`extras <aim2dat.strct.Structure.extras>` contains a dictionary with extensive calculation results, e.g. a partial radial distribution function.\n",
    "* :attr:`label <aim2dat.strct.Structure.label>` is a string and used as a key or identifier in the :class:`StructureCollection <aim2dat.strct.StructureCollection>` object.\n",
    "\n",
    "An overview of the set properties is given by using the string-representation of the object:"
   ]
  },
  {
   "cell_type": "code",
   "execution_count": 2,
   "id": "32694065",
   "metadata": {
    "execution": {
     "iopub.execute_input": "2024-10-15T07:34:21.478406Z",
     "iopub.status.busy": "2024-10-15T07:34:21.477850Z",
     "iopub.status.idle": "2024-10-15T07:34:21.481946Z",
     "shell.execute_reply": "2024-10-15T07:34:21.481354Z"
    }
   },
   "outputs": [
    {
     "name": "stdout",
     "output_type": "stream",
     "text": [
      "----------------------------------------------------------------------\n",
      "-------------------------- Structure: None ---------------------------\n",
      "----------------------------------------------------------------------\n",
      "\n",
      " Formula: GaAs\n",
      " PBC: [True True True]\n",
      "\n",
      "                                 Cell                                 \n",
      " Vectors: - [  0.0000   4.0660   4.0660]\n",
      "          - [  4.0660   0.0000   4.0660]\n",
      "          - [  4.0660   4.0660   0.0000]\n",
      " Lengths: [  5.7502   5.7502   5.7502]\n",
      " Angles: [ 60.0000  60.0000  60.0000]\n",
      " Volume: 134.4411\n",
      "\n",
      "                                Sites                                 \n",
      "  - Ga None  [  0.0000   0.0000   0.0000] [  0.0000   0.0000   0.0000]\n",
      "  - As None  [  6.0990   6.0990   6.0990] [  0.7500   0.7500   0.7500]\n",
      "----------------------------------------------------------------------\n"
     ]
    }
   ],
   "source": [
    "print(strct_crystal)"
   ]
  },
  {
   "cell_type": "raw",
   "id": "4b2b2801",
   "metadata": {
    "raw_mimetype": "text/restructuredtext"
   },
   "source": [
    "Interface to other packages\n",
    "===========================\n",
    "\n",
    "A :class:`Structure <aim2dat.strct.Structure>` object can also be directly created via the import-methods with prefix ``from_*``. A list of all methods can be given via the :attr:`import_methods <aim2dat.strct.Structure.import_methods>` property:"
   ]
  },
  {
   "cell_type": "code",
   "execution_count": 3,
   "id": "23186262",
   "metadata": {
    "execution": {
     "iopub.execute_input": "2024-10-15T07:34:21.484873Z",
     "iopub.status.busy": "2024-10-15T07:34:21.484325Z",
     "iopub.status.idle": "2024-10-15T07:34:21.492278Z",
     "shell.execute_reply": "2024-10-15T07:34:21.491699Z"
    }
   },
   "outputs": [
    {
     "data": {
      "text/plain": [
       "['from_file',\n",
       " 'from_ase_atoms',\n",
       " 'from_pymatgen_structure',\n",
       " 'from_aiida_structuredata']"
      ]
     },
     "execution_count": 3,
     "metadata": {},
     "output_type": "execute_result"
    }
   ],
   "source": [
    "Structure.import_methods"
   ]
  },
  {
   "cell_type": "raw",
   "id": "0bc13c8f",
   "metadata": {
    "raw_mimetype": "text/restructuredtext"
   },
   "source": [
    "As an example we create an ase `Atoms` object (more details are given in the |ase_doc| and use the corresponding import method to initiate the :class:`Structure <aim2dat.strct.Structure>` object:\n",
    "\n",
    ".. |ase_doc| raw:: html\n",
    "\n",
    "   <a href=\"https://wiki.fysik.dtu.dk/ase/\" target=\"_blank\">ASE documentation</a>"
   ]
  },
  {
   "cell_type": "code",
   "execution_count": 4,
   "id": "f93d5961",
   "metadata": {
    "execution": {
     "iopub.execute_input": "2024-10-15T07:34:21.495122Z",
     "iopub.status.busy": "2024-10-15T07:34:21.494754Z",
     "iopub.status.idle": "2024-10-15T07:34:21.519862Z",
     "shell.execute_reply": "2024-10-15T07:34:21.519281Z"
    }
   },
   "outputs": [
    {
     "name": "stdout",
     "output_type": "stream",
     "text": [
      "----------------------------------------------------------------------\n",
      "---------------------- Structure: GaAs_crystal -----------------------\n",
      "----------------------------------------------------------------------\n",
      "\n",
      " Formula: Ga4As4\n",
      " PBC: [True True True]\n",
      "\n",
      "                                 Cell                                 \n",
      " Vectors: - [  8.1320   0.0000   0.0000]\n",
      "          - [  0.0000   8.1320   0.0000]\n",
      "          - [  0.0000   0.0000   8.1320]\n",
      " Lengths: [  8.1320   8.1320   8.1320]\n",
      " Angles: [ 90.0000  90.0000  90.0000]\n",
      " Volume: 537.7645\n",
      "\n",
      "                                Sites                                 \n",
      "  - Ga None  [  0.0000   0.0000   0.0000] [  0.0000   0.0000   0.0000]\n",
      "  - Ga None  [  0.0000   4.0660   4.0660] [  0.0000   0.5000   0.5000]\n",
      "  - Ga None  [  4.0660   0.0000   4.0660] [  0.5000   0.0000   0.5000]\n",
      "  - Ga None  [  4.0660   4.0660   0.0000] [  0.5000   0.5000   0.0000]\n",
      "  - As None  [  6.0990   6.0990   6.0990] [  0.7500   0.7500   0.7500]\n",
      "  - As None  [  2.0330   2.0330   6.0990] [  0.2500   0.2500   0.7500]\n",
      "  - As None  [  2.0330   6.0990   2.0330] [  0.2500   0.7500   0.2500]\n",
      "  - As None  [  6.0990   2.0330   2.0330] [  0.7500   0.2500   0.2500]\n",
      "----------------------------------------------------------------------\n"
     ]
    }
   ],
   "source": [
    "from ase.spacegroup import crystal\n",
    "\n",
    "a = 4.066 * 2.0\n",
    "GaAs_conv = crystal(\n",
    "    (\"Ga\", \"As\"),\n",
    "    basis=((0.0, 0.0, 0.0), (0.75, 0.75, 0.75)),\n",
    "    spacegroup=216,\n",
    "    cellpar=[a, a, a, 90, 90, 90],\n",
    "    primitive_cell=False,\n",
    ")\n",
    "\n",
    "strct_crystal_conv = Structure.from_ase_atoms(GaAs_conv, label=\"GaAs_crystal\")\n",
    "print(strct_crystal_conv)"
   ]
  },
  {
   "cell_type": "raw",
   "id": "4152ac9d",
   "metadata": {
    "raw_mimetype": "text/restructuredtext"
   },
   "source": [
    "In a similar way a :class:`Structure <aim2dat.strct.Structure>` can be exported into the representing python objects of other python packages or written into a file (using the |ase_page| package as backend). A list of all methods is given via the :attr:`export_methods <aim2dat.strct.Structure.export_methods>`:\n",
    "\n",
    ".. |ase_page| raw:: html\n",
    "\n",
    "   <a href=\"https://wiki.fysik.dtu.dk/ase/\" target=\"_blank\">ASE</a>"
   ]
  },
  {
   "cell_type": "code",
   "execution_count": 5,
   "id": "675415fc",
   "metadata": {
    "execution": {
     "iopub.execute_input": "2024-10-15T07:34:21.522754Z",
     "iopub.status.busy": "2024-10-15T07:34:21.522383Z",
     "iopub.status.idle": "2024-10-15T07:34:21.526535Z",
     "shell.execute_reply": "2024-10-15T07:34:21.525931Z"
    }
   },
   "outputs": [
    {
     "data": {
      "text/plain": [
       "['to_dict',\n",
       " 'to_file',\n",
       " 'to_ase_atoms',\n",
       " 'to_pymatgen_structure',\n",
       " 'to_aiida_structuredata']"
      ]
     },
     "execution_count": 5,
     "metadata": {},
     "output_type": "execute_result"
    }
   ],
   "source": [
    "Structure.export_methods"
   ]
  },
  {
   "cell_type": "raw",
   "id": "061905c4",
   "metadata": {
    "raw_mimetype": "text/restructuredtext"
   },
   "source": [
    "For example, a file is created using the :attr:`to_file <aim2dat.strct.Structure.to_file>` method:"
   ]
  },
  {
   "cell_type": "code",
   "execution_count": 6,
   "id": "9aba4f8b",
   "metadata": {
    "execution": {
     "iopub.execute_input": "2024-10-15T07:34:21.529338Z",
     "iopub.status.busy": "2024-10-15T07:34:21.528974Z",
     "iopub.status.idle": "2024-10-15T07:34:21.535415Z",
     "shell.execute_reply": "2024-10-15T07:34:21.534836Z"
    }
   },
   "outputs": [],
   "source": [
    "strct_crystal_conv.to_file(\"GaAs_crystal.xsf\")"
   ]
  },
  {
   "cell_type": "raw",
   "id": "91b3a3c5",
   "metadata": {
    "raw_mimetype": "text/restructuredtext"
   },
   "source": [
    "Structural analysis methods\n",
    "===========================\n",
    "\n",
    "The :class:`Structure <aim2dat.strct.Structure>` class also offers a few methods to analyse the structure.\n",
    "A list is given via the :attr:`analysis_methods <aim2dat.strct.Structure.analysis_methods>` property:"
   ]
  },
  {
   "cell_type": "code",
   "execution_count": 7,
   "id": "fb01f8b5",
   "metadata": {
    "execution": {
     "iopub.execute_input": "2024-10-15T07:34:21.538226Z",
     "iopub.status.busy": "2024-10-15T07:34:21.537840Z",
     "iopub.status.idle": "2024-10-15T07:34:21.541965Z",
     "shell.execute_reply": "2024-10-15T07:34:21.541394Z"
    }
   },
   "outputs": [
    {
     "data": {
      "text/plain": [
       "['determine_point_group',\n",
       " 'determine_space_group',\n",
       " 'calculate_distance',\n",
       " 'calculate_angle',\n",
       " 'calculate_dihedral_angle',\n",
       " 'calculate_voronoi_tessellation',\n",
       " 'calculate_coordination',\n",
       " 'calculate_ffingerprint']"
      ]
     },
     "execution_count": 7,
     "metadata": {},
     "output_type": "execute_result"
    }
   ],
   "source": [
    "strct_molecule.analysis_methods"
   ]
  },
  {
   "cell_type": "markdown",
   "id": "acacca3e-486d-4ddb-8250-ecf69e659ebc",
   "metadata": {},
   "source": [
    "By calling the function the analysis is performed and the results returned. As an example we determine the space group of the crystal using the <a href=\"https://spglib.readthedocs.io/en/latest/\" target=\"_blank\">spglib</a> package as backend:"
   ]
  },
  {
   "cell_type": "code",
   "execution_count": 8,
   "id": "14d738a4-6c4d-4475-a4e0-9bd7d616505c",
   "metadata": {
    "execution": {
     "iopub.execute_input": "2024-10-15T07:34:21.544763Z",
     "iopub.status.busy": "2024-10-15T07:34:21.544403Z",
     "iopub.status.idle": "2024-10-15T07:34:21.556089Z",
     "shell.execute_reply": "2024-10-15T07:34:21.555516Z"
    }
   },
   "outputs": [
    {
     "data": {
      "text/plain": [
       "{'equivalent_sites': [{'wyckoff': 'a', 'symmetry': '-43m', 'sites': [0]},\n",
       "  {'wyckoff': 'c', 'symmetry': '-43m', 'sites': [1]}],\n",
       " 'space_group': {'number': 216,\n",
       "  'international_short': 'F-43m',\n",
       "  'international_full': 'F -4 3 m',\n",
       "  'international': 'F -4 3 m',\n",
       "  'schoenflies': 'Td^2',\n",
       "  'hall_number': 512,\n",
       "  'hall_symbol': 'F -4 2 3',\n",
       "  'choice': '',\n",
       "  'pointgroup_international': '-43m',\n",
       "  'pointgroup_schoenflies': 'Td',\n",
       "  'arithmetic_crystal_class_number': 69,\n",
       "  'arithmetic_crystal_class_symbol': '-43mF',\n",
       "  'centrosymmetric': False}}"
      ]
     },
     "execution_count": 8,
     "metadata": {},
     "output_type": "execute_result"
    }
   ],
   "source": [
    "strct_crystal.determine_space_group()"
   ]
  },
  {
   "cell_type": "raw",
   "id": "d511c130",
   "metadata": {
    "raw_mimetype": "text/restructuredtext"
   },
   "source": [
    "The analysis methods store two different kind of output data:\n",
    "\n",
    "* If the property :attr:`store_calculated_properties <aim2dat.strct.Structure.store_calculated_properties>` is set to ``True`` a full set of the data is stored in the :attr:`extras <aim2dat.strct.Structure.extras>` property and returned by the function. \n",
    "* A representative subset of the data is stored in the :attr:`attributes <aim2dat.strct.Structure.attributes>` property."
   ]
  },
  {
   "cell_type": "code",
   "execution_count": 9,
   "id": "9cc98d7b-1ab3-4edd-b15f-650eed928d74",
   "metadata": {
    "execution": {
     "iopub.execute_input": "2024-10-15T07:34:21.558900Z",
     "iopub.status.busy": "2024-10-15T07:34:21.558537Z",
     "iopub.status.idle": "2024-10-15T07:34:21.562249Z",
     "shell.execute_reply": "2024-10-15T07:34:21.561646Z"
    }
   },
   "outputs": [
    {
     "name": "stdout",
     "output_type": "stream",
     "text": [
      "Attribute: 216\n",
      "Extra: {'equivalent_sites': [{'wyckoff': 'a', 'symmetry': '-43m', 'sites': [0]}, {'wyckoff': 'c', 'symmetry': '-43m', 'sites': [1]}], 'space_group': {'number': 216, 'international_short': 'F-43m', 'international_full': 'F -4 3 m', 'international': 'F -4 3 m', 'schoenflies': 'Td^2', 'hall_number': 512, 'hall_symbol': 'F -4 2 3', 'choice': '', 'pointgroup_international': '-43m', 'pointgroup_schoenflies': 'Td', 'arithmetic_crystal_class_number': 69, 'arithmetic_crystal_class_symbol': '-43mF', 'centrosymmetric': False}}\n"
     ]
    }
   ],
   "source": [
    "print(\"Attribute:\", strct_crystal.attributes[\"space_group\"])\n",
    "print(\"Extra:\", strct_crystal.extras[\"space_group\"])"
   ]
  },
  {
   "cell_type": "raw",
   "id": "0d40b870",
   "metadata": {
    "raw_mimetype": "text/restructuredtext"
   },
   "source": [
    "In case the same analysis function of the instance with the same parameters is called again the stored data in the :attr:`extras <aim2dat.strct.Structure.extras>` property is returned instead of performing the same analysis again. \n",
    "This feature is very handy but also demands sufficient memory capacities, it can be switched on and off via the :attr:`store_calculated_properties <aim2dat.strct.Structure.store_calculated_properties>` property."
   ]
  },
  {
   "cell_type": "raw",
   "id": "899601e0",
   "metadata": {
    "raw_mimetype": "text/restructuredtext"
   },
   "source": [
    "Manipulating structures\n",
    "=======================\n",
    "\n",
    "Another set of methods implemented in the :class:`Structure <aim2dat.strct.Structure>` class act on the structure itself:"
   ]
  },
  {
   "cell_type": "code",
   "execution_count": 10,
   "id": "f1db7001-aaba-425b-8b4d-9d993a558e5e",
   "metadata": {
    "execution": {
     "iopub.execute_input": "2024-10-15T07:34:21.565405Z",
     "iopub.status.busy": "2024-10-15T07:34:21.565033Z",
     "iopub.status.idle": "2024-10-15T07:34:21.569088Z",
     "shell.execute_reply": "2024-10-15T07:34:21.568516Z"
    }
   },
   "outputs": [
    {
     "data": {
      "text/plain": [
       "['delete_atoms', 'scale_unit_cell', 'substitute_elements']"
      ]
     },
     "execution_count": 10,
     "metadata": {},
     "output_type": "execute_result"
    }
   ],
   "source": [
    "strct_molecule.manipulation_methods"
   ]
  },
  {
   "cell_type": "raw",
   "id": "26d1232b",
   "metadata": {
    "raw_mimetype": "text/restructuredtext"
   },
   "source": [
    "The function returns a new :class:`Structure <aim2dat.strct.Structure>` in case structural changes are induces otherwise the initial :class:`Structure <aim2dat.strct.Structure>` object is returned. In general, :attr:`kinds <aim2dat.strct.Structure.kinds>`, :attr:`attributes <aim2dat.strct.Structure.attributes>` and :attr:`site_attributes <aim2dat.strct.Structure.site_attributes>` are transferred to the new :class:`Structure <aim2dat.strct.Structure>` object (if not speficied otherwise). E.g. if \"Ga\" should be exchanged with \"Al\" we can simply call the :attr:`substitute_elements<aim2dat.strct.Structure.substitute_elements>` function and obtain a new :class:`Structure <aim2dat.strct.Structure>` object:"
   ]
  },
  {
   "cell_type": "code",
   "execution_count": 11,
   "id": "519e879e-53e2-407f-a78e-5f4f2a989616",
   "metadata": {
    "execution": {
     "iopub.execute_input": "2024-10-15T07:34:21.571907Z",
     "iopub.status.busy": "2024-10-15T07:34:21.571541Z",
     "iopub.status.idle": "2024-10-15T07:34:21.575795Z",
     "shell.execute_reply": "2024-10-15T07:34:21.575227Z"
    }
   },
   "outputs": [
    {
     "name": "stdout",
     "output_type": "stream",
     "text": [
      "----------------------------------------------------------------------\n",
      "---------------------- Structure: GaAs_crystal -----------------------\n",
      "----------------------------------------------------------------------\n",
      "\n",
      " Formula: Al4As4\n",
      " PBC: [True True True]\n",
      "\n",
      "                                 Cell                                 \n",
      " Vectors: - [  8.0987   0.0000   0.0000]\n",
      "          - [  0.0000   8.0987   0.0000]\n",
      "          - [  0.0000   0.0000   8.0987]\n",
      " Lengths: [  8.0987   8.0987   8.0987]\n",
      " Angles: [ 90.0000  90.0000  90.0000]\n",
      " Volume: 531.1797\n",
      "\n",
      "                                Sites                                 \n",
      "  - Al None  [  0.0000   0.0000   0.0000] [  0.0000   0.0000   0.0000]\n",
      "  - Al None  [  0.0000   4.0493   4.0493] [  0.0000   0.5000   0.5000]\n",
      "  - Al None  [  4.0493   0.0000   4.0493] [  0.5000   0.0000   0.5000]\n",
      "  - Al None  [  4.0493   4.0493   0.0000] [  0.5000   0.5000   0.0000]\n",
      "  - As None  [  6.0740   6.0740   6.0740] [  0.7500   0.7500   0.7500]\n",
      "  - As None  [  2.0247   2.0247   6.0740] [  0.2500   0.2500   0.7500]\n",
      "  - As None  [  2.0247   6.0740   2.0247] [  0.2500   0.7500   0.2500]\n",
      "  - As None  [  6.0740   2.0247   2.0247] [  0.7500   0.2500   0.2500]\n",
      "----------------------------------------------------------------------\n"
     ]
    }
   ],
   "source": [
    "strct_crystal_AsAl = strct_crystal_conv.substitute_elements(elements=[\"Ga\", \"Al\"])\n",
    "print(strct_crystal_AsAl)"
   ]
  },
  {
   "cell_type": "markdown",
   "id": "863b4378-e895-4d0f-a8c7-5cfbe9299731",
   "metadata": {},
   "source": [
    "If the element is not part of the structure, no substitution can be conducted and the original object is returned"
   ]
  },
  {
   "cell_type": "code",
   "execution_count": 12,
   "id": "f77a174b-ca23-417c-a463-97620041020f",
   "metadata": {
    "execution": {
     "iopub.execute_input": "2024-10-15T07:34:21.578604Z",
     "iopub.status.busy": "2024-10-15T07:34:21.578230Z",
     "iopub.status.idle": "2024-10-15T07:34:21.582398Z",
     "shell.execute_reply": "2024-10-15T07:34:21.581794Z"
    }
   },
   "outputs": [
    {
     "name": "stdout",
     "output_type": "stream",
     "text": [
      "Both structure objects have the same id and remain unchanged: True\n",
      "----------------------------------------------------------------------\n",
      "---------------------- Structure: GaAs_crystal -----------------------\n",
      "----------------------------------------------------------------------\n",
      "\n",
      " Formula: Ga4As4\n",
      " PBC: [True True True]\n",
      "\n",
      "                                 Cell                                 \n",
      " Vectors: - [  8.1320   0.0000   0.0000]\n",
      "          - [  0.0000   8.1320   0.0000]\n",
      "          - [  0.0000   0.0000   8.1320]\n",
      " Lengths: [  8.1320   8.1320   8.1320]\n",
      " Angles: [ 90.0000  90.0000  90.0000]\n",
      " Volume: 537.7645\n",
      "\n",
      "                                Sites                                 \n",
      "  - Ga None  [  0.0000   0.0000   0.0000] [  0.0000   0.0000   0.0000]\n",
      "  - Ga None  [  0.0000   4.0660   4.0660] [  0.0000   0.5000   0.5000]\n",
      "  - Ga None  [  4.0660   0.0000   4.0660] [  0.5000   0.0000   0.5000]\n",
      "  - Ga None  [  4.0660   4.0660   0.0000] [  0.5000   0.5000   0.0000]\n",
      "  - As None  [  6.0990   6.0990   6.0990] [  0.7500   0.7500   0.7500]\n",
      "  - As None  [  2.0330   2.0330   6.0990] [  0.2500   0.2500   0.7500]\n",
      "  - As None  [  2.0330   6.0990   2.0330] [  0.2500   0.7500   0.2500]\n",
      "  - As None  [  6.0990   2.0330   2.0330] [  0.7500   0.2500   0.2500]\n",
      "----------------------------------------------------------------------\n"
     ]
    }
   ],
   "source": [
    "strct_crystal_GaAs = strct_crystal_conv.substitute_elements(elements=[\"C\", \"Al\"])\n",
    "print(\n",
    "    \"Both structure objects have the same id and remain unchanged:\",\n",
    "    id(strct_crystal_GaAs) == id(strct_crystal_conv),\n",
    ")\n",
    "print(strct_crystal_GaAs)"
   ]
  },
  {
   "cell_type": "raw",
   "id": "46b3b8dc",
   "metadata": {
    "raw_mimetype": "text/restructuredtext"
   },
   "source": [
    "External analysis and manipulation methods\n",
    "==========================================\n",
    "\n",
    "In addition to the methods implemented in the :class:`Structure <aim2dat.strct.Structure>` class less frequenetly used methods are implemented as functions in the :mod:`ext_analysis <aim2dat.strct.ext_analysis>` and :mod:`ext_manipulation <aim2dat.strct.ext_manipulation>` modules.\n",
    "To use these methods the :class:`Structure <aim2dat.strct.Structure>` object is passed as the first argument:"
   ]
  },
  {
   "cell_type": "code",
   "execution_count": 13,
   "id": "f6d4604a-b409-432e-a381-aef5c6d8b906",
   "metadata": {
    "execution": {
     "iopub.execute_input": "2024-10-15T07:34:21.585194Z",
     "iopub.status.busy": "2024-10-15T07:34:21.584828Z",
     "iopub.status.idle": "2024-10-15T07:34:21.596081Z",
     "shell.execute_reply": "2024-10-15T07:34:21.595474Z"
    }
   },
   "outputs": [],
   "source": [
    "from aim2dat.strct.ext_analysis import calculate_prdf\n",
    "\n",
    "prdf = calculate_prdf(strct_crystal_GaAs, r_max=7.5)"
   ]
  },
  {
   "cell_type": "raw",
   "id": "2bece310",
   "metadata": {
    "raw_mimetype": "text/restructuredtext"
   },
   "source": [
    "The calculated properties are still stored within the :class:`Structure <aim2dat.strct.Structure>` object if the :attr:`store_calculated_properties <aim2dat.strct.Structure.store_calculated_properties>` is set to ``True``:"
   ]
  },
  {
   "cell_type": "code",
   "execution_count": 14,
   "id": "091796b5-5c33-46eb-8666-5328ad067ea4",
   "metadata": {
    "execution": {
     "iopub.execute_input": "2024-10-15T07:34:21.598978Z",
     "iopub.status.busy": "2024-10-15T07:34:21.598608Z",
     "iopub.status.idle": "2024-10-15T07:34:21.619804Z",
     "shell.execute_reply": "2024-10-15T07:34:21.619192Z"
    }
   },
   "outputs": [
    {
     "data": {
      "text/plain": [
       "dict_keys(['prdf'])"
      ]
     },
     "execution_count": 14,
     "metadata": {},
     "output_type": "execute_result"
    }
   ],
   "source": [
    "strct_crystal_GaAs.extras.keys()"
   ]
  },
  {
   "cell_type": "raw",
   "id": "69ec066d",
   "metadata": {
    "raw_mimetype": "text/restructuredtext"
   },
   "source": [
    "It is also possible to define individual _analysis_ or _manipulation_ methods by using the corresponding decorators :meth:`external_analysis_method <aim2dat.strct.ext_analysis.decorator.external_analysis_method>` and :meth:`external_manipulation_method <aim2dat.strct.ext_manipulation.decorator.external_manipulation_method>`, respectively.\n",
    "\n",
    "For the `analysis` methods the first argument needs to be named `structure` with a :class:`Structure <aim2dat.strct.Structure>` object as input and the output needs to be a tuple with a length of two consisting of calculated attributes and extras.\n",
    "\n",
    "The function ``calculate_n_element`` shown below represents an example for an external analysis method.\n",
    "It determines how many atoms of a specific element are present in the :class:`Structure <aim2dat.strct.Structure>` and returns it in :attr:`extras <aim2dat.strct.Structure.extras>`."
   ]
  },
  {
   "cell_type": "code",
   "execution_count": 15,
   "id": "ef480ea2-d814-4fe3-8fd4-e2db953ad4ee",
   "metadata": {
    "execution": {
     "iopub.execute_input": "2024-10-15T07:34:21.622878Z",
     "iopub.status.busy": "2024-10-15T07:34:21.622499Z",
     "iopub.status.idle": "2024-10-15T07:34:21.645460Z",
     "shell.execute_reply": "2024-10-15T07:34:21.644860Z"
    }
   },
   "outputs": [
    {
     "data": {
      "text/plain": [
       "4"
      ]
     },
     "execution_count": 15,
     "metadata": {},
     "output_type": "execute_result"
    }
   ],
   "source": [
    "from aim2dat.strct.ext_analysis.decorator import external_analysis_method\n",
    "from aim2dat.utils.element_properties import get_element_symbol\n",
    "\n",
    "\n",
    "@external_analysis_method\n",
    "def determine_n_element(structure, element=\"H\"):\n",
    "    element = get_element_symbol(element)\n",
    "    if element in structure.chem_formula:\n",
    "        return (None, structure.chem_formula[element])\n",
    "    else:\n",
    "        return (None, 0)\n",
    "\n",
    "\n",
    "determine_n_element(strct_crystal_GaAs, \"Ga\")\n",
    "strct_crystal_GaAs.extras[\"n_element\"]"
   ]
  },
  {
   "cell_type": "raw",
   "id": "470b9c4c-7718-4a08-a98c-526c0f32415f",
   "metadata": {},
   "source": [
    "In addition to the first argument being named `structure` with type :class:`Structure <aim2dat.strct.Structure>` the last argument needs to be named `change_label` having the type bool.\n",
    "If structural changes are introduced the method should return either a :class:`Structure <aim2dat.strct.Structure>` object or a dictionary with the keyword arguments to initialize a :class:`Structure <aim2dat.strct.Structure>` object as well as the label-suffix as string object.\n",
    "Otherwise it should return ``Ǹone``.\n",
    "\n",
    "The function ``add_atom`` shown below gives an example for an external manipulation method. \n",
    "In case the element does not occur in the structure the original structure is returned.\n",
    "If an atom of the same element is already present in the structure the method adds an atom with the element and position defined by ``element`` and ``position``, respectively:"
   ]
  },
  {
   "cell_type": "code",
   "execution_count": 16,
   "id": "0309391c-fb8b-46b7-8551-5162de0bcd2b",
   "metadata": {
    "execution": {
     "iopub.execute_input": "2024-10-15T07:34:21.648478Z",
     "iopub.status.busy": "2024-10-15T07:34:21.648101Z",
     "iopub.status.idle": "2024-10-15T07:34:21.662789Z",
     "shell.execute_reply": "2024-10-15T07:34:21.662196Z"
    }
   },
   "outputs": [
    {
     "name": "stdout",
     "output_type": "stream",
     "text": [
      "----------------------------------------------------------------------\n",
      "------------------------ Structure: molecule -------------------------\n",
      "----------------------------------------------------------------------\n",
      "\n",
      " Formula: NH3\n",
      " PBC: [False False False]\n",
      "\n",
      "                                Sites                                 \n",
      "  - N  None  [  0.0000   0.0000   0.0000]\n",
      "  - H  None  [  0.0000   0.0000   1.0080]\n",
      "  - H  None  [  0.9504   0.0000  -0.3360]\n",
      "  - H  None  [ -0.4752  -0.8230  -0.3360]\n",
      "----------------------------------------------------------------------\n",
      "----------------------------------------------------------------------\n",
      "---------------------- Structure: molecule_add -----------------------\n",
      "----------------------------------------------------------------------\n",
      "\n",
      " Formula: NH4\n",
      " PBC: [False False False]\n",
      "\n",
      "                                Sites                                 \n",
      "  - N  None  [  0.0000   0.0000   0.0000]\n",
      "  - H  None  [  0.0000   0.0000   1.0080]\n",
      "  - H  None  [  0.9504   0.0000  -0.3360]\n",
      "  - H  None  [ -0.4752  -0.8230  -0.3360]\n",
      "  - H  None  [  3.0000   3.0000   3.0000]\n",
      "----------------------------------------------------------------------\n"
     ]
    }
   ],
   "source": [
    "from aim2dat.strct.ext_manipulation.decorator import external_manipulation_method\n",
    "from aim2dat.utils.element_properties import get_element_symbol\n",
    "\n",
    "@external_manipulation_method\n",
    "def add_atom(structure, element, position, change_label=False):\n",
    "    element = get_element_symbol(element)\n",
    "    if element in structure.elements:\n",
    "        new_structure = structure.to_dict()\n",
    "        new_structure[\"elements\"] = list(new_structure[\"elements\"]) + [element]\n",
    "        new_structure[\"positions\"] = list(new_structure[\"positions\"]) + [position]\n",
    "        if new_structure[\"kinds\"] is not None:\n",
    "            new_structure[\"kinds\"] = list(new_structure[\"kinds\"]) + [None]\n",
    "        for site_attr, val in new_structure[\"site_attributes\"].items():\n",
    "            new_structure[\"site_attributes\"][site_attr] = list(val) + [None]\n",
    "        return new_structure, \"_add\"\n",
    "\n",
    "new_structure = add_atom(strct_molecule, \"O\", [3.0, 3.0, 3.0], change_label=True)\n",
    "print(new_structure)\n",
    "new_structure = add_atom(strct_molecule, \"H\", [3.0, 3.0, 3.0], change_label=True)\n",
    "print(new_structure)"
   ]
  },
  {
   "cell_type": "raw",
   "id": "7ad82f9a",
   "metadata": {
    "raw_mimetype": "text/restructuredtext"
   },
   "source": [
    "Related examples\n",
    "================\n",
    "\n",
    "* :doc:`Calculating the coordination numbers for different atomic sites <examples/strct-coordination_number_analysis>`\n",
    "* :doc:`Calculating the F-Fingerprint to compare crystal structures <examples/strct-partial_rdf>`\n",
    "\n",
    "Related API instances\n",
    "=====================\n",
    "\n",
    "* :class:`Structure <aim2dat.strct.Structure>`"
   ]
  }
 ],
 "metadata": {
  "celltoolbar": "Raw Cell Format",
  "kernelspec": {
   "display_name": "Python 3 (ipykernel)",
   "language": "python",
   "name": "python3"
  },
  "language_info": {
   "codemirror_mode": {
    "name": "ipython",
    "version": 3
   },
   "file_extension": ".py",
   "mimetype": "text/x-python",
   "name": "python",
   "nbconvert_exporter": "python",
   "pygments_lexer": "ipython3",
   "version": "3.10.15"
  }
 },
 "nbformat": 4,
 "nbformat_minor": 5
}
