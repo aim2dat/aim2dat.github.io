{
 "cells": [
  {
   "cell_type": "raw",
   "id": "7c649dc9",
   "metadata": {
    "raw_mimetype": "text/restructuredtext"
   },
   "source": [
    "============================================================\n",
    "Interfaces to online databases and random crystal generation\n",
    "============================================================\n",
    "\n",
    "The :class:`StructureImporter <aim2dat.strct.StructureImporter>` class has the purpose to produce structure pools which can be further analysed or used as input for high-throughput workflows straightaway.\n",
    "As such the class offers interfaces to several online databases as well as to the |pyxtal_page| python package to randomly generate crystal structures."
   ]
  },
  {
   "cell_type": "code",
   "execution_count": 1,
   "id": "0bfb4f0a-e7e7-4959-aa7a-9241558d2f76",
   "metadata": {
    "execution": {
     "iopub.execute_input": "2024-10-15T07:34:23.226668Z",
     "iopub.status.busy": "2024-10-15T07:34:23.226470Z",
     "iopub.status.idle": "2024-10-15T07:34:24.305513Z",
     "shell.execute_reply": "2024-10-15T07:34:24.304753Z"
    }
   },
   "outputs": [],
   "source": [
    "from aim2dat.strct import StructureImporter\n",
    "\n",
    "strct_imp = StructureImporter()"
   ]
  },
  {
   "cell_type": "raw",
   "id": "5c158bc0",
   "metadata": {
    "raw_mimetype": "text/restructuredtext"
   },
   "source": [
    "Interfaces to the following databases are currently supported:\n",
    "\n",
    "* :meth:`import_from_mp <aim2dat.strct.StructureImporter.import_from_mp>` and :meth:`append_from_mp_by_id <aim2dat.strct.StructureImporter.append_from_mp_by_id>` query structures from the |mp_page|.\n",
    "* :meth:`import_from_oqmd <aim2dat.strct.StructureImporter.import_from_oqmd>` queries structure from the  |oqmd_page|.\n",
    "* :meth:`import_from_optimade <aim2dat.strct.StructureImporter.import_from_optimade>` connects to several databases via the |optimade_page|.\n",
    "\n",
    "Crystals can be imported by using the implemented ``import_*`` or ``append_*`` functions and giving the chemical formula for a specific stoichiometry or an element set as input parameter:\n",
    "\n",
    ".. |mp_page| raw:: html\n",
    "\n",
    "   <a href=\"https://materialsproject.org/\" target=\"_blank\">materials project (MP)</a>\n",
    "   \n",
    ".. |oqmd_page| raw:: html\n",
    "\n",
    "   <a href=\"https://oqmd.org/\" target=\"_blank\">open quantum materials database (OQMD)</a>\n",
    "   \n",
    ".. |optimade_page| raw:: html\n",
    "\n",
    "   <a href=\"https://optimade.org/\" target=\"_blank\">optimade interface</a>"
   ]
  },
  {
   "cell_type": "code",
   "execution_count": 2,
   "id": "26009b87",
   "metadata": {
    "execution": {
     "iopub.execute_input": "2024-10-15T07:34:24.308500Z",
     "iopub.status.busy": "2024-10-15T07:34:24.308180Z",
     "iopub.status.idle": "2024-10-15T07:34:41.653037Z",
     "shell.execute_reply": "2024-10-15T07:34:41.652318Z"
    }
   },
   "outputs": [],
   "source": [
    "Cs2Te_structures = strct_imp.import_from_oqmd(\"Cs2Te\")\n",
    "NaSb_structures = strct_imp.import_from_oqmd(\"Cs-Sb\")"
   ]
  },
  {
   "cell_type": "raw",
   "id": "d352dbac",
   "metadata": {
    "raw_mimetype": "text/restructuredtext"
   },
   "source": [
    "The imported structures of the query are returned as a :class:`StructureCollection <aim2dat.strct.StructureCollection>` object but also added to an internal  :class:`StructureCollection <aim2dat.strct.StructureCollection>` object within the :class:`StructureImporter <aim2dat.strct.StructureImporter>` class that can accessed via the :attr:`structures <aim2dat.strct.StructureImporter.structures>` property:"
   ]
  },
  {
   "cell_type": "code",
   "execution_count": 3,
   "id": "d026fe71",
   "metadata": {
    "execution": {
     "iopub.execute_input": "2024-10-15T07:34:41.656491Z",
     "iopub.status.busy": "2024-10-15T07:34:41.656053Z",
     "iopub.status.idle": "2024-10-15T07:34:41.660331Z",
     "shell.execute_reply": "2024-10-15T07:34:41.659748Z"
    }
   },
   "outputs": [
    {
     "name": "stdout",
     "output_type": "stream",
     "text": [
      "----------------------------------------------------------------------\n",
      "------------------------ Structure Collection ------------------------\n",
      "----------------------------------------------------------------------\n",
      "\n",
      " - Number of structures: 116\n",
      " - Elements: Cs-Sb-Te\n",
      "\n",
      "                              Structures                              \n",
      "  - OQMD_6763           Cs8Te4              [True  True  True ]\n",
      "  - OQMD_1239241        Cs4Te2              [True  True  True ]\n",
      "  - OQMD_1343671        Cs2Te               [True  True  True ]\n",
      "  - OQMD_1343380        Cs4Te2              [True  True  True ]\n",
      "  - OQMD_1473530        Cs2Te               [True  True  True ]\n",
      "  ...\n",
      "  - OQMD_1343518        Cs18Sb6             [True  True  True ]\n",
      "  - OQMD_1339303        Cs12Sb4             [True  True  True ]\n",
      "  - OQMD_1521868        Cs6Sb2              [True  True  True ]\n",
      "  - OQMD_1376097        Cs5Sb4              [True  True  True ]\n",
      "  - OQMD_650085         Cs20Sb32            [True  True  True ]\n",
      "----------------------------------------------------------------------\n"
     ]
    }
   ],
   "source": [
    "print(strct_imp.structures)"
   ]
  },
  {
   "cell_type": "markdown",
   "id": "bed09585",
   "metadata": {},
   "source": [
    "An overview of all imported structures is given by the string representation of the class:"
   ]
  },
  {
   "cell_type": "code",
   "execution_count": 4,
   "id": "2afa43f2",
   "metadata": {
    "execution": {
     "iopub.execute_input": "2024-10-15T07:34:41.663338Z",
     "iopub.status.busy": "2024-10-15T07:34:41.662722Z",
     "iopub.status.idle": "2024-10-15T07:34:41.666379Z",
     "shell.execute_reply": "2024-10-15T07:34:41.665745Z"
    }
   },
   "outputs": [
    {
     "name": "stdout",
     "output_type": "stream",
     "text": [
      "----------------------------------------------------------------------\n",
      "------------------------ Structure Collection ------------------------\n",
      "----------------------------------------------------------------------\n",
      "\n",
      "                         Imported from: oqmd                          \n",
      "   - Number of structures: 116\n",
      "   - Elements: Cs-Sb-Te\n",
      "\n",
      "----------------------------------------------------------------------\n",
      "\n",
      "                     Chemical element constraints                     \n",
      "   Neglecting elemental structures: False\n",
      "\n",
      "                     Chemical formula constraints                     \n",
      "   Not set.\n",
      "\n",
      "                        Attribute constraints                         \n",
      "   Not set.\n",
      "\n",
      "----------------------------------------------------------------------\n"
     ]
    }
   ],
   "source": [
    "print(strct_imp)"
   ]
  },
  {
   "cell_type": "raw",
   "id": "0e2ba7b2",
   "metadata": {
    "raw_mimetype": "text/restructuredtext"
   },
   "source": [
    "Adding constraints\n",
    "==================\n",
    "\n",
    "As you may have noticed in the string representation of the object, one can apply constraintsto the structures that are imported.\n",
    "Before a new structure is imported all of the set constraints are checked and only structures that abide all constraints are added.\n",
    "\n",
    "New constraints can be set via the functions:\n",
    "\n",
    "* :meth:`add_chem_formula_constraint <aim2dat.strct.StructureImporter.add_chem_formula_constraint>`\n",
    "* :meth:`set_concentration_constraint <aim2dat.strct.StructureImporter.set_concentration_constraint>`\n",
    "* :meth:`set_attribute_constraint <aim2dat.strct.StructureImporter.set_attribute_constraint>`\n",
    "\n",
    "Additionally, the :attr:`neglect_elemental_structures <aim2dat.strct.StructureImporter.neglect_elemental_structures>` property can be set to prevent importing structures merely consisting of one element.\n",
    "\n",
    "As an example, we set a constraint on the chemical formula:"
   ]
  },
  {
   "cell_type": "code",
   "execution_count": 5,
   "id": "f44b0f0b",
   "metadata": {
    "execution": {
     "iopub.execute_input": "2024-10-15T07:34:41.669222Z",
     "iopub.status.busy": "2024-10-15T07:34:41.668849Z",
     "iopub.status.idle": "2024-10-15T07:34:41.671876Z",
     "shell.execute_reply": "2024-10-15T07:34:41.671290Z"
    }
   },
   "outputs": [],
   "source": [
    "strct_imp.add_chem_formula_constraint(\"Na3Sb\")"
   ]
  },
  {
   "cell_type": "markdown",
   "id": "bef5ba38",
   "metadata": {},
   "source": [
    "Looking at the string representation, we find the new constraint listed with the additional information that the formula is 'reduced'. This means that also multiple of the formula, e.g. structures with the formula 'Na6Sb2' are allowed as well."
   ]
  },
  {
   "cell_type": "code",
   "execution_count": 6,
   "id": "d27f4e72",
   "metadata": {
    "execution": {
     "iopub.execute_input": "2024-10-15T07:34:41.674690Z",
     "iopub.status.busy": "2024-10-15T07:34:41.674319Z",
     "iopub.status.idle": "2024-10-15T07:34:41.677597Z",
     "shell.execute_reply": "2024-10-15T07:34:41.677014Z"
    }
   },
   "outputs": [
    {
     "name": "stdout",
     "output_type": "stream",
     "text": [
      "----------------------------------------------------------------------\n",
      "------------------------ Structure Collection ------------------------\n",
      "----------------------------------------------------------------------\n",
      "\n",
      "                         Imported from: oqmd                          \n",
      "   - Number of structures: 116\n",
      "   - Elements: Cs-Sb-Te\n",
      "\n",
      "----------------------------------------------------------------------\n",
      "\n",
      "                     Chemical element constraints                     \n",
      "   Neglecting elemental structures: False\n",
      "\n",
      "                     Chemical formula constraints                     \n",
      "   - Na3Sb (reduced)\n",
      "\n",
      "                        Attribute constraints                         \n",
      "   Not set.\n",
      "\n",
      "----------------------------------------------------------------------\n"
     ]
    }
   ],
   "source": [
    "print(strct_imp)"
   ]
  },
  {
   "cell_type": "markdown",
   "id": "8ea80999",
   "metadata": {},
   "source": [
    "In order to only allow structures with a specific composition, we can set the keyword argument `reduced_formula` to `False`:"
   ]
  },
  {
   "cell_type": "code",
   "execution_count": 7,
   "id": "b59c9951",
   "metadata": {
    "execution": {
     "iopub.execute_input": "2024-10-15T07:34:41.680416Z",
     "iopub.status.busy": "2024-10-15T07:34:41.680048Z",
     "iopub.status.idle": "2024-10-15T07:34:41.683721Z",
     "shell.execute_reply": "2024-10-15T07:34:41.683144Z"
    }
   },
   "outputs": [
    {
     "name": "stdout",
     "output_type": "stream",
     "text": [
      "----------------------------------------------------------------------\n",
      "------------------------ Structure Collection ------------------------\n",
      "----------------------------------------------------------------------\n",
      "\n",
      "                         Imported from: oqmd                          \n",
      "   - Number of structures: 116\n",
      "   - Elements: Cs-Sb-Te\n",
      "\n",
      "----------------------------------------------------------------------\n",
      "\n",
      "                     Chemical element constraints                     \n",
      "   Neglecting elemental structures: False\n",
      "\n",
      "                     Chemical formula constraints                     \n",
      "   - Na3Sb (reduced)\n",
      "   - Na2Sb2\n",
      "\n",
      "                        Attribute constraints                         \n",
      "   Not set.\n",
      "\n",
      "----------------------------------------------------------------------\n"
     ]
    }
   ],
   "source": [
    "strct_imp.add_chem_formula_constraint(\"Na2Sb2\", reduced_formula=False)\n",
    "print(strct_imp)"
   ]
  },
  {
   "cell_type": "markdown",
   "id": "b67c21d2",
   "metadata": {},
   "source": [
    "If we now import the binary system 'Na-Sb' from the open quantum materials database, we will only receive crystals with the composition 'Na2Sb2' or with a Na:Sb ratio of 3:1:"
   ]
  },
  {
   "cell_type": "code",
   "execution_count": 8,
   "id": "9592d88c",
   "metadata": {
    "execution": {
     "iopub.execute_input": "2024-10-15T07:34:41.686538Z",
     "iopub.status.busy": "2024-10-15T07:34:41.686145Z",
     "iopub.status.idle": "2024-10-15T07:34:50.420557Z",
     "shell.execute_reply": "2024-10-15T07:34:50.419849Z"
    }
   },
   "outputs": [
    {
     "name": "stdout",
     "output_type": "stream",
     "text": [
      "OQMD_8534 - Chem. formula constraint: Na doesn't match with Na3Sb, Na2Sb2.\n",
      "OQMD_8535 - Chem. formula constraint: Na2 doesn't match with Na3Sb, Na2Sb2.\n",
      "OQMD_30779 - Chem. formula constraint: Na3 doesn't match with Na3Sb, Na2Sb2.\n",
      "OQMD_1214546 - Chem. formula constraint: Na doesn't match with Na3Sb, Na2Sb2.\n",
      "OQMD_1214635 - Chem. formula constraint: Na doesn't match with Na3Sb, Na2Sb2.\n",
      "OQMD_1214724 - Chem. formula constraint: Na4 doesn't match with Na3Sb, Na2Sb2.\n",
      "OQMD_1214813 - Chem. formula constraint: Na29 doesn't match with Na3Sb, Na2Sb2.\n",
      "OQMD_1214902 - Chem. formula constraint: Na20 doesn't match with Na3Sb, Na2Sb2.\n",
      "OQMD_1214991 - Chem. formula constraint: Na8 doesn't match with Na3Sb, Na2Sb2.\n",
      "OQMD_1215080 - Chem. formula constraint: Na4 doesn't match with Na3Sb, Na2Sb2.\n",
      "OQMD_1215169 - Chem. formula constraint: Na doesn't match with Na3Sb, Na2Sb2.\n",
      "OQMD_1215258 - Chem. formula constraint: Na2 doesn't match with Na3Sb, Na2Sb2.\n",
      "OQMD_1215347 - Chem. formula constraint: Na2 doesn't match with Na3Sb, Na2Sb2.\n",
      "OQMD_1215437 - Chem. formula constraint: Na4 doesn't match with Na3Sb, Na2Sb2.\n",
      "OQMD_1215526 - Chem. formula constraint: Na2 doesn't match with Na3Sb, Na2Sb2.\n",
      "OQMD_1215615 - Chem. formula constraint: Na2 doesn't match with Na3Sb, Na2Sb2.\n",
      "OQMD_1215704 - Chem. formula constraint: Na doesn't match with Na3Sb, Na2Sb2.\n",
      "OQMD_1215793 - Chem. formula constraint: Na2 doesn't match with Na3Sb, Na2Sb2.\n",
      "OQMD_1215882 - Chem. formula constraint: Na3 doesn't match with Na3Sb, Na2Sb2.\n",
      "OQMD_1215971 - Chem. formula constraint: Na4 doesn't match with Na3Sb, Na2Sb2.\n",
      "OQMD_1216063 - Chem. formula constraint: Na3 doesn't match with Na3Sb, Na2Sb2.\n",
      "OQMD_1277928 - Chem. formula constraint: Na28 doesn't match with Na3Sb, Na2Sb2.\n",
      "OQMD_2030325 - Chem. formula constraint: Na doesn't match with Na3Sb, Na2Sb2.\n",
      "OQMD_2030329 - Chem. formula constraint: Na4 doesn't match with Na3Sb, Na2Sb2.\n",
      "OQMD_2015716 - Chem. formula constraint: Na8 doesn't match with Na3Sb, Na2Sb2.\n",
      "OQMD_2030326 - Chem. formula constraint: Na8 doesn't match with Na3Sb, Na2Sb2.\n",
      "OQMD_2054101 - Chem. formula constraint: Na48 doesn't match with Na3Sb, Na2Sb2.\n"
     ]
    },
    {
     "name": "stdout",
     "output_type": "stream",
     "text": [
      "Entry for OQMD_31044 already imported.\n",
      "Entry for OQMD_9214 already imported.\n",
      "Entry for OQMD_18780 already imported.\n",
      "Entry for OQMD_9672 already imported.\n",
      "Entry for OQMD_9221 already imported.\n",
      "Entry for OQMD_18986 already imported.\n",
      "Entry for OQMD_51014 already imported.\n",
      "Entry for OQMD_92588 already imported.\n",
      "Entry for OQMD_670516 already imported.\n",
      "Entry for OQMD_1215725 already imported.\n",
      "Entry for OQMD_676194 already imported.\n",
      "Entry for OQMD_1214567 already imported.\n",
      "Entry for OQMD_1214656 already imported.\n",
      "Entry for OQMD_1214745 already imported.\n",
      "Entry for OQMD_1214834 already imported.\n",
      "Entry for OQMD_1214923 already imported.\n",
      "Entry for OQMD_1215012 already imported.\n",
      "Entry for OQMD_1215101 already imported.\n",
      "Entry for OQMD_1215190 already imported.\n",
      "Entry for OQMD_1215279 already imported.\n",
      "Entry for OQMD_1215368 already imported.\n",
      "Entry for OQMD_1215458 already imported.\n",
      "Entry for OQMD_1215547 already imported.\n",
      "Entry for OQMD_1215636 already imported.\n",
      "Entry for OQMD_1215814 already imported.\n",
      "Entry for OQMD_1215903 already imported.\n",
      "Entry for OQMD_1215992 already imported.\n",
      "Entry for OQMD_1216084 already imported.\n",
      "Entry for OQMD_676462 already imported.\n",
      "Entry for OQMD_1277930 already imported.\n",
      "Entry for OQMD_1280366 already imported.\n",
      "Entry for OQMD_1522240 already imported.\n",
      "Entry for OQMD_1787572 already imported.\n"
     ]
    },
    {
     "name": "stdout",
     "output_type": "stream",
     "text": [
      "OQMD_306088 - Chem. formula constraint: NaSb doesn't match with Na3Sb, Na2Sb2.\n",
      "OQMD_327172 - Chem. formula constraint: NaSb doesn't match with Na3Sb, Na2Sb2.\n",
      "OQMD_337630 - Chem. formula constraint: NaSb doesn't match with Na3Sb, Na2Sb2.\n",
      "OQMD_5018 - Chem. formula constraint: Na8Sb8 doesn't match with Na3Sb, Na2Sb2.\n",
      "OQMD_1105273 - Chem. formula constraint: NaSb doesn't match with Na3Sb, Na2Sb2.\n",
      "OQMD_1108400 - Chem. formula constraint: Na4Sb4 doesn't match with Na3Sb, Na2Sb2.\n",
      "OQMD_1223474 - Chem. formula constraint: NaSb doesn't match with Na3Sb, Na2Sb2.\n",
      "OQMD_1230445 - Chem. formula constraint: NaSb doesn't match with Na3Sb, Na2Sb2.\n",
      "OQMD_1798866 - Chem. formula constraint: Na8Sb8 doesn't match with Na3Sb, Na2Sb2.\n",
      "OQMD_1240145 - Chem. formula constraint: Na2Sb4 doesn't match with Na3Sb, Na2Sb2.\n",
      "OQMD_1280912 - Chem. formula constraint: Na4Sb8 doesn't match with Na3Sb, Na2Sb2.\n",
      "OQMD_1435987 - Chem. formula constraint: Na2Sb4 doesn't match with Na3Sb, Na2Sb2.\n",
      "OQMD_1592744 - Chem. formula constraint: Na2Sb4 doesn't match with Na3Sb, Na2Sb2.\n",
      "OQMD_302790 - Chem. formula constraint: NaSb3 doesn't match with Na3Sb, Na2Sb2.\n",
      "OQMD_313332 - Chem. formula constraint: NaSb3 doesn't match with Na3Sb, Na2Sb2.\n",
      "OQMD_321867 - Chem. formula constraint: Na2Sb6 doesn't match with Na3Sb, Na2Sb2.\n",
      "OQMD_346353 - Chem. formula constraint: NaSb3 doesn't match with Na3Sb, Na2Sb2.\n",
      "OQMD_1277608 - Chem. formula constraint: Na2Sb6 doesn't match with Na3Sb, Na2Sb2.\n",
      "OQMD_1798772 - Chem. formula constraint: NaSb3 doesn't match with Na3Sb, Na2Sb2.\n",
      "OQMD_1438117 - Chem. formula constraint: Na4Sb20 doesn't match with Na3Sb, Na2Sb2.\n",
      "OQMD_1603356 - Chem. formula constraint: NaSb5 doesn't match with Na3Sb, Na2Sb2.\n",
      "OQMD_1240146 - Chem. formula constraint: Na4Sb2 doesn't match with Na3Sb, Na2Sb2.\n",
      "OQMD_1589918 - Chem. formula constraint: Na4Sb2 doesn't match with Na3Sb, Na2Sb2.\n",
      "OQMD_1340253 - Chem. formula constraint: Na6Sb4 doesn't match with Na3Sb, Na2Sb2.\n",
      "OQMD_1340156 - Chem. formula constraint: Na8Sb6 doesn't match with Na3Sb, Na2Sb2.\n",
      "OQMD_1339841 - Chem. formula constraint: Na5Sb4 doesn't match with Na3Sb, Na2Sb2.\n",
      "----------------------------------------------------------------------\n",
      "------------------------ Structure Collection ------------------------\n",
      "----------------------------------------------------------------------\n",
      "\n",
      " - Number of structures: 6\n",
      " - Elements: Na-Sb\n",
      "\n",
      "                              Structures                              \n",
      "  - OQMD_5156           Na6Sb2              [True  True  True ]\n",
      "  - OQMD_300783         Na3Sb               [True  True  True ]\n",
      "  - OQMD_311325         Na3Sb               [True  True  True ]\n",
      "  - OQMD_323874         Na6Sb2              [True  True  True ]\n",
      "  - OQMD_348360         Na3Sb               [True  True  True ]\n",
      "  - OQMD_2030774        Na3Sb               [True  True  True ]\n",
      "----------------------------------------------------------------------\n"
     ]
    }
   ],
   "source": [
    "structures_NaSb = strct_imp.import_from_oqmd(\"Na-Sb\")\n",
    "print(structures_NaSb)"
   ]
  },
  {
   "cell_type": "raw",
   "id": "b95a47bf",
   "metadata": {
    "raw_mimetype": "text/restructuredtext"
   },
   "source": [
    "All constraints can be removed via the function :attr:`remove_constraints <aim2dat.strct.StructureImporter.remove_constraints>`:"
   ]
  },
  {
   "cell_type": "code",
   "execution_count": 9,
   "id": "b46a373f",
   "metadata": {
    "execution": {
     "iopub.execute_input": "2024-10-15T07:34:50.423805Z",
     "iopub.status.busy": "2024-10-15T07:34:50.423250Z",
     "iopub.status.idle": "2024-10-15T07:34:50.427028Z",
     "shell.execute_reply": "2024-10-15T07:34:50.426431Z"
    }
   },
   "outputs": [
    {
     "name": "stdout",
     "output_type": "stream",
     "text": [
      "----------------------------------------------------------------------\n",
      "------------------------ Structure Collection ------------------------\n",
      "----------------------------------------------------------------------\n",
      "\n",
      "                         Imported from: oqmd                          \n",
      "   - Number of structures: 122\n",
      "   - Elements: Cs-Na-Sb-Te\n",
      "\n",
      "----------------------------------------------------------------------\n",
      "\n",
      "                     Chemical element constraints                     \n",
      "   Neglecting elemental structures: False\n",
      "\n",
      "                     Chemical formula constraints                     \n",
      "   Not set.\n",
      "\n",
      "                        Attribute constraints                         \n",
      "   Not set.\n",
      "\n",
      "----------------------------------------------------------------------\n"
     ]
    }
   ],
   "source": [
    "strct_imp.remove_constraints()\n",
    "print(strct_imp)"
   ]
  },
  {
   "cell_type": "raw",
   "id": "a445af97",
   "metadata": {
    "raw_mimetype": "text/restructuredtext"
   },
   "source": [
    "Generating random crystal structure interfacing the PyXtaL package\n",
    "==================================================================\n",
    "\n",
    "In addition to the interfaces to online databases the :class:`StructureImporter <aim2dat.strct.StructureImporter>` can also generate random crystal structures with a certain composition by making use of the |pyxtal_page| python package.\n",
    "\n",
    "To do so the function :meth:`generate_random_crystals <aim2dat.strct.StructureImporter.generate_random_crystals>` is used:\n",
    "\n",
    ".. |pyxtal_page| raw:: html\n",
    "\n",
    "   <a href=\"https://pyxtal.readthedocs.io/\" target=\"_blank\">PyXtaL</a>"
   ]
  },
  {
   "cell_type": "code",
   "execution_count": 10,
   "id": "2ff8f678",
   "metadata": {
    "execution": {
     "iopub.execute_input": "2024-10-15T07:34:50.430018Z",
     "iopub.status.busy": "2024-10-15T07:34:50.429393Z",
     "iopub.status.idle": "2024-10-15T07:34:52.047501Z",
     "shell.execute_reply": "2024-10-15T07:34:52.046783Z"
    }
   },
   "outputs": [
    {
     "name": "stdout",
     "output_type": "stream",
     "text": [
      "----------------------------------------------------------------------\n",
      "------------------------ Structure Collection ------------------------\n",
      "----------------------------------------------------------------------\n",
      "\n",
      " - Number of structures: 3\n",
      " - Elements: Cs-Te\n",
      "\n",
      "                              Structures                              \n",
      "  - pyxtal_8b1b7852043c482cb3637ae59e42b112 Cs12Te6             [True  True  True ]\n",
      "  - pyxtal_b7dde46a1439449ebbec70197cb71788 Cs4Te2              [True  True  True ]\n",
      "  - pyxtal_48157b8479b24f5792c210def0d39b3e Cs8Te4              [True  True  True ]\n",
      "----------------------------------------------------------------------\n"
     ]
    }
   ],
   "source": [
    "random_crystals = strct_imp.generate_random_crystals(\"Cs2Te\", max_structures=3)\n",
    "print(random_crystals)"
   ]
  },
  {
   "cell_type": "raw",
   "id": "265b816a",
   "metadata": {
    "raw_mimetype": "text/restructuredtext"
   },
   "source": [
    "Related examples\n",
    "================\n",
    "\n",
    "* :doc:`Querying crystals from online databases <examples/strct-odb_interfaces>`\n",
    "\n",
    "Related API instances\n",
    "=====================\n",
    "\n",
    "* :class:`StructureImporter <aim2dat.strct.StructureImporter>`"
   ]
  }
 ],
 "metadata": {
  "celltoolbar": "Raw Cell Format",
  "kernelspec": {
   "display_name": "Python 3 (ipykernel)",
   "language": "python",
   "name": "python3"
  },
  "language_info": {
   "codemirror_mode": {
    "name": "ipython",
    "version": 3
   },
   "file_extension": ".py",
   "mimetype": "text/x-python",
   "name": "python",
   "nbconvert_exporter": "python",
   "pygments_lexer": "ipython3",
   "version": "3.10.15"
  }
 },
 "nbformat": 4,
 "nbformat_minor": 5
}
