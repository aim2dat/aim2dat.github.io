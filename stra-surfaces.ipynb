{
 "cells": [
  {
   "cell_type": "raw",
   "id": "a0233790",
   "metadata": {
    "raw_mimetype": "text/restructuredtext"
   },
   "source": [
    "====================================\n",
    "Creating surfaces from bulk crystals\n",
    "====================================\n",
    "\n",
    "The :class:`SurfaceGeneration <aim2dat.strct.SurfaceGeneration>` class has the purpose to otain surfaces from bulk crystals based on the Miller indices of the surface direction.\n",
    "Details on the implementation and an application is given in :doi:`10.1038/s41524-024-01224-7`.\n",
    "\n",
    "Starting point is a bulk crystal, here we take the cubic GaAs phase which is set upon initialization of the :class:`SurfaceGeneration <aim2dat.strct.SurfaceGeneration>` object:"
   ]
  },
  {
   "cell_type": "code",
   "execution_count": 1,
   "id": "9fd9807b",
   "metadata": {
    "execution": {
     "iopub.execute_input": "2024-11-07T12:06:59.929656Z",
     "iopub.status.busy": "2024-11-07T12:06:59.929458Z",
     "iopub.status.idle": "2024-11-07T12:07:00.953955Z",
     "shell.execute_reply": "2024-11-07T12:07:00.953251Z"
    }
   },
   "outputs": [],
   "source": [
    "from aim2dat.strct import Structure, SurfaceGeneration\n",
    "\n",
    "strct_crystal = Structure(\n",
    "    label=\"GaAs\",\n",
    "    elements=[\"Ga\", \"As\"],\n",
    "    positions=[\n",
    "        [0.0, 0.0, 0.0],\n",
    "        [0.75, 0.75, 0.75],\n",
    "    ],\n",
    "    cell=[\n",
    "        [0.0, 4.066, 4.0660001],\n",
    "        [4.066, 0.0, 4.066],\n",
    "        [4.066, 4.066, 0.0],\n",
    "    ],\n",
    "    is_cartesian=False,\n",
    "    pbc=[True, True, True],\n",
    ")\n",
    "\n",
    "surf_gen = SurfaceGeneration(strct_crystal)"
   ]
  },
  {
   "cell_type": "raw",
   "id": "64bb2bf4",
   "metadata": {
    "raw_mimetype": "text/restructuredtext"
   },
   "source": [
    "For the cubic system there are three different low index directions: denoted by the (100), (110) and the (111) Miller indices. We can quickly create surface slabs by calling the function :meth:`generate_surface_slabs <aim2dat.strct.SurfaceGeneration.generate_surface_slabs>` which returns a :class:`StructureCollection <aim2dat.strct.StructureCollection>` object containing one surface for each termination:"
   ]
  },
  {
   "cell_type": "code",
   "execution_count": 2,
   "id": "c02f1b1c",
   "metadata": {
    "execution": {
     "iopub.execute_input": "2024-11-07T12:07:00.957406Z",
     "iopub.status.busy": "2024-11-07T12:07:00.957079Z",
     "iopub.status.idle": "2024-11-07T12:07:00.996779Z",
     "shell.execute_reply": "2024-11-07T12:07:00.996143Z"
    }
   },
   "outputs": [],
   "source": [
    "surfaces_100 = surf_gen.generate_surface_slabs(\n",
    "    miller_indices=(1, 0, 0),\n",
    "    nr_layers=5,\n",
    "    periodic=False,\n",
    "    vacuum=10.0,\n",
    "    vacuum_factor=0.0,\n",
    "    symmetrize=True,\n",
    "    tolerance=0.01,\n",
    "    symprec=0.005,\n",
    "    angle_tolerance=-1.0,\n",
    "    hall_number=0,\n",
    ")"
   ]
  },
  {
   "cell_type": "markdown",
   "id": "0bfa5e4f",
   "metadata": {},
   "source": [
    "The following arguments of the function control the slab's properties:\n",
    "\n",
    "* `miller_indices`: gives the surface direction. Since Miller indices are usually defined for the conventional unit cell (in this example we created the primitve unit cell) the class makes use of the <a href=\"https://spglib.readthedocs.io\" target=\"_blank\">spglib python package</a> to transform the primitive into the conventional unit cell before using the <a href=\"https://wiki.fysik.dtu.dk/ase\" target=\"_blank\">ase python package</a> to obtain the surface structures.\n",
    "  The last 3 keyword arguments are therefore directly passed to the spglib function to determine the space group.\n",
    "* `nr_layers`: defines the slab size in the non-periodic direction normal to the surface plane in repetition units.\n",
    "* `periodic`: periodic boundary condition in the direction normal to the surface plane.\n",
    "* `vacuum`: amount of vacuum space added to separate the bottom and top surface facet.\n",
    "* `vacuum_factor`: overwrites the `vacuum` argument if larger than `0.0`. It adds vacuum space as a multiple of the slab size.\n",
    "* `symmetrize`: whether to return a slab with two equivalent terminations on each side or an asymmetric slab which maintains the stoichiometry of the bulk crystal (the bottom and top termination may be unequivalent).\n",
    "* `tolerance`: numerical tolerance parameter to determine equivalent terminations.\n",
    "* `symprec`, `angle_tolerance` and `hall_number` are parameters passed to spglib to determine the conventional unit cell of the input crystal.\n",
    "\n",
    "The algorithm found two different terminations for the (100) direction:"
   ]
  },
  {
   "cell_type": "code",
   "execution_count": 3,
   "id": "bb105d98",
   "metadata": {
    "execution": {
     "iopub.execute_input": "2024-11-07T12:07:00.999840Z",
     "iopub.status.busy": "2024-11-07T12:07:00.999601Z",
     "iopub.status.idle": "2024-11-07T12:07:01.004716Z",
     "shell.execute_reply": "2024-11-07T12:07:01.004070Z"
    }
   },
   "outputs": [
    {
     "name": "stdout",
     "output_type": "stream",
     "text": [
      "----------------------------------------------------------------------\n",
      "------------------------ Structure Collection ------------------------\n",
      "----------------------------------------------------------------------\n",
      "\n",
      " - Number of structures: 2\n",
      " - Elements: As-Ga\n",
      "\n",
      "                              Structures                              \n",
      "  - GaAs_100_1          Ga22As20            [True  True  False]\n",
      "  - GaAs_100_2          As22Ga20            [True  True  False]\n",
      "----------------------------------------------------------------------\n"
     ]
    }
   ],
   "source": [
    "print(surfaces_100)"
   ]
  },
  {
   "cell_type": "raw",
   "id": "9ed9827f",
   "metadata": {
    "raw_mimetype": "text/restructuredtext"
   },
   "source": [
    "Surfaces as input to high-throughput workflows and AiiDA integration\n",
    "====================================================================\n",
    "\n",
    "In order to automatically converge the slab size in an efficient way it is useful to have all the building blocks to create different slabs with a certain termination.\n",
    "This information can be returned using the :meth:`create_surface <aim2dat.strct.SurfaceGeneration.create_surface>` function, e.g. in this case for the first termination of the (100) direction:"
   ]
  },
  {
   "cell_type": "code",
   "execution_count": 4,
   "id": "b0807631",
   "metadata": {
    "execution": {
     "iopub.execute_input": "2024-11-07T12:07:01.007857Z",
     "iopub.status.busy": "2024-11-07T12:07:01.007611Z",
     "iopub.status.idle": "2024-11-07T12:07:01.023102Z",
     "shell.execute_reply": "2024-11-07T12:07:01.022448Z"
    }
   },
   "outputs": [
    {
     "data": {
      "text/plain": [
       "dict_keys(['repeating_structure', 'bottom_structure', 'top_structure', 'top_structure_nsym'])"
      ]
     },
     "execution_count": 4,
     "metadata": {},
     "output_type": "execute_result"
    }
   ],
   "source": [
    "surf_details = surf_gen.create_surface(\n",
    "    miller_indices=(1, 0, 0),\n",
    "    termination=1,\n",
    "    tolerance=0.01,\n",
    "    symprec=0.005,\n",
    "    angle_tolerance=-1.0,\n",
    "    hall_number=0,\n",
    ")\n",
    "surf_details.keys()"
   ]
  },
  {
   "cell_type": "raw",
   "id": "a1f155b1",
   "metadata": {
    "raw_mimetype": "text/restructuredtext"
   },
   "source": [
    "The output of the function is a dictionary containing the different building blocks to construct a surface slab:\n",
    "\n",
    "* The key ``'repeating_structure'`` contains the structure which is repeated and translated in the non-periodic direction (the number repititions defines the number of layers).\n",
    "* The key ``'bottom_structure'`` obtains the structure of the bottom termination of the slab.\n",
    "* The keys ``'top_structure'`` and ``'top_structure_nsym'`` contain the terminations for a symmetric or a stoichiometric slab, respectively. In case the symmetric slab is already stoichiometric ``'top_structure_nsym'`` is set to ``None``.\n",
    "\n",
    "The :class:`SurfaceData <aim2dat.aiida_data.surface_data.SurfaceData>` class can store exactly this information as an AiiDA data node and the calculation function :meth:`create_surface_slab <aim2dat.aiida_workflows.utils.create_surface_slab>` can be included in high-throughput workflows to create surface slabs on the fly.\n",
    "\n",
    "The AiiDA :class:`SurfaceData <aim2dat.aiida_data.surface_data.SurfaceData>` node can also be created straight-away using the :class:`SurfaceGeneration <aim2dat.strct.SurfaceGeneration>` class:"
   ]
  },
  {
   "cell_type": "code",
   "execution_count": 5,
   "id": "7af0a9c3",
   "metadata": {
    "execution": {
     "iopub.execute_input": "2024-11-07T12:07:01.025984Z",
     "iopub.status.busy": "2024-11-07T12:07:01.025729Z",
     "iopub.status.idle": "2024-11-07T12:07:01.774835Z",
     "shell.execute_reply": "2024-11-07T12:07:01.774114Z"
    }
   },
   "outputs": [],
   "source": [
    "from aiida import load_profile\n",
    "\n",
    "load_profile(\"tests\")\n",
    "\n",
    "surf_node = surf_gen.to_aiida_surfacedata(miller_indices=(1, 0, 0))"
   ]
  },
  {
   "cell_type": "raw",
   "id": "e0c5e370",
   "metadata": {
    "raw_mimetype": "text/restructuredtext"
   },
   "source": [
    "And all data nodes for specific Miller indices can be stored in the database in a group using the :meth:`store_surfaces_in_aiida_db <aim2dat.strct.SurfaceGeneration.store_surfaces_in_aiida_db>` function:"
   ]
  },
  {
   "cell_type": "code",
   "execution_count": 6,
   "id": "258e84a6",
   "metadata": {
    "execution": {
     "iopub.execute_input": "2024-11-07T12:07:01.778474Z",
     "iopub.status.busy": "2024-11-07T12:07:01.778213Z",
     "iopub.status.idle": "2024-11-07T12:07:01.907742Z",
     "shell.execute_reply": "2024-11-07T12:07:01.907118Z"
    }
   },
   "outputs": [
    {
     "name": "stderr",
     "output_type": "stream",
     "text": [
      "Node hashing failed\n",
      "Traceback (most recent call last):\n",
      "  File \"/opt/hostedtoolcache/Python/3.10.15/x64/lib/python3.10/site-packages/aiida/orm/nodes/caching.py\", line 59, in _get_objects_to_hash\n",
      "    version = importlib.import_module(top_level_module).__version__\n",
      "AttributeError: module 'aim2dat' has no attribute '__version__'\n",
      "\n",
      "The above exception was the direct cause of the following exception:\n",
      "\n",
      "Traceback (most recent call last):\n",
      "  File \"/opt/hostedtoolcache/Python/3.10.15/x64/lib/python3.10/site-packages/aiida/orm/nodes/caching.py\", line 47, in _get_hash\n",
      "    return make_hash(self._get_objects_to_hash(), **kwargs)\n",
      "  File \"/opt/hostedtoolcache/Python/3.10.15/x64/lib/python3.10/site-packages/aiida/orm/nodes/caching.py\", line 61, in _get_objects_to_hash\n",
      "    raise exceptions.HashingError(\"The node's package version could not be determined\") from exc\n",
      "aiida.common.exceptions.HashingError: The node's package version could not be determined\n"
     ]
    },
    {
     "name": "stderr",
     "output_type": "stream",
     "text": [
      "Node hashing failed\n",
      "Traceback (most recent call last):\n",
      "  File \"/opt/hostedtoolcache/Python/3.10.15/x64/lib/python3.10/site-packages/aiida/orm/nodes/caching.py\", line 59, in _get_objects_to_hash\n",
      "    version = importlib.import_module(top_level_module).__version__\n",
      "AttributeError: module 'aim2dat' has no attribute '__version__'\n",
      "\n",
      "The above exception was the direct cause of the following exception:\n",
      "\n",
      "Traceback (most recent call last):\n",
      "  File \"/opt/hostedtoolcache/Python/3.10.15/x64/lib/python3.10/site-packages/aiida/orm/nodes/caching.py\", line 47, in _get_hash\n",
      "    return make_hash(self._get_objects_to_hash(), **kwargs)\n",
      "  File \"/opt/hostedtoolcache/Python/3.10.15/x64/lib/python3.10/site-packages/aiida/orm/nodes/caching.py\", line 61, in _get_objects_to_hash\n",
      "    raise exceptions.HashingError(\"The node's package version could not be determined\") from exc\n",
      "aiida.common.exceptions.HashingError: The node's package version could not be determined\n"
     ]
    },
    {
     "data": {
      "text/plain": [
       "[<SurfaceData: uuid: b7615421-ea3f-49f0-ba68-179b20a3d3ae (pk: 218)>,\n",
       " <SurfaceData: uuid: 0e351526-8eea-41a7-b309-a0285eea07c8 (pk: 219)>]"
      ]
     },
     "execution_count": 6,
     "metadata": {},
     "output_type": "execute_result"
    }
   ],
   "source": [
    "surf_gen.store_surfaces_in_aiida_db(\n",
    "    miller_indices=(1, 0, 0), group_label=\"GaAs_100_surfaces\"\n",
    ")"
   ]
  }
 ],
 "metadata": {
  "celltoolbar": "Raw Cell Format",
  "kernelspec": {
   "display_name": "Python 3 (ipykernel)",
   "language": "python",
   "name": "python3"
  },
  "language_info": {
   "codemirror_mode": {
    "name": "ipython",
    "version": 3
   },
   "file_extension": ".py",
   "mimetype": "text/x-python",
   "name": "python",
   "nbconvert_exporter": "python",
   "pygments_lexer": "ipython3",
   "version": "3.10.15"
  }
 },
 "nbformat": 4,
 "nbformat_minor": 5
}
