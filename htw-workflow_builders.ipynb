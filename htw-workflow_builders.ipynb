{
 "cells": [
  {
   "cell_type": "raw",
   "id": "c472f096",
   "metadata": {
    "raw_mimetype": "text/restructuredtext"
   },
   "source": [
    "======================================================\n",
    "Handling complex workflows using the workflow builders\n",
    "======================================================\n",
    "\n",
    "The :class:`WorkflowBuilder <aim2dat.aiida_workflows.workflow_builder.WorkflowBuilder>` and :class:`MultipleWorkflowBuilder <aim2dat.aiida_workflows.workflow_builder.MultipleWorkflowBuilder>` classes are designed to manage extended workflows consisting of a conjunction of different AiiDA processes. Input-parameters and logical dependencies can be defined in a protocol which is given as a specifically formated python-dictionary or written in a yaml-file.\n",
    "The objects can determine the current state (accomplished tasks) of a workflow for a given AiiDA `parent-node` and generate the input-parameters for the next task of the workflow.\n",
    "While the :class:`WorkflowBuilder <aim2dat.aiida_workflows.workflow_builder.WorkflowBuilder>` class controls the workflow for a single `parent-node` the :class:`MultipleWorkflowBuilder <aim2dat.aiida_workflows.workflow_builder.MultipleWorkflowBuilder>` class consists of several :class:`WorkflowBuilder <aim2dat.aiida_workflows.workflow_builder.WorkflowBuilder>`'s instances and can handle multiple `parent-nodes` using the same workflow protocol for each.\n",
    "\n",
    "In the following we use the WorkflowBuilder class to examplify the user interface, however, setting the workflow protocol and input parameters works the same for both objects.\n",
    "First, the appropriate AiiDA profile is loaded and an instance of the class is created:"
   ]
  },
  {
   "cell_type": "code",
   "execution_count": 1,
   "id": "bcd1a884-a5ba-4e08-937e-304d1ac3fc94",
   "metadata": {
    "execution": {
     "iopub.execute_input": "2024-10-15T07:33:07.815250Z",
     "iopub.status.busy": "2024-10-15T07:33:07.814848Z",
     "iopub.status.idle": "2024-10-15T07:33:09.466994Z",
     "shell.execute_reply": "2024-10-15T07:33:09.466296Z"
    }
   },
   "outputs": [],
   "source": [
    "from aim2dat.aiida_workflows.workflow_builder import WorkflowBuilder\n",
    "import aiida\n",
    "\n",
    "aiida.load_profile(\"tests\")\n",
    "wf_builder = WorkflowBuilder()"
   ]
  },
  {
   "cell_type": "markdown",
   "id": "460eddeb",
   "metadata": {},
   "source": [
    "## The workflow protocol\n",
    "\n",
    "The workflow protocols consists of three different sections:\n",
    "\n",
    "* _tasks_: Is a dictionary containing the details and dependencies for the tasks that can be run with the current workflow.\n",
    "* _general_input_: defines the preset parameters shared by all work chains.\n",
    "* _user_input_: defines input parameters that are set by the user.\n",
    "\n",
    "All predefined protocols are found in the folder: \"aim2dat/aim2dat/aiida_workflows/protocols/\".\n",
    "The workflow protocols support versions, which the suffix `\"_v*.*\"` (* denotes an integer number) a specific protocol version can be chosen.\n",
    "If the suffix is omitted the latest protocol version is chosen.\n",
    "At the moment the following protocols are implemented:\n",
    "\n",
    "| Protocol                            | Latest version | Description                    |\n",
    "| ----------------------------------- | -------------- | ------------------------------ |\n",
    "| _arithmetic-testing_                | v1.1           | Protocol for testing purposes. |\n",
    "| _seekpath-standard_                 | v1.0           | Protocol for a seek-path analysis. |\n",
    "| _cp2k-crystal-mofs_                 | v2.0           | Protocol to run DFT calculations on MOFs using CP2K. |\n",
    "| _cp2k-crystal-preopt_               | v3.1           | Protocol to pre-optimize inorganic crystals with loose parameters using CP2K. |\n",
    "| _cp2k-crystal-standard_             | v3.2           | Standard protocol to run DFT calculations on inorganic crystals using CP2K (<a href=\"https://doi.org/10.1063/5.0082710\" target=\"_blank\">doi:10.1063/5.0082710</a>). |\n",
    "| _cp2k-crystal-standard-keep-angles_ | v1.1           | Standard protocol for inorganic crystals but constraining lattice parameters. |\n",
    "| _cp2k-surface-standard_             | v1.0           | Protocol to run the surface workflow using CP2K. |\n",
    "| _cp2k-crystal-testing_              | v2.0           | Protocol to test the workflow for inorganic crystals with loose parameters using CP2K. |\n",
    "| _cp2k-surface-testing_              | v1.0           | Protocol to test the surface workflow with loose parameters using CP2K. |"
   ]
  },
  {
   "cell_type": "raw",
   "id": "f795d7ac",
   "metadata": {
    "raw_mimetype": "text/restructuredtext"
   },
   "source": [
    "The protocol can be loaded by using the property :attr:`protocol` <aim2dat.aiida_workflows.workflow_builder.WorkflowBuilder.protocol>` (same property for both classes), in this case we use a test protocol that is merely based on the arithmetic `add_multiply` calcfunction. In general workflows can combine any kind of AiiDA processes defining input-parameters and dependencies."
   ]
  },
  {
   "cell_type": "code",
   "execution_count": 2,
   "id": "09261f43-ddc6-4fcf-b7ce-515fc54f0358",
   "metadata": {
    "execution": {
     "iopub.execute_input": "2024-10-15T07:33:09.470192Z",
     "iopub.status.busy": "2024-10-15T07:33:09.469756Z",
     "iopub.status.idle": "2024-10-15T07:33:09.599235Z",
     "shell.execute_reply": "2024-10-15T07:33:09.598563Z"
    }
   },
   "outputs": [],
   "source": [
    "wf_builder.protocol = \"arithmetic-testing\""
   ]
  },
  {
   "cell_type": "raw",
   "id": "7d9e5286",
   "metadata": {
    "raw_mimetype": "text/restructuredtext"
   },
   "source": [
    "All tasks of the workflow can be printed with the property :attr:`tasks` <aim2dat.aiida_workflows.workflow_builder.WorkflowBuilder.tasks>`:"
   ]
  },
  {
   "cell_type": "code",
   "execution_count": 3,
   "id": "336c1c80-3ab9-48de-9d48-748643d425dc",
   "metadata": {
    "execution": {
     "iopub.execute_input": "2024-10-15T07:33:09.602274Z",
     "iopub.status.busy": "2024-10-15T07:33:09.601697Z",
     "iopub.status.idle": "2024-10-15T07:33:09.608995Z",
     "shell.execute_reply": "2024-10-15T07:33:09.608373Z"
    }
   },
   "outputs": [
    {
     "data": {
      "text/plain": [
       "{'task_1.1': {'dependencies': {}, 'process': 'core.arithmetic.add_multiply'},\n",
       " 'task_1.2': {'dependencies': {}, 'process': 'core.arithmetic.add_multiply'},\n",
       " 'task_1.3': {'dependencies': {}, 'process': 'core.arithmetic.add_multiply'},\n",
       " 'task_2.1': {'dependencies': {'task_1.2': [['result', 'x']],\n",
       "   'task_1.3': [['result', 'z']]},\n",
       "  'process': 'core.arithmetic.add_multiply'},\n",
       " 'task_2.2': {'dependencies': {'task_1.3': [['result', 'y']]},\n",
       "  'process': 'core.arithmetic.add_multiply'},\n",
       " 'task_3.1': {'dependencies': {'task_1.1': [['result', 'x']],\n",
       "   'task_2.1': [['result', 'y']],\n",
       "   'task_2.2': [['result', 'z']]},\n",
       "  'process': 'core.arithmetic.add_multiply'},\n",
       " 'task_4.1': {'dependencies': {'task_3.1': [['result', 'x']],\n",
       "   'task_1.2': [['result', 'z']]},\n",
       "  'process': 'core.arithmetic.add_multiply'}}"
      ]
     },
     "execution_count": 3,
     "metadata": {},
     "output_type": "execute_result"
    }
   ],
   "source": [
    "wf_builder.tasks"
   ]
  },
  {
   "cell_type": "markdown",
   "id": "fb95710f-51ac-4b78-875f-0bc385321515",
   "metadata": {},
   "source": [
    "## Setting up the input parameters and parent node\n",
    "\n",
    "The provenance of the workflow is defined via the parent node, it is input for all initial tasks of the workflow.\n",
    "Here, we create a new aiida node without history and pass it to the builder-object:"
   ]
  },
  {
   "cell_type": "code",
   "execution_count": 4,
   "id": "7b2574e3-cb75-45a2-b4dd-63fb1b24e361",
   "metadata": {
    "execution": {
     "iopub.execute_input": "2024-10-15T07:33:09.611474Z",
     "iopub.status.busy": "2024-10-15T07:33:09.611021Z",
     "iopub.status.idle": "2024-10-15T07:33:09.617878Z",
     "shell.execute_reply": "2024-10-15T07:33:09.617264Z"
    }
   },
   "outputs": [
    {
     "name": "stderr",
     "output_type": "stream",
     "text": [
      "/opt/hostedtoolcache/Python/3.10.15/x64/lib/python3.10/site-packages/aiida/plugins/entry_point.py:349: AiidaDeprecationWarning: The entry point `float` is deprecated. Please replace it with `core.float`. (this will be removed in v3)\n",
      "  warn_deprecation(f'The entry point `{name}` is deprecated. Please replace it with `core.{name}`.', version=3)\n"
     ]
    }
   ],
   "source": [
    "from aiida.plugins import DataFactory\n",
    "\n",
    "Float = DataFactory(\"core.float\")\n",
    "parent_node = Float(4)\n",
    "\n",
    "wf_builder.parent_node = parent_node"
   ]
  },
  {
   "cell_type": "markdown",
   "id": "ed2b4584-6c5f-40d2-9fc1-1fe46538661d",
   "metadata": {},
   "source": [
    "And we can set additional input-parameters (parameters can be given as python types or AiiDA nodes). A dash and subsequent greater than sign (_->_) highlight an individual input parameter defined for just one task of the workflow."
   ]
  },
  {
   "cell_type": "code",
   "execution_count": 5,
   "id": "5f301b08-07a3-4e74-b772-9979e748e75b",
   "metadata": {
    "execution": {
     "iopub.execute_input": "2024-10-15T07:33:09.620286Z",
     "iopub.status.busy": "2024-10-15T07:33:09.619919Z",
     "iopub.status.idle": "2024-10-15T07:33:09.623315Z",
     "shell.execute_reply": "2024-10-15T07:33:09.622708Z"
    }
   },
   "outputs": [],
   "source": [
    "wf_builder.set_user_input(\"y\", 5)\n",
    "wf_builder.set_user_input(\"y->task_4.1\", 11.0)"
   ]
  },
  {
   "cell_type": "raw",
   "id": "462ea8b7",
   "metadata": {
    "raw_mimetype": "text/restructuredtext"
   },
   "source": [
    "Checking the workflow state\n",
    "===========================\n",
    "\n",
    "At any time we can check the status of the workflow via the method :meth:`determine_workflow_state <aim2dat.aiida_workflows.workflow_builder.WorkflowBuilder.determine_workflow_state>`:"
   ]
  },
  {
   "cell_type": "code",
   "execution_count": 6,
   "id": "36deb911-820e-4499-b2ec-87792bb13fad",
   "metadata": {
    "execution": {
     "iopub.execute_input": "2024-10-15T07:33:09.625688Z",
     "iopub.status.busy": "2024-10-15T07:33:09.625330Z",
     "iopub.status.idle": "2024-10-15T07:33:09.656802Z",
     "shell.execute_reply": "2024-10-15T07:33:09.656283Z"
    }
   },
   "outputs": [
    {
     "data": {
      "text/plain": [
       "{'next_possible_tasks': ['task_1.1', 'task_1.2', 'task_1.3'],\n",
       " 'completed_tasks': [],\n",
       " 'running_tasks': [],\n",
       " 'failed_tasks': []}"
      ]
     },
     "execution_count": 6,
     "metadata": {},
     "output_type": "execute_result"
    }
   ],
   "source": [
    "wf_builder.determine_workflow_state()"
   ]
  },
  {
   "cell_type": "markdown",
   "id": "1224f06c-8179-442e-9146-18d10fc89263",
   "metadata": {},
   "source": [
    "The builder checks whether any work chains with matching input parameters have been performed on the structure. In this case there are no processes run that conform the workflow protocol."
   ]
  },
  {
   "cell_type": "markdown",
   "id": "adefd41e-3ec1-4164-adb3-4f00ceefb091",
   "metadata": {},
   "source": [
    "## Executing workflow tasks\n",
    "\n",
    "The input for the initial task can be created using the 'builder'-method of the AiiDA work chain or calculation or a dictionary of input-parameters for AiiDA calcfunctions:"
   ]
  },
  {
   "cell_type": "code",
   "execution_count": 7,
   "id": "982109f0-97c4-45f2-bc87-50f9bbf46230",
   "metadata": {
    "execution": {
     "iopub.execute_input": "2024-10-15T07:33:09.659263Z",
     "iopub.status.busy": "2024-10-15T07:33:09.658914Z",
     "iopub.status.idle": "2024-10-15T07:33:10.366844Z",
     "shell.execute_reply": "2024-10-15T07:33:10.366267Z"
    }
   },
   "outputs": [],
   "source": [
    "from aiida.engine import run\n",
    "\n",
    "wc_builder = wf_builder.generate_inputs(\"task_1.1\")\n",
    "result = run(**wc_builder)"
   ]
  },
  {
   "cell_type": "markdown",
   "id": "ab404971-213e-4ce2-b140-83d2b7eb1189",
   "metadata": {},
   "source": [
    "If we check the workflow again, we see that the task 'task_1.1' is accomplished and we can continue with the next task:"
   ]
  },
  {
   "cell_type": "code",
   "execution_count": 8,
   "id": "18885d58-70a6-4e39-881f-5d593dd7b49b",
   "metadata": {
    "execution": {
     "iopub.execute_input": "2024-10-15T07:33:10.369642Z",
     "iopub.status.busy": "2024-10-15T07:33:10.369380Z",
     "iopub.status.idle": "2024-10-15T07:33:10.448922Z",
     "shell.execute_reply": "2024-10-15T07:33:10.448345Z"
    }
   },
   "outputs": [
    {
     "data": {
      "text/plain": [
       "{'next_possible_tasks': ['task_1.2', 'task_1.3'],\n",
       " 'completed_tasks': ['task_1.1'],\n",
       " 'running_tasks': [],\n",
       " 'failed_tasks': []}"
      ]
     },
     "execution_count": 8,
     "metadata": {},
     "output_type": "execute_result"
    }
   ],
   "source": [
    "wf_builder.determine_workflow_state()"
   ]
  },
  {
   "cell_type": "markdown",
   "id": "0865821d-0887-4ab3-9d48-a06486e6fa92",
   "metadata": {},
   "source": [
    "Alternatively, we can run or submit the task straightaway using the methods :meth:`run_task <aim2dat.aiida_workflows.workflow_builder.WorkflowBuilder.run_task>` or :meth:`submit_task <aim2dat.aiida_workflows.workflow_builder.WorkflowBuilder.submit_task>`.\n",
    "The difference between the two methods is that the first uses AiiDA's `run` method which starts the process in the foreground and blocks the interface while the latter uses AiiDA's `submit` method which passes the process to the daemon that is running in the background."
   ]
  },
  {
   "cell_type": "code",
   "execution_count": 9,
   "id": "1594182e-5562-413a-8a62-f1aba0e3de6c",
   "metadata": {
    "execution": {
     "iopub.execute_input": "2024-10-15T07:33:10.451524Z",
     "iopub.status.busy": "2024-10-15T07:33:10.451129Z",
     "iopub.status.idle": "2024-10-15T07:33:12.180432Z",
     "shell.execute_reply": "2024-10-15T07:33:12.179820Z"
    }
   },
   "outputs": [
    {
     "data": {
      "text/plain": [
       "(<WorkFunctionNode: uuid: 872b6d30-cc56-4cc0-85d4-09d56d3a2871 (pk: 21) (aiida.workflows:core.arithmetic.add_multiply)>,\n",
       " <Float: uuid: 9836b302-c3a4-4e7c-91ea-c7dd08d1d638 (pk: 25) value: 2460.0>)"
      ]
     },
     "execution_count": 9,
     "metadata": {},
     "output_type": "execute_result"
    }
   ],
   "source": [
    "wf_builder.run_task(\"task_1.2\")\n",
    "wf_builder.run_task(\"task_1.3\")\n",
    "wf_builder.run_task(\"task_2.1\")"
   ]
  },
  {
   "cell_type": "markdown",
   "id": "b3507154-46a7-4a9d-9968-f2468c688667",
   "metadata": {},
   "source": [
    "## Visualizing the provenance graph of the workflow\n",
    "\n",
    "Using the AiiDA built-in features the provenance graph of the workflow can be plotted:"
   ]
  },
  {
   "cell_type": "code",
   "execution_count": 10,
   "id": "4dceebd1-7cc9-426c-9933-2fe68fb7af69",
   "metadata": {
    "execution": {
     "iopub.execute_input": "2024-10-15T07:33:12.183007Z",
     "iopub.status.busy": "2024-10-15T07:33:12.182790Z",
     "iopub.status.idle": "2024-10-15T07:33:12.582367Z",
     "shell.execute_reply": "2024-10-15T07:33:12.581617Z"
    }
   },
   "outputs": [
    {
     "data": {
      "image/svg+xml": [
       "<?xml version=\"1.0\" encoding=\"UTF-8\" standalone=\"no\"?>\n",
       "<!DOCTYPE svg PUBLIC \"-//W3C//DTD SVG 1.1//EN\"\n",
       " \"http://www.w3.org/Graphics/SVG/1.1/DTD/svg11.dtd\">\n",
       "<!-- Generated by graphviz version 2.43.0 (0)\n",
       " -->\n",
       "<!-- Title: %3 Pages: 1 -->\n",
       "<svg width=\"432pt\" height=\"176pt\"\n",
       " viewBox=\"0.00 0.00 432.00 176.34\" xmlns=\"http://www.w3.org/2000/svg\" xmlns:xlink=\"http://www.w3.org/1999/xlink\">\n",
       "<g id=\"graph0\" class=\"graph\" transform=\"scale(0.33 0.33) rotate(0) translate(4 535.22)\">\n",
       "<title>%3</title>\n",
       "<polygon fill=\"white\" stroke=\"transparent\" points=\"-4,4 -4,-535.22 1317,-535.22 1317,4 -4,4\"/>\n",
       "<!-- N1 -->\n",
       "<g id=\"node1\" class=\"node\">\n",
       "<title>N1</title>\n",
       "<ellipse fill=\"#8cd499\" stroke=\"black\" stroke-width=\"0\" cx=\"970\" cy=\"-504.35\" rx=\"60.62\" ry=\"26.74\"/>\n",
       "<text text-anchor=\"middle\" x=\"970\" y=\"-508.15\" font-family=\"Times,serif\" font-size=\"14.00\">Float (1)</text>\n",
       "<text text-anchor=\"middle\" x=\"970\" y=\"-493.15\" font-family=\"Times,serif\" font-size=\"14.00\">value: 4.0</text>\n",
       "</g>\n",
       "<!-- N4 -->\n",
       "<g id=\"node4\" class=\"node\">\n",
       "<title>N4</title>\n",
       "<polygon fill=\"#e38851\" stroke=\"black\" stroke-width=\"0\" points=\"331.5,-411.48 198.5,-411.48 198.5,-358.48 331.5,-358.48 331.5,-411.48\"/>\n",
       "<text text-anchor=\"middle\" x=\"265\" y=\"-396.28\" font-family=\"Times,serif\" font-size=\"14.00\">add_multiply (4)</text>\n",
       "<text text-anchor=\"middle\" x=\"265\" y=\"-381.28\" font-family=\"Times,serif\" font-size=\"14.00\">State: finished</text>\n",
       "<text text-anchor=\"middle\" x=\"265\" y=\"-366.28\" font-family=\"Times,serif\" font-size=\"14.00\">Exit Code: 0</text>\n",
       "</g>\n",
       "<!-- N1&#45;&gt;N4 -->\n",
       "<g id=\"edge1\" class=\"edge\">\n",
       "<title>N1&#45;&gt;N4</title>\n",
       "<path fill=\"none\" stroke=\"#000000\" stroke-dasharray=\"5,2\" d=\"M910.35,-498.49C846.29,-492.32 749.56,-479.93 719,-459.48 705.88,-450.7 713.43,-437.77 700,-429.48 692.46,-424.83 464.43,-403.81 341.62,-392.79\"/>\n",
       "<polygon fill=\"#000000\" stroke=\"#000000\" points=\"341.79,-389.29 331.52,-391.88 341.16,-396.26 341.79,-389.29\"/>\n",
       "<text text-anchor=\"middle\" x=\"769.5\" y=\"-448.28\" font-family=\"Times,serif\" font-size=\"14.00\">INPUT_WORK</text>\n",
       "<text text-anchor=\"middle\" x=\"769.5\" y=\"-433.28\" font-family=\"Times,serif\" font-size=\"14.00\">x</text>\n",
       "</g>\n",
       "<!-- N10 -->\n",
       "<g id=\"node9\" class=\"node\">\n",
       "<title>N10</title>\n",
       "<polygon fill=\"#e38851\" stroke=\"black\" stroke-width=\"0\" points=\"1168,-411.48 1026,-411.48 1026,-358.48 1168,-358.48 1168,-411.48\"/>\n",
       "<text text-anchor=\"middle\" x=\"1097\" y=\"-396.28\" font-family=\"Times,serif\" font-size=\"14.00\">add_multiply (10)</text>\n",
       "<text text-anchor=\"middle\" x=\"1097\" y=\"-381.28\" font-family=\"Times,serif\" font-size=\"14.00\">State: finished</text>\n",
       "<text text-anchor=\"middle\" x=\"1097\" y=\"-366.28\" font-family=\"Times,serif\" font-size=\"14.00\">Exit Code: 0</text>\n",
       "</g>\n",
       "<!-- N1&#45;&gt;N10 -->\n",
       "<g id=\"edge7\" class=\"edge\">\n",
       "<title>N1&#45;&gt;N10</title>\n",
       "<path fill=\"none\" stroke=\"#000000\" stroke-dasharray=\"5,2\" d=\"M1022.1,-490.4C1039.93,-483.72 1058.72,-473.85 1072,-459.48 1081.62,-449.07 1087.56,-434.81 1091.21,-421.61\"/>\n",
       "<polygon fill=\"#000000\" stroke=\"#000000\" points=\"1094.64,-422.36 1093.59,-411.81 1087.83,-420.71 1094.64,-422.36\"/>\n",
       "<text text-anchor=\"middle\" x=\"1138.5\" y=\"-448.28\" font-family=\"Times,serif\" font-size=\"14.00\">INPUT_WORK</text>\n",
       "<text text-anchor=\"middle\" x=\"1138.5\" y=\"-433.28\" font-family=\"Times,serif\" font-size=\"14.00\">x</text>\n",
       "</g>\n",
       "<!-- N16 -->\n",
       "<g id=\"node14\" class=\"node\">\n",
       "<title>N16</title>\n",
       "<polygon fill=\"#e38851\" stroke=\"black\" stroke-width=\"0\" points=\"706,-411.48 564,-411.48 564,-358.48 706,-358.48 706,-411.48\"/>\n",
       "<text text-anchor=\"middle\" x=\"635\" y=\"-396.28\" font-family=\"Times,serif\" font-size=\"14.00\">add_multiply (16)</text>\n",
       "<text text-anchor=\"middle\" x=\"635\" y=\"-381.28\" font-family=\"Times,serif\" font-size=\"14.00\">State: finished</text>\n",
       "<text text-anchor=\"middle\" x=\"635\" y=\"-366.28\" font-family=\"Times,serif\" font-size=\"14.00\">Exit Code: 0</text>\n",
       "</g>\n",
       "<!-- N1&#45;&gt;N16 -->\n",
       "<g id=\"edge13\" class=\"edge\">\n",
       "<title>N1&#45;&gt;N16</title>\n",
       "<path fill=\"none\" stroke=\"#000000\" stroke-dasharray=\"5,2\" d=\"M969.09,-477.33C967.07,-461.15 961.7,-441.25 948,-429.48 914.23,-400.47 797.46,-390.76 716.52,-387.54\"/>\n",
       "<polygon fill=\"#000000\" stroke=\"#000000\" points=\"716.46,-384.03 706.33,-387.16 716.2,-391.03 716.46,-384.03\"/>\n",
       "<text text-anchor=\"middle\" x=\"1015.5\" y=\"-448.28\" font-family=\"Times,serif\" font-size=\"14.00\">INPUT_WORK</text>\n",
       "<text text-anchor=\"middle\" x=\"1015.5\" y=\"-433.28\" font-family=\"Times,serif\" font-size=\"14.00\">z</text>\n",
       "</g>\n",
       "<!-- N2 -->\n",
       "<g id=\"node2\" class=\"node\">\n",
       "<title>N2</title>\n",
       "<ellipse fill=\"#8cd499\" stroke=\"black\" stroke-width=\"0\" cx=\"451\" cy=\"-504.35\" rx=\"51.74\" ry=\"26.74\"/>\n",
       "<text text-anchor=\"middle\" x=\"451\" y=\"-508.15\" font-family=\"Times,serif\" font-size=\"14.00\">Int (2)</text>\n",
       "<text text-anchor=\"middle\" x=\"451\" y=\"-493.15\" font-family=\"Times,serif\" font-size=\"14.00\">value: 5</text>\n",
       "</g>\n",
       "<!-- N2&#45;&gt;N4 -->\n",
       "<g id=\"edge2\" class=\"edge\">\n",
       "<title>N2&#45;&gt;N4</title>\n",
       "<path fill=\"none\" stroke=\"#000000\" stroke-dasharray=\"5,2\" d=\"M403.39,-493.57C378.66,-486.86 348.91,-476.08 326,-459.48 312.4,-449.62 313.64,-442.48 303,-429.48 300.28,-426.16 297.42,-422.74 294.52,-419.34\"/>\n",
       "<polygon fill=\"#000000\" stroke=\"#000000\" points=\"296.96,-416.81 287.78,-411.51 291.65,-421.37 296.96,-416.81\"/>\n",
       "<text text-anchor=\"middle\" x=\"376.5\" y=\"-448.28\" font-family=\"Times,serif\" font-size=\"14.00\">INPUT_WORK</text>\n",
       "<text text-anchor=\"middle\" x=\"376.5\" y=\"-433.28\" font-family=\"Times,serif\" font-size=\"14.00\">y</text>\n",
       "</g>\n",
       "<!-- N2&#45;&gt;N10 -->\n",
       "<g id=\"edge8\" class=\"edge\">\n",
       "<title>N2&#45;&gt;N10</title>\n",
       "<path fill=\"none\" stroke=\"#000000\" stroke-dasharray=\"5,2\" d=\"M490.21,-486.77C500.4,-483.1 511.47,-479.66 522,-477.48 587.83,-463.83 766.09,-493.63 824,-459.48 837.59,-451.46 829.87,-438.23 843,-429.48 870.78,-410.96 952.52,-399.25 1015.85,-392.7\"/>\n",
       "<polygon fill=\"#000000\" stroke=\"#000000\" points=\"1016.24,-396.18 1025.84,-391.7 1015.54,-389.22 1016.24,-396.18\"/>\n",
       "<text text-anchor=\"middle\" x=\"893.5\" y=\"-448.28\" font-family=\"Times,serif\" font-size=\"14.00\">INPUT_WORK</text>\n",
       "<text text-anchor=\"middle\" x=\"893.5\" y=\"-433.28\" font-family=\"Times,serif\" font-size=\"14.00\">y</text>\n",
       "</g>\n",
       "<!-- N2&#45;&gt;N16 -->\n",
       "<g id=\"edge14\" class=\"edge\">\n",
       "<title>N2&#45;&gt;N16</title>\n",
       "<path fill=\"none\" stroke=\"#000000\" stroke-dasharray=\"5,2\" d=\"M458.53,-477.42C464.41,-461.48 474.13,-441.82 489,-429.48 507.43,-414.19 531.1,-404.27 553.98,-397.84\"/>\n",
       "<polygon fill=\"#000000\" stroke=\"#000000\" points=\"554.93,-401.21 563.72,-395.29 553.16,-394.43 554.93,-401.21\"/>\n",
       "<text text-anchor=\"middle\" x=\"539.5\" y=\"-448.28\" font-family=\"Times,serif\" font-size=\"14.00\">INPUT_WORK</text>\n",
       "<text text-anchor=\"middle\" x=\"539.5\" y=\"-433.28\" font-family=\"Times,serif\" font-size=\"14.00\">y</text>\n",
       "</g>\n",
       "<!-- N21 -->\n",
       "<g id=\"node18\" class=\"node\">\n",
       "<title>N21</title>\n",
       "<polygon fill=\"#e38851\" stroke=\"black\" stroke-width=\"0\" points=\"889,-172.74 747,-172.74 747,-119.74 889,-119.74 889,-172.74\"/>\n",
       "<text text-anchor=\"middle\" x=\"818\" y=\"-157.54\" font-family=\"Times,serif\" font-size=\"14.00\">add_multiply (21)</text>\n",
       "<text text-anchor=\"middle\" x=\"818\" y=\"-142.54\" font-family=\"Times,serif\" font-size=\"14.00\">State: finished</text>\n",
       "<text text-anchor=\"middle\" x=\"818\" y=\"-127.54\" font-family=\"Times,serif\" font-size=\"14.00\">Exit Code: 0</text>\n",
       "</g>\n",
       "<!-- N2&#45;&gt;N21 -->\n",
       "<g id=\"edge21\" class=\"edge\">\n",
       "<title>N2&#45;&gt;N21</title>\n",
       "<path fill=\"none\" stroke=\"#000000\" stroke-dasharray=\"5,2\" d=\"M442.4,-477.46C426.4,-423.76 399.36,-300.19 466,-238.74 505.15,-202.64 645.53,-174.39 736.74,-159.32\"/>\n",
       "<polygon fill=\"#000000\" stroke=\"#000000\" points=\"737.47,-162.74 746.78,-157.68 736.35,-155.83 737.47,-162.74\"/>\n",
       "<text text-anchor=\"middle\" x=\"478.5\" y=\"-329.28\" font-family=\"Times,serif\" font-size=\"14.00\">INPUT_WORK</text>\n",
       "<text text-anchor=\"middle\" x=\"478.5\" y=\"-314.28\" font-family=\"Times,serif\" font-size=\"14.00\">y</text>\n",
       "</g>\n",
       "<!-- N3 -->\n",
       "<g id=\"node3\" class=\"node\">\n",
       "<title>N3</title>\n",
       "<ellipse fill=\"#8cd499\" stroke=\"black\" stroke-width=\"0\" cx=\"201\" cy=\"-504.35\" rx=\"60.62\" ry=\"26.74\"/>\n",
       "<text text-anchor=\"middle\" x=\"201\" y=\"-508.15\" font-family=\"Times,serif\" font-size=\"14.00\">Float (3)</text>\n",
       "<text text-anchor=\"middle\" x=\"201\" y=\"-493.15\" font-family=\"Times,serif\" font-size=\"14.00\">value: 2.0</text>\n",
       "</g>\n",
       "<!-- N3&#45;&gt;N4 -->\n",
       "<g id=\"edge3\" class=\"edge\">\n",
       "<title>N3&#45;&gt;N4</title>\n",
       "<path fill=\"none\" stroke=\"#000000\" stroke-dasharray=\"5,2\" d=\"M195.71,-477.28C194.02,-462.43 194.27,-443.97 202,-429.48 204.04,-425.65 206.58,-422.1 209.47,-418.8\"/>\n",
       "<polygon fill=\"#000000\" stroke=\"#000000\" points=\"212.11,-421.11 216.75,-411.59 207.18,-416.14 212.11,-421.11\"/>\n",
       "<text text-anchor=\"middle\" x=\"252.5\" y=\"-448.28\" font-family=\"Times,serif\" font-size=\"14.00\">INPUT_WORK</text>\n",
       "<text text-anchor=\"middle\" x=\"252.5\" y=\"-433.28\" font-family=\"Times,serif\" font-size=\"14.00\">z</text>\n",
       "</g>\n",
       "<!-- N5 -->\n",
       "<g id=\"node5\" class=\"node\">\n",
       "<title>N5</title>\n",
       "<polygon fill=\"#de707f\" fill-opacity=\"0.466667\" stroke=\"black\" stroke-width=\"0\" points=\"120,-292.11 0,-292.11 0,-239.11 120,-239.11 120,-292.11\"/>\n",
       "<text text-anchor=\"middle\" x=\"60\" y=\"-276.91\" font-family=\"Times,serif\" font-size=\"14.00\">add (5)</text>\n",
       "<text text-anchor=\"middle\" x=\"60\" y=\"-261.91\" font-family=\"Times,serif\" font-size=\"14.00\">State: finished</text>\n",
       "<text text-anchor=\"middle\" x=\"60\" y=\"-246.91\" font-family=\"Times,serif\" font-size=\"14.00\">Exit Code: 0</text>\n",
       "</g>\n",
       "<!-- N4&#45;&gt;N5 -->\n",
       "<g id=\"edge4\" class=\"edge\">\n",
       "<title>N4&#45;&gt;N5</title>\n",
       "<path fill=\"none\" stroke=\"#000000\" stroke-dasharray=\"1,5\" d=\"M198.25,-366.71C178.41,-360.08 157.14,-351.41 139,-340.48 120.95,-329.61 103.54,-314.07 89.69,-300.05\"/>\n",
       "<polygon fill=\"#000000\" stroke=\"#000000\" points=\"91.83,-297.23 82.37,-292.46 86.79,-302.09 91.83,-297.23\"/>\n",
       "<text text-anchor=\"middle\" x=\"181.5\" y=\"-329.28\" font-family=\"Times,serif\" font-size=\"14.00\">CALL_CALC</text>\n",
       "<text text-anchor=\"middle\" x=\"181.5\" y=\"-314.28\" font-family=\"Times,serif\" font-size=\"14.00\">CALL</text>\n",
       "</g>\n",
       "<!-- N8 -->\n",
       "<g id=\"node6\" class=\"node\">\n",
       "<title>N8</title>\n",
       "<ellipse fill=\"#8cd499\" stroke=\"black\" stroke-width=\"0\" cx=\"205\" cy=\"-265.61\" rx=\"67.35\" ry=\"26.74\"/>\n",
       "<text text-anchor=\"middle\" x=\"205\" y=\"-269.41\" font-family=\"Times,serif\" font-size=\"14.00\">Float (8)</text>\n",
       "<text text-anchor=\"middle\" x=\"205\" y=\"-254.41\" font-family=\"Times,serif\" font-size=\"14.00\">value: 18.0</text>\n",
       "</g>\n",
       "<!-- N4&#45;&gt;N8 -->\n",
       "<g id=\"edge5\" class=\"edge\">\n",
       "<title>N4&#45;&gt;N8</title>\n",
       "<path fill=\"none\" stroke=\"#000000\" stroke-dasharray=\"5,2\" d=\"M251.83,-358.22C243.31,-341.56 232.12,-319.66 222.81,-301.45\"/>\n",
       "<polygon fill=\"#000000\" stroke=\"#000000\" points=\"225.8,-299.62 218.14,-292.31 219.57,-302.8 225.8,-299.62\"/>\n",
       "<text text-anchor=\"middle\" x=\"275.5\" y=\"-329.28\" font-family=\"Times,serif\" font-size=\"14.00\">RETURN</text>\n",
       "<text text-anchor=\"middle\" x=\"275.5\" y=\"-314.28\" font-family=\"Times,serif\" font-size=\"14.00\">result</text>\n",
       "</g>\n",
       "<!-- N7 -->\n",
       "<g id=\"node7\" class=\"node\">\n",
       "<title>N7</title>\n",
       "<polygon fill=\"#de707f\" fill-opacity=\"0.466667\" stroke=\"black\" stroke-width=\"0\" points=\"410,-292.11 290,-292.11 290,-239.11 410,-239.11 410,-292.11\"/>\n",
       "<text text-anchor=\"middle\" x=\"350\" y=\"-276.91\" font-family=\"Times,serif\" font-size=\"14.00\">multiply (7)</text>\n",
       "<text text-anchor=\"middle\" x=\"350\" y=\"-261.91\" font-family=\"Times,serif\" font-size=\"14.00\">State: finished</text>\n",
       "<text text-anchor=\"middle\" x=\"350\" y=\"-246.91\" font-family=\"Times,serif\" font-size=\"14.00\">Exit Code: 0</text>\n",
       "</g>\n",
       "<!-- N4&#45;&gt;N7 -->\n",
       "<g id=\"edge6\" class=\"edge\">\n",
       "<title>N4&#45;&gt;N7</title>\n",
       "<path fill=\"none\" stroke=\"#000000\" stroke-dasharray=\"1,5\" d=\"M295.19,-358.16C300.8,-352.64 306.35,-346.61 311,-340.48 320.11,-328.49 328.24,-314.08 334.69,-301.18\"/>\n",
       "<polygon fill=\"#000000\" stroke=\"#000000\" points=\"337.87,-302.64 339.08,-292.11 331.57,-299.59 337.87,-302.64\"/>\n",
       "<text text-anchor=\"middle\" x=\"372.5\" y=\"-329.28\" font-family=\"Times,serif\" font-size=\"14.00\">CALL_CALC</text>\n",
       "<text text-anchor=\"middle\" x=\"372.5\" y=\"-314.28\" font-family=\"Times,serif\" font-size=\"14.00\">CALL</text>\n",
       "</g>\n",
       "<!-- N9 -->\n",
       "<g id=\"node8\" class=\"node\">\n",
       "<title>N9</title>\n",
       "<ellipse fill=\"#8cd499\" stroke=\"black\" stroke-width=\"0\" cx=\"1218\" cy=\"-504.35\" rx=\"60.62\" ry=\"26.74\"/>\n",
       "<text text-anchor=\"middle\" x=\"1218\" y=\"-508.15\" font-family=\"Times,serif\" font-size=\"14.00\">Float (9)</text>\n",
       "<text text-anchor=\"middle\" x=\"1218\" y=\"-493.15\" font-family=\"Times,serif\" font-size=\"14.00\">value: 4.0</text>\n",
       "</g>\n",
       "<!-- N9&#45;&gt;N10 -->\n",
       "<g id=\"edge9\" class=\"edge\">\n",
       "<title>N9&#45;&gt;N10</title>\n",
       "<path fill=\"none\" stroke=\"#000000\" stroke-dasharray=\"5,2\" d=\"M1215.74,-477.47C1213.17,-461.95 1207.69,-442.72 1196,-429.48 1190.46,-423.21 1183.86,-417.8 1176.72,-413.15\"/>\n",
       "<polygon fill=\"#000000\" stroke=\"#000000\" points=\"1178.5,-410.14 1168.12,-408.03 1174.92,-416.15 1178.5,-410.14\"/>\n",
       "<text text-anchor=\"middle\" x=\"1261.5\" y=\"-448.28\" font-family=\"Times,serif\" font-size=\"14.00\">INPUT_WORK</text>\n",
       "<text text-anchor=\"middle\" x=\"1261.5\" y=\"-433.28\" font-family=\"Times,serif\" font-size=\"14.00\">z</text>\n",
       "</g>\n",
       "<!-- N11 -->\n",
       "<g id=\"node10\" class=\"node\">\n",
       "<title>N11</title>\n",
       "<polygon fill=\"#de707f\" fill-opacity=\"0.466667\" stroke=\"black\" stroke-width=\"0\" points=\"1023,-292.11 903,-292.11 903,-239.11 1023,-239.11 1023,-292.11\"/>\n",
       "<text text-anchor=\"middle\" x=\"963\" y=\"-276.91\" font-family=\"Times,serif\" font-size=\"14.00\">add (11)</text>\n",
       "<text text-anchor=\"middle\" x=\"963\" y=\"-261.91\" font-family=\"Times,serif\" font-size=\"14.00\">State: finished</text>\n",
       "<text text-anchor=\"middle\" x=\"963\" y=\"-246.91\" font-family=\"Times,serif\" font-size=\"14.00\">Exit Code: 0</text>\n",
       "</g>\n",
       "<!-- N10&#45;&gt;N11 -->\n",
       "<g id=\"edge10\" class=\"edge\">\n",
       "<title>N10&#45;&gt;N11</title>\n",
       "<path fill=\"none\" stroke=\"#000000\" stroke-dasharray=\"1,5\" d=\"M1037.31,-358.44C1028.32,-353.21 1019.54,-347.22 1012,-340.48 999.69,-329.48 989.09,-314.74 980.94,-301.31\"/>\n",
       "<polygon fill=\"#000000\" stroke=\"#000000\" points=\"983.74,-299.17 975.69,-292.29 977.69,-302.69 983.74,-299.17\"/>\n",
       "<text text-anchor=\"middle\" x=\"1054.5\" y=\"-329.28\" font-family=\"Times,serif\" font-size=\"14.00\">CALL_CALC</text>\n",
       "<text text-anchor=\"middle\" x=\"1054.5\" y=\"-314.28\" font-family=\"Times,serif\" font-size=\"14.00\">CALL</text>\n",
       "</g>\n",
       "<!-- N14 -->\n",
       "<g id=\"node11\" class=\"node\">\n",
       "<title>N14</title>\n",
       "<ellipse fill=\"#8cd499\" stroke=\"black\" stroke-width=\"0\" cx=\"1108\" cy=\"-265.61\" rx=\"67.35\" ry=\"26.74\"/>\n",
       "<text text-anchor=\"middle\" x=\"1108\" y=\"-269.41\" font-family=\"Times,serif\" font-size=\"14.00\">Float (14)</text>\n",
       "<text text-anchor=\"middle\" x=\"1108\" y=\"-254.41\" font-family=\"Times,serif\" font-size=\"14.00\">value: 36.0</text>\n",
       "</g>\n",
       "<!-- N10&#45;&gt;N14 -->\n",
       "<g id=\"edge11\" class=\"edge\">\n",
       "<title>N10&#45;&gt;N14</title>\n",
       "<path fill=\"none\" stroke=\"#000000\" stroke-dasharray=\"5,2\" d=\"M1099.41,-358.22C1100.94,-341.98 1102.93,-320.75 1104.61,-302.83\"/>\n",
       "<polygon fill=\"#000000\" stroke=\"#000000\" points=\"1108.11,-303 1105.55,-292.71 1101.14,-302.34 1108.11,-303\"/>\n",
       "<text text-anchor=\"middle\" x=\"1135.5\" y=\"-329.28\" font-family=\"Times,serif\" font-size=\"14.00\">RETURN</text>\n",
       "<text text-anchor=\"middle\" x=\"1135.5\" y=\"-314.28\" font-family=\"Times,serif\" font-size=\"14.00\">result</text>\n",
       "</g>\n",
       "<!-- N13 -->\n",
       "<g id=\"node12\" class=\"node\">\n",
       "<title>N13</title>\n",
       "<polygon fill=\"#de707f\" fill-opacity=\"0.466667\" stroke=\"black\" stroke-width=\"0\" points=\"1313,-292.11 1193,-292.11 1193,-239.11 1313,-239.11 1313,-292.11\"/>\n",
       "<text text-anchor=\"middle\" x=\"1253\" y=\"-276.91\" font-family=\"Times,serif\" font-size=\"14.00\">multiply (13)</text>\n",
       "<text text-anchor=\"middle\" x=\"1253\" y=\"-261.91\" font-family=\"Times,serif\" font-size=\"14.00\">State: finished</text>\n",
       "<text text-anchor=\"middle\" x=\"1253\" y=\"-246.91\" font-family=\"Times,serif\" font-size=\"14.00\">Exit Code: 0</text>\n",
       "</g>\n",
       "<!-- N10&#45;&gt;N13 -->\n",
       "<g id=\"edge12\" class=\"edge\">\n",
       "<title>N10&#45;&gt;N13</title>\n",
       "<path fill=\"none\" stroke=\"#000000\" stroke-dasharray=\"1,5\" d=\"M1144.78,-358.32C1154.04,-352.78 1163.5,-346.71 1172,-340.48 1188.71,-328.23 1205.85,-313.05 1220.04,-299.64\"/>\n",
       "<polygon fill=\"#000000\" stroke=\"#000000\" points=\"1222.8,-301.84 1227.6,-292.4 1217.95,-296.79 1222.8,-301.84\"/>\n",
       "<text text-anchor=\"middle\" x=\"1248.5\" y=\"-329.28\" font-family=\"Times,serif\" font-size=\"14.00\">CALL_CALC</text>\n",
       "<text text-anchor=\"middle\" x=\"1248.5\" y=\"-314.28\" font-family=\"Times,serif\" font-size=\"14.00\">CALL</text>\n",
       "</g>\n",
       "<!-- N14&#45;&gt;N21 -->\n",
       "<g id=\"edge19\" class=\"edge\">\n",
       "<title>N14&#45;&gt;N21</title>\n",
       "<path fill=\"none\" stroke=\"#000000\" stroke-dasharray=\"5,2\" d=\"M1061.73,-245.88C1015.64,-227.23 944.22,-198.32 890.58,-176.61\"/>\n",
       "<polygon fill=\"#000000\" stroke=\"#000000\" points=\"891.7,-173.29 881.12,-172.79 889.08,-179.78 891.7,-173.29\"/>\n",
       "<text text-anchor=\"middle\" x=\"1047.5\" y=\"-209.54\" font-family=\"Times,serif\" font-size=\"14.00\">INPUT_WORK</text>\n",
       "<text text-anchor=\"middle\" x=\"1047.5\" y=\"-194.54\" font-family=\"Times,serif\" font-size=\"14.00\">x</text>\n",
       "</g>\n",
       "<!-- N15 -->\n",
       "<g id=\"node13\" class=\"node\">\n",
       "<title>N15</title>\n",
       "<ellipse fill=\"#8cd499\" stroke=\"black\" stroke-width=\"0\" cx=\"598\" cy=\"-504.35\" rx=\"67.35\" ry=\"26.74\"/>\n",
       "<text text-anchor=\"middle\" x=\"598\" y=\"-508.15\" font-family=\"Times,serif\" font-size=\"14.00\">Float (15)</text>\n",
       "<text text-anchor=\"middle\" x=\"598\" y=\"-493.15\" font-family=\"Times,serif\" font-size=\"14.00\">value: 10.0</text>\n",
       "</g>\n",
       "<!-- N15&#45;&gt;N16 -->\n",
       "<g id=\"edge15\" class=\"edge\">\n",
       "<title>N15&#45;&gt;N16</title>\n",
       "<path fill=\"none\" stroke=\"#000000\" stroke-dasharray=\"5,2\" d=\"M594.2,-477.28C593.09,-462.78 593.42,-444.65 599,-429.48 600.15,-426.35 601.63,-423.29 603.33,-420.32\"/>\n",
       "<polygon fill=\"#000000\" stroke=\"#000000\" points=\"606.39,-422.05 608.99,-411.78 600.55,-418.18 606.39,-422.05\"/>\n",
       "<text text-anchor=\"middle\" x=\"649.5\" y=\"-448.28\" font-family=\"Times,serif\" font-size=\"14.00\">INPUT_WORK</text>\n",
       "<text text-anchor=\"middle\" x=\"649.5\" y=\"-433.28\" font-family=\"Times,serif\" font-size=\"14.00\">x</text>\n",
       "</g>\n",
       "<!-- N17 -->\n",
       "<g id=\"node15\" class=\"node\">\n",
       "<title>N17</title>\n",
       "<polygon fill=\"#de707f\" fill-opacity=\"0.466667\" stroke=\"black\" stroke-width=\"0\" points=\"595,-292.11 475,-292.11 475,-239.11 595,-239.11 595,-292.11\"/>\n",
       "<text text-anchor=\"middle\" x=\"535\" y=\"-276.91\" font-family=\"Times,serif\" font-size=\"14.00\">add (17)</text>\n",
       "<text text-anchor=\"middle\" x=\"535\" y=\"-261.91\" font-family=\"Times,serif\" font-size=\"14.00\">State: finished</text>\n",
       "<text text-anchor=\"middle\" x=\"535\" y=\"-246.91\" font-family=\"Times,serif\" font-size=\"14.00\">Exit Code: 0</text>\n",
       "</g>\n",
       "<!-- N16&#45;&gt;N17 -->\n",
       "<g id=\"edge17\" class=\"edge\">\n",
       "<title>N16&#45;&gt;N17</title>\n",
       "<path fill=\"none\" stroke=\"#000000\" stroke-dasharray=\"1,5\" d=\"M581.71,-358.25C574.42,-353.11 567.55,-347.18 562,-340.48 552.91,-329.5 546.74,-315.2 542.62,-302.1\"/>\n",
       "<polygon fill=\"#000000\" stroke=\"#000000\" points=\"545.97,-301.06 539.86,-292.4 539.23,-302.97 545.97,-301.06\"/>\n",
       "<text text-anchor=\"middle\" x=\"604.5\" y=\"-329.28\" font-family=\"Times,serif\" font-size=\"14.00\">CALL_CALC</text>\n",
       "<text text-anchor=\"middle\" x=\"604.5\" y=\"-314.28\" font-family=\"Times,serif\" font-size=\"14.00\">CALL</text>\n",
       "</g>\n",
       "<!-- N20 -->\n",
       "<g id=\"node16\" class=\"node\">\n",
       "<title>N20</title>\n",
       "<ellipse fill=\"#8cd499\" stroke=\"black\" stroke-width=\"0\" cx=\"818\" cy=\"-265.61\" rx=\"67.35\" ry=\"26.74\"/>\n",
       "<text text-anchor=\"middle\" x=\"818\" y=\"-269.41\" font-family=\"Times,serif\" font-size=\"14.00\">Float (20)</text>\n",
       "<text text-anchor=\"middle\" x=\"818\" y=\"-254.41\" font-family=\"Times,serif\" font-size=\"14.00\">value: 60.0</text>\n",
       "</g>\n",
       "<!-- N16&#45;&gt;N20 -->\n",
       "<g id=\"edge18\" class=\"edge\">\n",
       "<title>N16&#45;&gt;N20</title>\n",
       "<path fill=\"none\" stroke=\"#000000\" stroke-dasharray=\"5,2\" d=\"M706.21,-362.55C720.98,-356.55 735.99,-349.23 749,-340.48 765.43,-329.43 780.79,-313.77 792.82,-299.7\"/>\n",
       "<polygon fill=\"#000000\" stroke=\"#000000\" points=\"795.81,-301.59 799.5,-291.66 790.42,-297.11 795.81,-301.59\"/>\n",
       "<text text-anchor=\"middle\" x=\"814.5\" y=\"-329.28\" font-family=\"Times,serif\" font-size=\"14.00\">RETURN</text>\n",
       "<text text-anchor=\"middle\" x=\"814.5\" y=\"-314.28\" font-family=\"Times,serif\" font-size=\"14.00\">result</text>\n",
       "</g>\n",
       "<!-- N19 -->\n",
       "<g id=\"node17\" class=\"node\">\n",
       "<title>N19</title>\n",
       "<polygon fill=\"#de707f\" fill-opacity=\"0.466667\" stroke=\"black\" stroke-width=\"0\" points=\"733,-292.11 613,-292.11 613,-239.11 733,-239.11 733,-292.11\"/>\n",
       "<text text-anchor=\"middle\" x=\"673\" y=\"-276.91\" font-family=\"Times,serif\" font-size=\"14.00\">multiply (19)</text>\n",
       "<text text-anchor=\"middle\" x=\"673\" y=\"-261.91\" font-family=\"Times,serif\" font-size=\"14.00\">State: finished</text>\n",
       "<text text-anchor=\"middle\" x=\"673\" y=\"-246.91\" font-family=\"Times,serif\" font-size=\"14.00\">Exit Code: 0</text>\n",
       "</g>\n",
       "<!-- N16&#45;&gt;N19 -->\n",
       "<g id=\"edge16\" class=\"edge\">\n",
       "<title>N16&#45;&gt;N19</title>\n",
       "<path fill=\"none\" stroke=\"#000000\" stroke-dasharray=\"1,5\" d=\"M644.75,-358.31C646.88,-352.47 649.07,-346.28 651,-340.48 655.12,-328.08 659.3,-314.39 662.89,-302.2\"/>\n",
       "<polygon fill=\"#000000\" stroke=\"#000000\" points=\"666.32,-302.95 665.76,-292.37 659.6,-300.99 666.32,-302.95\"/>\n",
       "<text text-anchor=\"middle\" x=\"702.5\" y=\"-329.28\" font-family=\"Times,serif\" font-size=\"14.00\">CALL_CALC</text>\n",
       "<text text-anchor=\"middle\" x=\"702.5\" y=\"-314.28\" font-family=\"Times,serif\" font-size=\"14.00\">CALL</text>\n",
       "</g>\n",
       "<!-- N20&#45;&gt;N21 -->\n",
       "<g id=\"edge20\" class=\"edge\">\n",
       "<title>N20&#45;&gt;N21</title>\n",
       "<path fill=\"none\" stroke=\"#000000\" stroke-dasharray=\"5,2\" d=\"M818,-238.56C818,-222.19 818,-200.85 818,-182.91\"/>\n",
       "<polygon fill=\"#000000\" stroke=\"#000000\" points=\"821.5,-182.81 818,-172.81 814.5,-182.81 821.5,-182.81\"/>\n",
       "<text text-anchor=\"middle\" x=\"868.5\" y=\"-209.54\" font-family=\"Times,serif\" font-size=\"14.00\">INPUT_WORK</text>\n",
       "<text text-anchor=\"middle\" x=\"868.5\" y=\"-194.54\" font-family=\"Times,serif\" font-size=\"14.00\">z</text>\n",
       "</g>\n",
       "<!-- N22 -->\n",
       "<g id=\"node19\" class=\"node\">\n",
       "<title>N22</title>\n",
       "<polygon fill=\"#de707f\" fill-opacity=\"0.466667\" stroke=\"black\" stroke-width=\"0\" points=\"720,-53.37 600,-53.37 600,-0.37 720,-0.37 720,-53.37\"/>\n",
       "<text text-anchor=\"middle\" x=\"660\" y=\"-38.17\" font-family=\"Times,serif\" font-size=\"14.00\">add (22)</text>\n",
       "<text text-anchor=\"middle\" x=\"660\" y=\"-23.17\" font-family=\"Times,serif\" font-size=\"14.00\">State: finished</text>\n",
       "<text text-anchor=\"middle\" x=\"660\" y=\"-8.17\" font-family=\"Times,serif\" font-size=\"14.00\">Exit Code: 0</text>\n",
       "</g>\n",
       "<!-- N21&#45;&gt;N22 -->\n",
       "<g id=\"edge24\" class=\"edge\">\n",
       "<title>N21&#45;&gt;N22</title>\n",
       "<path fill=\"none\" stroke=\"#000000\" stroke-dasharray=\"1,5\" d=\"M757.84,-119.59C747.83,-114.28 737.85,-108.29 729,-101.74 713.43,-90.22 698.47,-74.91 686.48,-61.21\"/>\n",
       "<polygon fill=\"#000000\" stroke=\"#000000\" points=\"688.93,-58.7 679.78,-53.38 683.61,-63.25 688.93,-58.7\"/>\n",
       "<text text-anchor=\"middle\" x=\"771.5\" y=\"-90.54\" font-family=\"Times,serif\" font-size=\"14.00\">CALL_CALC</text>\n",
       "<text text-anchor=\"middle\" x=\"771.5\" y=\"-75.54\" font-family=\"Times,serif\" font-size=\"14.00\">CALL</text>\n",
       "</g>\n",
       "<!-- N25 -->\n",
       "<g id=\"node20\" class=\"node\">\n",
       "<title>N25</title>\n",
       "<ellipse fill=\"#8cd499\" stroke=\"black\" stroke-width=\"0\" cx=\"818\" cy=\"-26.87\" rx=\"79.81\" ry=\"26.74\"/>\n",
       "<text text-anchor=\"middle\" x=\"818\" y=\"-30.67\" font-family=\"Times,serif\" font-size=\"14.00\">Float (25)</text>\n",
       "<text text-anchor=\"middle\" x=\"818\" y=\"-15.67\" font-family=\"Times,serif\" font-size=\"14.00\">value: 2460.0</text>\n",
       "</g>\n",
       "<!-- N21&#45;&gt;N25 -->\n",
       "<g id=\"edge23\" class=\"edge\">\n",
       "<title>N21&#45;&gt;N25</title>\n",
       "<path fill=\"none\" stroke=\"#000000\" stroke-dasharray=\"5,2\" d=\"M818,-119.48C818,-103.24 818,-82.01 818,-64.09\"/>\n",
       "<polygon fill=\"#000000\" stroke=\"#000000\" points=\"821.5,-63.97 818,-53.97 814.5,-63.97 821.5,-63.97\"/>\n",
       "<text text-anchor=\"middle\" x=\"850.5\" y=\"-90.54\" font-family=\"Times,serif\" font-size=\"14.00\">RETURN</text>\n",
       "<text text-anchor=\"middle\" x=\"850.5\" y=\"-75.54\" font-family=\"Times,serif\" font-size=\"14.00\">result</text>\n",
       "</g>\n",
       "<!-- N24 -->\n",
       "<g id=\"node21\" class=\"node\">\n",
       "<title>N24</title>\n",
       "<polygon fill=\"#de707f\" fill-opacity=\"0.466667\" stroke=\"black\" stroke-width=\"0\" points=\"1036,-53.37 916,-53.37 916,-0.37 1036,-0.37 1036,-53.37\"/>\n",
       "<text text-anchor=\"middle\" x=\"976\" y=\"-38.17\" font-family=\"Times,serif\" font-size=\"14.00\">multiply (24)</text>\n",
       "<text text-anchor=\"middle\" x=\"976\" y=\"-23.17\" font-family=\"Times,serif\" font-size=\"14.00\">State: finished</text>\n",
       "<text text-anchor=\"middle\" x=\"976\" y=\"-8.17\" font-family=\"Times,serif\" font-size=\"14.00\">Exit Code: 0</text>\n",
       "</g>\n",
       "<!-- N21&#45;&gt;N24 -->\n",
       "<g id=\"edge22\" class=\"edge\">\n",
       "<title>N21&#45;&gt;N24</title>\n",
       "<path fill=\"none\" stroke=\"#000000\" stroke-dasharray=\"1,5\" d=\"M860.54,-119.64C869.43,-113.96 878.63,-107.81 887,-101.74 904.72,-88.89 923.48,-73.59 939.19,-60.25\"/>\n",
       "<polygon fill=\"#000000\" stroke=\"#000000\" points=\"941.78,-62.64 947.1,-53.49 937.23,-57.33 941.78,-62.64\"/>\n",
       "<text text-anchor=\"middle\" x=\"966.5\" y=\"-90.54\" font-family=\"Times,serif\" font-size=\"14.00\">CALL_CALC</text>\n",
       "<text text-anchor=\"middle\" x=\"966.5\" y=\"-75.54\" font-family=\"Times,serif\" font-size=\"14.00\">CALL</text>\n",
       "</g>\n",
       "</g>\n",
       "</svg>\n"
      ],
      "text/plain": [
       "<graphviz.graphs.Digraph at 0x7f73715507f0>"
      ]
     },
     "execution_count": 10,
     "metadata": {},
     "output_type": "execute_result"
    }
   ],
   "source": [
    "wf_builder.graph_attributes = {\"graph_attr\": {\"size\": \"6!,6\"}}\n",
    "graph = wf_builder.generate_provenance_graph()\n",
    "graph.graphviz"
   ]
  },
  {
   "cell_type": "raw",
   "id": "a46b624f",
   "metadata": {
    "raw_mimetype": "text/restructuredtext"
   },
   "source": [
    "The ``MultipleWorkflowBuilder`` class\n",
    "=====================================\n",
    "\n",
    "The main difference between the :class:`WorkflowBuilder <aim2dat.aiida_workflows.workflow_builder.WorkflowBuilder>` and the :class:`MultipleWorkflowBuilder <aim2dat.aiida_workflows.workflow_builder.MultipleWorkflowBuilder>` class is that the latter hosts a list of `parent-nodes` and :class:`WorkflowBuilder <aim2dat.aiida_workflows.workflow_builder.WorkflowBuilder>` instances:"
   ]
  },
  {
   "cell_type": "code",
   "execution_count": 11,
   "id": "21548f32-d45c-4304-9ee7-1cab6bd44869",
   "metadata": {
    "execution": {
     "iopub.execute_input": "2024-10-15T07:33:12.585054Z",
     "iopub.status.busy": "2024-10-15T07:33:12.584684Z",
     "iopub.status.idle": "2024-10-15T07:33:12.663164Z",
     "shell.execute_reply": "2024-10-15T07:33:12.662483Z"
    }
   },
   "outputs": [
    {
     "name": "stderr",
     "output_type": "stream",
     "text": [
      "/opt/hostedtoolcache/Python/3.10.15/x64/lib/python3.10/site-packages/aiida/plugins/entry_point.py:349: AiidaDeprecationWarning: The entry point `float` is deprecated. Please replace it with `core.float`. (this will be removed in v3)\n",
      "  warn_deprecation(f'The entry point `{name}` is deprecated. Please replace it with `core.{name}`.', version=3)\n"
     ]
    }
   ],
   "source": [
    "from aim2dat.aiida_workflows.workflow_builder import MultipleWorkflowBuilder\n",
    "\n",
    "mwf_builder = MultipleWorkflowBuilder()\n",
    "mwf_builder.protocol = \"arithmetic-testing\"\n",
    "\n",
    "for n in range(0, 5):\n",
    "    mwf_builder.add_parent_node(Float(n))"
   ]
  },
  {
   "cell_type": "raw",
   "id": "0a7b019d",
   "metadata": {
    "raw_mimetype": "text/restructuredtext"
   },
   "source": [
    "The user input parameters can be set likewise to the :class:`WorkflowBuilder <aim2dat.aiida_workflows.workflow_builder.WorkflowBuilder>` class:"
   ]
  },
  {
   "cell_type": "code",
   "execution_count": 12,
   "id": "e69f9cfd-e42f-4e18-b005-1f0146edcc6d",
   "metadata": {
    "execution": {
     "iopub.execute_input": "2024-10-15T07:33:12.665925Z",
     "iopub.status.busy": "2024-10-15T07:33:12.665398Z",
     "iopub.status.idle": "2024-10-15T07:33:12.669175Z",
     "shell.execute_reply": "2024-10-15T07:33:12.668672Z"
    }
   },
   "outputs": [],
   "source": [
    "mwf_builder.set_user_input(\"y\", 2.0)\n",
    "mwf_builder.set_user_input(\"y->task_4.1\", 3.0)"
   ]
  },
  {
   "cell_type": "markdown",
   "id": "441da379-5512-499b-886b-b7a9e4905e09",
   "metadata": {},
   "source": [
    "The status information as well as process nodes and workflow results is therefore given as pandas dataframes:"
   ]
  },
  {
   "cell_type": "code",
   "execution_count": 13,
   "id": "cc472f43-479b-4f2a-9813-ab2a29002eb6",
   "metadata": {
    "execution": {
     "iopub.execute_input": "2024-10-15T07:33:12.671594Z",
     "iopub.status.busy": "2024-10-15T07:33:12.671253Z",
     "iopub.status.idle": "2024-10-15T07:33:12.826131Z",
     "shell.execute_reply": "2024-10-15T07:33:12.825444Z"
    }
   },
   "outputs": [
    {
     "data": {
      "text/html": [
       "<style type=\"text/css\">\n",
       "#T_8f075_row0_col3, #T_8f075_row0_col4, #T_8f075_row0_col5, #T_8f075_row0_col6, #T_8f075_row1_col3, #T_8f075_row1_col4, #T_8f075_row1_col5, #T_8f075_row1_col6, #T_8f075_row2_col3, #T_8f075_row2_col4, #T_8f075_row2_col5, #T_8f075_row2_col6, #T_8f075_row3_col3, #T_8f075_row3_col4, #T_8f075_row3_col5, #T_8f075_row3_col6, #T_8f075_row4_col3, #T_8f075_row4_col4, #T_8f075_row4_col5, #T_8f075_row4_col6 {\n",
       "  color: orange;\n",
       "}\n",
       "</style>\n",
       "<table id=\"T_8f075\">\n",
       "  <thead>\n",
       "    <tr>\n",
       "      <th class=\"blank level0\" >&nbsp;</th>\n",
       "      <th id=\"T_8f075_level0_col0\" class=\"col_heading level0 col0\" >task_1.1</th>\n",
       "      <th id=\"T_8f075_level0_col1\" class=\"col_heading level0 col1\" >task_1.2</th>\n",
       "      <th id=\"T_8f075_level0_col2\" class=\"col_heading level0 col2\" >task_1.3</th>\n",
       "      <th id=\"T_8f075_level0_col3\" class=\"col_heading level0 col3\" >task_2.1</th>\n",
       "      <th id=\"T_8f075_level0_col4\" class=\"col_heading level0 col4\" >task_2.2</th>\n",
       "      <th id=\"T_8f075_level0_col5\" class=\"col_heading level0 col5\" >task_3.1</th>\n",
       "      <th id=\"T_8f075_level0_col6\" class=\"col_heading level0 col6\" >task_4.1</th>\n",
       "    </tr>\n",
       "  </thead>\n",
       "  <tbody>\n",
       "    <tr>\n",
       "      <th id=\"T_8f075_level0_row0\" class=\"row_heading level0 row0\" >0</th>\n",
       "      <td id=\"T_8f075_row0_col0\" class=\"data row0 col0\" >deps. met</td>\n",
       "      <td id=\"T_8f075_row0_col1\" class=\"data row0 col1\" >deps. met</td>\n",
       "      <td id=\"T_8f075_row0_col2\" class=\"data row0 col2\" >deps. met</td>\n",
       "      <td id=\"T_8f075_row0_col3\" class=\"data row0 col3\" >missing deps.</td>\n",
       "      <td id=\"T_8f075_row0_col4\" class=\"data row0 col4\" >missing deps.</td>\n",
       "      <td id=\"T_8f075_row0_col5\" class=\"data row0 col5\" >missing deps.</td>\n",
       "      <td id=\"T_8f075_row0_col6\" class=\"data row0 col6\" >missing deps.</td>\n",
       "    </tr>\n",
       "    <tr>\n",
       "      <th id=\"T_8f075_level0_row1\" class=\"row_heading level0 row1\" >1</th>\n",
       "      <td id=\"T_8f075_row1_col0\" class=\"data row1 col0\" >deps. met</td>\n",
       "      <td id=\"T_8f075_row1_col1\" class=\"data row1 col1\" >deps. met</td>\n",
       "      <td id=\"T_8f075_row1_col2\" class=\"data row1 col2\" >deps. met</td>\n",
       "      <td id=\"T_8f075_row1_col3\" class=\"data row1 col3\" >missing deps.</td>\n",
       "      <td id=\"T_8f075_row1_col4\" class=\"data row1 col4\" >missing deps.</td>\n",
       "      <td id=\"T_8f075_row1_col5\" class=\"data row1 col5\" >missing deps.</td>\n",
       "      <td id=\"T_8f075_row1_col6\" class=\"data row1 col6\" >missing deps.</td>\n",
       "    </tr>\n",
       "    <tr>\n",
       "      <th id=\"T_8f075_level0_row2\" class=\"row_heading level0 row2\" >2</th>\n",
       "      <td id=\"T_8f075_row2_col0\" class=\"data row2 col0\" >deps. met</td>\n",
       "      <td id=\"T_8f075_row2_col1\" class=\"data row2 col1\" >deps. met</td>\n",
       "      <td id=\"T_8f075_row2_col2\" class=\"data row2 col2\" >deps. met</td>\n",
       "      <td id=\"T_8f075_row2_col3\" class=\"data row2 col3\" >missing deps.</td>\n",
       "      <td id=\"T_8f075_row2_col4\" class=\"data row2 col4\" >missing deps.</td>\n",
       "      <td id=\"T_8f075_row2_col5\" class=\"data row2 col5\" >missing deps.</td>\n",
       "      <td id=\"T_8f075_row2_col6\" class=\"data row2 col6\" >missing deps.</td>\n",
       "    </tr>\n",
       "    <tr>\n",
       "      <th id=\"T_8f075_level0_row3\" class=\"row_heading level0 row3\" >3</th>\n",
       "      <td id=\"T_8f075_row3_col0\" class=\"data row3 col0\" >deps. met</td>\n",
       "      <td id=\"T_8f075_row3_col1\" class=\"data row3 col1\" >deps. met</td>\n",
       "      <td id=\"T_8f075_row3_col2\" class=\"data row3 col2\" >deps. met</td>\n",
       "      <td id=\"T_8f075_row3_col3\" class=\"data row3 col3\" >missing deps.</td>\n",
       "      <td id=\"T_8f075_row3_col4\" class=\"data row3 col4\" >missing deps.</td>\n",
       "      <td id=\"T_8f075_row3_col5\" class=\"data row3 col5\" >missing deps.</td>\n",
       "      <td id=\"T_8f075_row3_col6\" class=\"data row3 col6\" >missing deps.</td>\n",
       "    </tr>\n",
       "    <tr>\n",
       "      <th id=\"T_8f075_level0_row4\" class=\"row_heading level0 row4\" >4</th>\n",
       "      <td id=\"T_8f075_row4_col0\" class=\"data row4 col0\" >deps. met</td>\n",
       "      <td id=\"T_8f075_row4_col1\" class=\"data row4 col1\" >deps. met</td>\n",
       "      <td id=\"T_8f075_row4_col2\" class=\"data row4 col2\" >deps. met</td>\n",
       "      <td id=\"T_8f075_row4_col3\" class=\"data row4 col3\" >missing deps.</td>\n",
       "      <td id=\"T_8f075_row4_col4\" class=\"data row4 col4\" >missing deps.</td>\n",
       "      <td id=\"T_8f075_row4_col5\" class=\"data row4 col5\" >missing deps.</td>\n",
       "      <td id=\"T_8f075_row4_col6\" class=\"data row4 col6\" >missing deps.</td>\n",
       "    </tr>\n",
       "  </tbody>\n",
       "</table>\n"
      ],
      "text/plain": [
       "<pandas.io.formats.style.Styler at 0x7f736fbf8cd0>"
      ]
     },
     "execution_count": 13,
     "metadata": {},
     "output_type": "execute_result"
    }
   ],
   "source": [
    "mwf_builder.return_workflow_states()"
   ]
  },
  {
   "cell_type": "markdown",
   "id": "4375befc-b12d-4c5e-9875-65788e4201e6",
   "metadata": {},
   "source": [
    "Different tasks can be started for all `parent-nodes` within one function call via the :meth:`run_task <aim2dat.aiida_workflows.workflow_builder.MultipleWorkflowBuilder.run_task>` or :meth:`submit_task <aim2dat.aiida_workflows.workflow_builder.MultipleWorkflowBuilder.submit_task>` functions:"
   ]
  },
  {
   "cell_type": "code",
   "execution_count": 14,
   "id": "d7cbc330-81bc-466b-b09a-f1a10808364f",
   "metadata": {
    "execution": {
     "iopub.execute_input": "2024-10-15T07:33:12.828994Z",
     "iopub.status.busy": "2024-10-15T07:33:12.828441Z",
     "iopub.status.idle": "2024-10-15T07:33:16.128793Z",
     "shell.execute_reply": "2024-10-15T07:33:16.128177Z"
    }
   },
   "outputs": [
    {
     "data": {
      "text/html": [
       "<style type=\"text/css\">\n",
       "#T_e5468_row0_col1, #T_e5468_row1_col1, #T_e5468_row2_col1, #T_e5468_row3_col1, #T_e5468_row4_col1 {\n",
       "  color: green;\n",
       "}\n",
       "#T_e5468_row0_col4, #T_e5468_row0_col5, #T_e5468_row0_col6, #T_e5468_row0_col7, #T_e5468_row1_col4, #T_e5468_row1_col5, #T_e5468_row1_col6, #T_e5468_row1_col7, #T_e5468_row2_col4, #T_e5468_row2_col5, #T_e5468_row2_col6, #T_e5468_row2_col7, #T_e5468_row3_col4, #T_e5468_row3_col5, #T_e5468_row3_col6, #T_e5468_row3_col7, #T_e5468_row4_col4, #T_e5468_row4_col5, #T_e5468_row4_col6, #T_e5468_row4_col7 {\n",
       "  color: orange;\n",
       "}\n",
       "</style>\n",
       "<table id=\"T_e5468\">\n",
       "  <thead>\n",
       "    <tr>\n",
       "      <th class=\"blank level0\" >&nbsp;</th>\n",
       "      <th id=\"T_e5468_level0_col0\" class=\"col_heading level0 col0\" >parent_node</th>\n",
       "      <th id=\"T_e5468_level0_col1\" class=\"col_heading level0 col1\" >task_1.1</th>\n",
       "      <th id=\"T_e5468_level0_col2\" class=\"col_heading level0 col2\" >task_1.2</th>\n",
       "      <th id=\"T_e5468_level0_col3\" class=\"col_heading level0 col3\" >task_1.3</th>\n",
       "      <th id=\"T_e5468_level0_col4\" class=\"col_heading level0 col4\" >task_2.1</th>\n",
       "      <th id=\"T_e5468_level0_col5\" class=\"col_heading level0 col5\" >task_2.2</th>\n",
       "      <th id=\"T_e5468_level0_col6\" class=\"col_heading level0 col6\" >task_3.1</th>\n",
       "      <th id=\"T_e5468_level0_col7\" class=\"col_heading level0 col7\" >task_4.1</th>\n",
       "    </tr>\n",
       "  </thead>\n",
       "  <tbody>\n",
       "    <tr>\n",
       "      <th id=\"T_e5468_level0_row0\" class=\"row_heading level0 row0\" >0</th>\n",
       "      <td id=\"T_e5468_row0_col0\" class=\"data row0 col0\" >26</td>\n",
       "      <td id=\"T_e5468_row0_col1\" class=\"data row0 col1\" >completed</td>\n",
       "      <td id=\"T_e5468_row0_col2\" class=\"data row0 col2\" >deps. met</td>\n",
       "      <td id=\"T_e5468_row0_col3\" class=\"data row0 col3\" >deps. met</td>\n",
       "      <td id=\"T_e5468_row0_col4\" class=\"data row0 col4\" >missing deps.</td>\n",
       "      <td id=\"T_e5468_row0_col5\" class=\"data row0 col5\" >missing deps.</td>\n",
       "      <td id=\"T_e5468_row0_col6\" class=\"data row0 col6\" >missing deps.</td>\n",
       "      <td id=\"T_e5468_row0_col7\" class=\"data row0 col7\" >missing deps.</td>\n",
       "    </tr>\n",
       "    <tr>\n",
       "      <th id=\"T_e5468_level0_row1\" class=\"row_heading level0 row1\" >1</th>\n",
       "      <td id=\"T_e5468_row1_col0\" class=\"data row1 col0\" >34</td>\n",
       "      <td id=\"T_e5468_row1_col1\" class=\"data row1 col1\" >completed</td>\n",
       "      <td id=\"T_e5468_row1_col2\" class=\"data row1 col2\" >deps. met</td>\n",
       "      <td id=\"T_e5468_row1_col3\" class=\"data row1 col3\" >deps. met</td>\n",
       "      <td id=\"T_e5468_row1_col4\" class=\"data row1 col4\" >missing deps.</td>\n",
       "      <td id=\"T_e5468_row1_col5\" class=\"data row1 col5\" >missing deps.</td>\n",
       "      <td id=\"T_e5468_row1_col6\" class=\"data row1 col6\" >missing deps.</td>\n",
       "      <td id=\"T_e5468_row1_col7\" class=\"data row1 col7\" >missing deps.</td>\n",
       "    </tr>\n",
       "    <tr>\n",
       "      <th id=\"T_e5468_level0_row2\" class=\"row_heading level0 row2\" >2</th>\n",
       "      <td id=\"T_e5468_row2_col0\" class=\"data row2 col0\" >41</td>\n",
       "      <td id=\"T_e5468_row2_col1\" class=\"data row2 col1\" >completed</td>\n",
       "      <td id=\"T_e5468_row2_col2\" class=\"data row2 col2\" >deps. met</td>\n",
       "      <td id=\"T_e5468_row2_col3\" class=\"data row2 col3\" >deps. met</td>\n",
       "      <td id=\"T_e5468_row2_col4\" class=\"data row2 col4\" >missing deps.</td>\n",
       "      <td id=\"T_e5468_row2_col5\" class=\"data row2 col5\" >missing deps.</td>\n",
       "      <td id=\"T_e5468_row2_col6\" class=\"data row2 col6\" >missing deps.</td>\n",
       "      <td id=\"T_e5468_row2_col7\" class=\"data row2 col7\" >missing deps.</td>\n",
       "    </tr>\n",
       "    <tr>\n",
       "      <th id=\"T_e5468_level0_row3\" class=\"row_heading level0 row3\" >3</th>\n",
       "      <td id=\"T_e5468_row3_col0\" class=\"data row3 col0\" >48</td>\n",
       "      <td id=\"T_e5468_row3_col1\" class=\"data row3 col1\" >completed</td>\n",
       "      <td id=\"T_e5468_row3_col2\" class=\"data row3 col2\" >deps. met</td>\n",
       "      <td id=\"T_e5468_row3_col3\" class=\"data row3 col3\" >deps. met</td>\n",
       "      <td id=\"T_e5468_row3_col4\" class=\"data row3 col4\" >missing deps.</td>\n",
       "      <td id=\"T_e5468_row3_col5\" class=\"data row3 col5\" >missing deps.</td>\n",
       "      <td id=\"T_e5468_row3_col6\" class=\"data row3 col6\" >missing deps.</td>\n",
       "      <td id=\"T_e5468_row3_col7\" class=\"data row3 col7\" >missing deps.</td>\n",
       "    </tr>\n",
       "    <tr>\n",
       "      <th id=\"T_e5468_level0_row4\" class=\"row_heading level0 row4\" >4</th>\n",
       "      <td id=\"T_e5468_row4_col0\" class=\"data row4 col0\" >55</td>\n",
       "      <td id=\"T_e5468_row4_col1\" class=\"data row4 col1\" >completed</td>\n",
       "      <td id=\"T_e5468_row4_col2\" class=\"data row4 col2\" >deps. met</td>\n",
       "      <td id=\"T_e5468_row4_col3\" class=\"data row4 col3\" >deps. met</td>\n",
       "      <td id=\"T_e5468_row4_col4\" class=\"data row4 col4\" >missing deps.</td>\n",
       "      <td id=\"T_e5468_row4_col5\" class=\"data row4 col5\" >missing deps.</td>\n",
       "      <td id=\"T_e5468_row4_col6\" class=\"data row4 col6\" >missing deps.</td>\n",
       "      <td id=\"T_e5468_row4_col7\" class=\"data row4 col7\" >missing deps.</td>\n",
       "    </tr>\n",
       "  </tbody>\n",
       "</table>\n"
      ],
      "text/plain": [
       "<pandas.io.formats.style.Styler at 0x7f737250f6a0>"
      ]
     },
     "execution_count": 14,
     "metadata": {},
     "output_type": "execute_result"
    }
   ],
   "source": [
    "mwf_builder.run_task(\"task_1.1\")\n",
    "mwf_builder.return_workflow_states()"
   ]
  },
  {
   "cell_type": "markdown",
   "id": "098dbcff-4c84-4a1f-bb42-109c034120a8",
   "metadata": {},
   "source": [
    "The tasks can be started for a subset of the _parent-nodes_ by using the ``interval`` parameter:"
   ]
  },
  {
   "cell_type": "code",
   "execution_count": 15,
   "id": "d037f1a4-e6c9-4acd-b1ba-550e3a06a4c2",
   "metadata": {
    "execution": {
     "iopub.execute_input": "2024-10-15T07:33:16.131741Z",
     "iopub.status.busy": "2024-10-15T07:33:16.131207Z",
     "iopub.status.idle": "2024-10-15T07:33:18.229680Z",
     "shell.execute_reply": "2024-10-15T07:33:18.228987Z"
    }
   },
   "outputs": [
    {
     "data": {
      "text/html": [
       "<style type=\"text/css\">\n",
       "#T_f607d_row0_col1, #T_f607d_row0_col2, #T_f607d_row1_col1, #T_f607d_row1_col2, #T_f607d_row2_col1, #T_f607d_row2_col2, #T_f607d_row3_col1, #T_f607d_row4_col1 {\n",
       "  color: green;\n",
       "}\n",
       "#T_f607d_row0_col4, #T_f607d_row0_col5, #T_f607d_row0_col6, #T_f607d_row0_col7, #T_f607d_row1_col4, #T_f607d_row1_col5, #T_f607d_row1_col6, #T_f607d_row1_col7, #T_f607d_row2_col4, #T_f607d_row2_col5, #T_f607d_row2_col6, #T_f607d_row2_col7, #T_f607d_row3_col4, #T_f607d_row3_col5, #T_f607d_row3_col6, #T_f607d_row3_col7, #T_f607d_row4_col4, #T_f607d_row4_col5, #T_f607d_row4_col6, #T_f607d_row4_col7 {\n",
       "  color: orange;\n",
       "}\n",
       "</style>\n",
       "<table id=\"T_f607d\">\n",
       "  <thead>\n",
       "    <tr>\n",
       "      <th class=\"blank level0\" >&nbsp;</th>\n",
       "      <th id=\"T_f607d_level0_col0\" class=\"col_heading level0 col0\" >parent_node</th>\n",
       "      <th id=\"T_f607d_level0_col1\" class=\"col_heading level0 col1\" >task_1.1</th>\n",
       "      <th id=\"T_f607d_level0_col2\" class=\"col_heading level0 col2\" >task_1.2</th>\n",
       "      <th id=\"T_f607d_level0_col3\" class=\"col_heading level0 col3\" >task_1.3</th>\n",
       "      <th id=\"T_f607d_level0_col4\" class=\"col_heading level0 col4\" >task_2.1</th>\n",
       "      <th id=\"T_f607d_level0_col5\" class=\"col_heading level0 col5\" >task_2.2</th>\n",
       "      <th id=\"T_f607d_level0_col6\" class=\"col_heading level0 col6\" >task_3.1</th>\n",
       "      <th id=\"T_f607d_level0_col7\" class=\"col_heading level0 col7\" >task_4.1</th>\n",
       "    </tr>\n",
       "  </thead>\n",
       "  <tbody>\n",
       "    <tr>\n",
       "      <th id=\"T_f607d_level0_row0\" class=\"row_heading level0 row0\" >0</th>\n",
       "      <td id=\"T_f607d_row0_col0\" class=\"data row0 col0\" >26</td>\n",
       "      <td id=\"T_f607d_row0_col1\" class=\"data row0 col1\" >completed</td>\n",
       "      <td id=\"T_f607d_row0_col2\" class=\"data row0 col2\" >completed</td>\n",
       "      <td id=\"T_f607d_row0_col3\" class=\"data row0 col3\" >deps. met</td>\n",
       "      <td id=\"T_f607d_row0_col4\" class=\"data row0 col4\" >missing deps.</td>\n",
       "      <td id=\"T_f607d_row0_col5\" class=\"data row0 col5\" >missing deps.</td>\n",
       "      <td id=\"T_f607d_row0_col6\" class=\"data row0 col6\" >missing deps.</td>\n",
       "      <td id=\"T_f607d_row0_col7\" class=\"data row0 col7\" >missing deps.</td>\n",
       "    </tr>\n",
       "    <tr>\n",
       "      <th id=\"T_f607d_level0_row1\" class=\"row_heading level0 row1\" >1</th>\n",
       "      <td id=\"T_f607d_row1_col0\" class=\"data row1 col0\" >34</td>\n",
       "      <td id=\"T_f607d_row1_col1\" class=\"data row1 col1\" >completed</td>\n",
       "      <td id=\"T_f607d_row1_col2\" class=\"data row1 col2\" >completed</td>\n",
       "      <td id=\"T_f607d_row1_col3\" class=\"data row1 col3\" >deps. met</td>\n",
       "      <td id=\"T_f607d_row1_col4\" class=\"data row1 col4\" >missing deps.</td>\n",
       "      <td id=\"T_f607d_row1_col5\" class=\"data row1 col5\" >missing deps.</td>\n",
       "      <td id=\"T_f607d_row1_col6\" class=\"data row1 col6\" >missing deps.</td>\n",
       "      <td id=\"T_f607d_row1_col7\" class=\"data row1 col7\" >missing deps.</td>\n",
       "    </tr>\n",
       "    <tr>\n",
       "      <th id=\"T_f607d_level0_row2\" class=\"row_heading level0 row2\" >2</th>\n",
       "      <td id=\"T_f607d_row2_col0\" class=\"data row2 col0\" >41</td>\n",
       "      <td id=\"T_f607d_row2_col1\" class=\"data row2 col1\" >completed</td>\n",
       "      <td id=\"T_f607d_row2_col2\" class=\"data row2 col2\" >completed</td>\n",
       "      <td id=\"T_f607d_row2_col3\" class=\"data row2 col3\" >deps. met</td>\n",
       "      <td id=\"T_f607d_row2_col4\" class=\"data row2 col4\" >missing deps.</td>\n",
       "      <td id=\"T_f607d_row2_col5\" class=\"data row2 col5\" >missing deps.</td>\n",
       "      <td id=\"T_f607d_row2_col6\" class=\"data row2 col6\" >missing deps.</td>\n",
       "      <td id=\"T_f607d_row2_col7\" class=\"data row2 col7\" >missing deps.</td>\n",
       "    </tr>\n",
       "    <tr>\n",
       "      <th id=\"T_f607d_level0_row3\" class=\"row_heading level0 row3\" >3</th>\n",
       "      <td id=\"T_f607d_row3_col0\" class=\"data row3 col0\" >48</td>\n",
       "      <td id=\"T_f607d_row3_col1\" class=\"data row3 col1\" >completed</td>\n",
       "      <td id=\"T_f607d_row3_col2\" class=\"data row3 col2\" >deps. met</td>\n",
       "      <td id=\"T_f607d_row3_col3\" class=\"data row3 col3\" >deps. met</td>\n",
       "      <td id=\"T_f607d_row3_col4\" class=\"data row3 col4\" >missing deps.</td>\n",
       "      <td id=\"T_f607d_row3_col5\" class=\"data row3 col5\" >missing deps.</td>\n",
       "      <td id=\"T_f607d_row3_col6\" class=\"data row3 col6\" >missing deps.</td>\n",
       "      <td id=\"T_f607d_row3_col7\" class=\"data row3 col7\" >missing deps.</td>\n",
       "    </tr>\n",
       "    <tr>\n",
       "      <th id=\"T_f607d_level0_row4\" class=\"row_heading level0 row4\" >4</th>\n",
       "      <td id=\"T_f607d_row4_col0\" class=\"data row4 col0\" >55</td>\n",
       "      <td id=\"T_f607d_row4_col1\" class=\"data row4 col1\" >completed</td>\n",
       "      <td id=\"T_f607d_row4_col2\" class=\"data row4 col2\" >deps. met</td>\n",
       "      <td id=\"T_f607d_row4_col3\" class=\"data row4 col3\" >deps. met</td>\n",
       "      <td id=\"T_f607d_row4_col4\" class=\"data row4 col4\" >missing deps.</td>\n",
       "      <td id=\"T_f607d_row4_col5\" class=\"data row4 col5\" >missing deps.</td>\n",
       "      <td id=\"T_f607d_row4_col6\" class=\"data row4 col6\" >missing deps.</td>\n",
       "      <td id=\"T_f607d_row4_col7\" class=\"data row4 col7\" >missing deps.</td>\n",
       "    </tr>\n",
       "  </tbody>\n",
       "</table>\n"
      ],
      "text/plain": [
       "<pandas.io.formats.style.Styler at 0x7f736f785360>"
      ]
     },
     "execution_count": 15,
     "metadata": {},
     "output_type": "execute_result"
    }
   ],
   "source": [
    "mwf_builder.run_task(\"task_1.2\", interval=[0, 3])\n",
    "mwf_builder.return_workflow_states()"
   ]
  },
  {
   "cell_type": "markdown",
   "id": "e7f45a4a-3299-40d5-b8b8-c451b5b94e98",
   "metadata": {},
   "source": [
    "Several tasks can be started consecutively by setting a task queue:"
   ]
  },
  {
   "cell_type": "code",
   "execution_count": 16,
   "id": "c0f6dff7-913b-48b3-9db5-5d4b575d3888",
   "metadata": {
    "execution": {
     "iopub.execute_input": "2024-10-15T07:33:18.232393Z",
     "iopub.status.busy": "2024-10-15T07:33:18.231974Z",
     "iopub.status.idle": "2024-10-15T07:33:35.136513Z",
     "shell.execute_reply": "2024-10-15T07:33:35.135926Z"
    }
   },
   "outputs": [],
   "source": [
    "mwf_builder.add_to_task_queue(\"task_1.2\", run_type=\"run\")\n",
    "mwf_builder.add_to_task_queue(\"task_1.3\", run_type=\"run\")\n",
    "mwf_builder.add_to_task_queue(\"task_2.1\", run_type=\"run\")\n",
    "mwf_builder.add_to_task_queue(\"task_2.2\", run_type=\"run\")\n",
    "mwf_builder.add_to_task_queue(\"task_3.1\", run_type=\"run\")\n",
    "mwf_builder.add_to_task_queue(\"task_4.1\", run_type=\"run\")\n",
    "mwf_builder.execute_task_queue()"
   ]
  },
  {
   "cell_type": "markdown",
   "id": "3327db02-bd52-4fe4-a16d-11e504e16331",
   "metadata": {},
   "source": [
    "Additional information can be returned via the functions [``return_process_nodes``](aim2dat.aiida_workflows.workflow_builder.MultipleWorkflowBuilder.return_process_nodes) and [``return_results``](aim2dat.aiida_workflows.workflow_builder.MultipleWorkflowBuilder.return_results):"
   ]
  },
  {
   "cell_type": "code",
   "execution_count": 17,
   "id": "7b855349-3d47-4ccd-89bc-5e29b7cbdf04",
   "metadata": {
    "execution": {
     "iopub.execute_input": "2024-10-15T07:33:35.139288Z",
     "iopub.status.busy": "2024-10-15T07:33:35.139058Z",
     "iopub.status.idle": "2024-10-15T07:33:35.373045Z",
     "shell.execute_reply": "2024-10-15T07:33:35.372337Z"
    }
   },
   "outputs": [
    {
     "data": {
      "text/html": [
       "<div>\n",
       "<style scoped>\n",
       "    .dataframe tbody tr th:only-of-type {\n",
       "        vertical-align: middle;\n",
       "    }\n",
       "\n",
       "    .dataframe tbody tr th {\n",
       "        vertical-align: top;\n",
       "    }\n",
       "\n",
       "    .dataframe thead th {\n",
       "        text-align: right;\n",
       "    }\n",
       "</style>\n",
       "<table border=\"1\" class=\"dataframe\">\n",
       "  <thead>\n",
       "    <tr style=\"text-align: right;\">\n",
       "      <th></th>\n",
       "      <th>parent_node</th>\n",
       "      <th>task_1.1</th>\n",
       "      <th>task_1.2</th>\n",
       "      <th>task_1.3</th>\n",
       "      <th>task_2.1</th>\n",
       "      <th>task_2.2</th>\n",
       "      <th>task_3.1</th>\n",
       "      <th>task_4.1</th>\n",
       "    </tr>\n",
       "  </thead>\n",
       "  <tbody>\n",
       "    <tr>\n",
       "      <th>0</th>\n",
       "      <td>26</td>\n",
       "      <td>29</td>\n",
       "      <td>63</td>\n",
       "      <td>89</td>\n",
       "      <td>114</td>\n",
       "      <td>139</td>\n",
       "      <td>164</td>\n",
       "      <td>190</td>\n",
       "    </tr>\n",
       "    <tr>\n",
       "      <th>1</th>\n",
       "      <td>34</td>\n",
       "      <td>36</td>\n",
       "      <td>68</td>\n",
       "      <td>94</td>\n",
       "      <td>119</td>\n",
       "      <td>144</td>\n",
       "      <td>169</td>\n",
       "      <td>195</td>\n",
       "    </tr>\n",
       "    <tr>\n",
       "      <th>2</th>\n",
       "      <td>41</td>\n",
       "      <td>43</td>\n",
       "      <td>73</td>\n",
       "      <td>99</td>\n",
       "      <td>124</td>\n",
       "      <td>149</td>\n",
       "      <td>174</td>\n",
       "      <td>200</td>\n",
       "    </tr>\n",
       "    <tr>\n",
       "      <th>3</th>\n",
       "      <td>48</td>\n",
       "      <td>50</td>\n",
       "      <td>78</td>\n",
       "      <td>104</td>\n",
       "      <td>129</td>\n",
       "      <td>154</td>\n",
       "      <td>179</td>\n",
       "      <td>205</td>\n",
       "    </tr>\n",
       "    <tr>\n",
       "      <th>4</th>\n",
       "      <td>55</td>\n",
       "      <td>57</td>\n",
       "      <td>83</td>\n",
       "      <td>109</td>\n",
       "      <td>134</td>\n",
       "      <td>159</td>\n",
       "      <td>184</td>\n",
       "      <td>210</td>\n",
       "    </tr>\n",
       "  </tbody>\n",
       "</table>\n",
       "</div>"
      ],
      "text/plain": [
       "   parent_node  task_1.1  task_1.2  task_1.3  task_2.1  task_2.2  task_3.1  \\\n",
       "0           26        29        63        89       114       139       164   \n",
       "1           34        36        68        94       119       144       169   \n",
       "2           41        43        73        99       124       149       174   \n",
       "3           48        50        78       104       129       154       179   \n",
       "4           55        57        83       109       134       159       184   \n",
       "\n",
       "   task_4.1  \n",
       "0       190  \n",
       "1       195  \n",
       "2       200  \n",
       "3       205  \n",
       "4       210  "
      ]
     },
     "execution_count": 17,
     "metadata": {},
     "output_type": "execute_result"
    }
   ],
   "source": [
    "mwf_builder.return_process_nodes()"
   ]
  },
  {
   "cell_type": "code",
   "execution_count": 18,
   "id": "8b828744-5958-44b8-8a35-c57d6b9ef8f7",
   "metadata": {
    "execution": {
     "iopub.execute_input": "2024-10-15T07:33:35.375866Z",
     "iopub.status.busy": "2024-10-15T07:33:35.375296Z",
     "iopub.status.idle": "2024-10-15T07:33:35.458331Z",
     "shell.execute_reply": "2024-10-15T07:33:35.457752Z"
    }
   },
   "outputs": [
    {
     "data": {
      "text/html": [
       "<div>\n",
       "<style scoped>\n",
       "    .dataframe tbody tr th:only-of-type {\n",
       "        vertical-align: middle;\n",
       "    }\n",
       "\n",
       "    .dataframe tbody tr th {\n",
       "        vertical-align: top;\n",
       "    }\n",
       "\n",
       "    .dataframe thead th {\n",
       "        text-align: right;\n",
       "    }\n",
       "</style>\n",
       "<table border=\"1\" class=\"dataframe\">\n",
       "  <thead>\n",
       "    <tr style=\"text-align: right;\">\n",
       "      <th></th>\n",
       "      <th>parent_node</th>\n",
       "      <th>res_1 (test_unit)</th>\n",
       "      <th>res_2 (test_unit)</th>\n",
       "    </tr>\n",
       "  </thead>\n",
       "  <tbody>\n",
       "    <tr>\n",
       "      <th>0</th>\n",
       "      <td>26</td>\n",
       "      <td>24.0</td>\n",
       "      <td>0.0</td>\n",
       "    </tr>\n",
       "    <tr>\n",
       "      <th>1</th>\n",
       "      <td>34</td>\n",
       "      <td>54324.0</td>\n",
       "      <td>12.0</td>\n",
       "    </tr>\n",
       "    <tr>\n",
       "      <th>2</th>\n",
       "      <td>41</td>\n",
       "      <td>366128.0</td>\n",
       "      <td>24.0</td>\n",
       "    </tr>\n",
       "    <tr>\n",
       "      <th>3</th>\n",
       "      <td>48</td>\n",
       "      <td>1251180.0</td>\n",
       "      <td>36.0</td>\n",
       "    </tr>\n",
       "    <tr>\n",
       "      <th>4</th>\n",
       "      <td>55</td>\n",
       "      <td>3145032.0</td>\n",
       "      <td>48.0</td>\n",
       "    </tr>\n",
       "  </tbody>\n",
       "</table>\n",
       "</div>"
      ],
      "text/plain": [
       "   parent_node  res_1 (test_unit)  res_2 (test_unit)\n",
       "0           26               24.0                0.0\n",
       "1           34            54324.0               12.0\n",
       "2           41           366128.0               24.0\n",
       "3           48          1251180.0               36.0\n",
       "4           55          3145032.0               48.0"
      ]
     },
     "execution_count": 18,
     "metadata": {},
     "output_type": "execute_result"
    }
   ],
   "source": [
    "mwf_builder.return_results()"
   ]
  },
  {
   "cell_type": "raw",
   "id": "c2077ea9",
   "metadata": {
    "raw_mimetype": "text/restructuredtext"
   },
   "source": [
    "Storing and loading workflows\n",
    "=============================\n",
    "\n",
    "Both, the :class:`WorkflowBuilder <aim2dat.aiida_workflows.workflow_builder.WorkflowBuilder>` and the :class:`MultipleWorkflowBuilder <aim2dat.aiida_workflows.workflow_builder.MultipleWorkflowBuilder>` have the methods :meth:`to_file <aim2dat.aiida_workflows.workflow_builder.WorkflowBuilder.to_file>` and :meth:`from_file <aim2dat.aiida_workflows.workflow_builder.WorkflowBuilder.from_file>` implemented which allows to store the workflow protocol and process nodes in a yaml-file.\n",
    "This feature can be also used to share the workflow information by exporting/importing the process nodes as well (see the |aiida_doc| for more details).\n",
    "\n",
    ".. |aiida_doc| raw:: html\n",
    "\n",
    "   <a href=\"https://aiida.readthedocs.io/projects/aiida-core/en/latest/howto/share_data.html#sharing-aiida-archives\" target=\"_blank\">AiiDA documentation</a>"
   ]
  },
  {
   "cell_type": "code",
   "execution_count": 19,
   "id": "7502e5d1-c9d7-464e-9545-b481eb57d67a",
   "metadata": {
    "execution": {
     "iopub.execute_input": "2024-10-15T07:33:35.461089Z",
     "iopub.status.busy": "2024-10-15T07:33:35.460607Z",
     "iopub.status.idle": "2024-10-15T07:33:37.335072Z",
     "shell.execute_reply": "2024-10-15T07:33:37.334395Z"
    }
   },
   "outputs": [
    {
     "name": "stderr",
     "output_type": "stream",
     "text": [
      "/opt/hostedtoolcache/Python/3.10.15/x64/lib/python3.10/site-packages/aiida/plugins/entry_point.py:349: AiidaDeprecationWarning: The entry point `float` is deprecated. Please replace it with `core.float`. (this will be removed in v3)\n",
      "  warn_deprecation(f'The entry point `{name}` is deprecated. Please replace it with `core.{name}`.', version=3)\n",
      "/opt/hostedtoolcache/Python/3.10.15/x64/lib/python3.10/site-packages/aiida/plugins/entry_point.py:349: AiidaDeprecationWarning: The entry point `float` is deprecated. Please replace it with `core.float`. (this will be removed in v3)\n",
      "  warn_deprecation(f'The entry point `{name}` is deprecated. Please replace it with `core.{name}`.', version=3)\n",
      "/opt/hostedtoolcache/Python/3.10.15/x64/lib/python3.10/site-packages/aiida/plugins/entry_point.py:349: AiidaDeprecationWarning: The entry point `float` is deprecated. Please replace it with `core.float`. (this will be removed in v3)\n",
      "  warn_deprecation(f'The entry point `{name}` is deprecated. Please replace it with `core.{name}`.', version=3)\n",
      "/opt/hostedtoolcache/Python/3.10.15/x64/lib/python3.10/site-packages/aiida/plugins/entry_point.py:349: AiidaDeprecationWarning: The entry point `float` is deprecated. Please replace it with `core.float`. (this will be removed in v3)\n",
      "  warn_deprecation(f'The entry point `{name}` is deprecated. Please replace it with `core.{name}`.', version=3)\n",
      "/opt/hostedtoolcache/Python/3.10.15/x64/lib/python3.10/site-packages/aiida/plugins/entry_point.py:349: AiidaDeprecationWarning: The entry point `float` is deprecated. Please replace it with `core.float`. (this will be removed in v3)\n",
      "  warn_deprecation(f'The entry point `{name}` is deprecated. Please replace it with `core.{name}`.', version=3)\n"
     ]
    },
    {
     "data": {
      "text/html": [
       "<style type=\"text/css\">\n",
       "#T_d7cbc_row0_col1, #T_d7cbc_row0_col2, #T_d7cbc_row0_col3, #T_d7cbc_row0_col4, #T_d7cbc_row0_col5, #T_d7cbc_row0_col6, #T_d7cbc_row0_col7, #T_d7cbc_row1_col1, #T_d7cbc_row1_col2, #T_d7cbc_row1_col3, #T_d7cbc_row1_col4, #T_d7cbc_row1_col5, #T_d7cbc_row1_col6, #T_d7cbc_row1_col7, #T_d7cbc_row2_col1, #T_d7cbc_row2_col2, #T_d7cbc_row2_col3, #T_d7cbc_row2_col4, #T_d7cbc_row2_col5, #T_d7cbc_row2_col6, #T_d7cbc_row2_col7, #T_d7cbc_row3_col1, #T_d7cbc_row3_col2, #T_d7cbc_row3_col3, #T_d7cbc_row3_col4, #T_d7cbc_row3_col5, #T_d7cbc_row3_col6, #T_d7cbc_row3_col7, #T_d7cbc_row4_col1, #T_d7cbc_row4_col2, #T_d7cbc_row4_col3, #T_d7cbc_row4_col4, #T_d7cbc_row4_col5, #T_d7cbc_row4_col6, #T_d7cbc_row4_col7 {\n",
       "  color: green;\n",
       "}\n",
       "</style>\n",
       "<table id=\"T_d7cbc\">\n",
       "  <thead>\n",
       "    <tr>\n",
       "      <th class=\"blank level0\" >&nbsp;</th>\n",
       "      <th id=\"T_d7cbc_level0_col0\" class=\"col_heading level0 col0\" >parent_node</th>\n",
       "      <th id=\"T_d7cbc_level0_col1\" class=\"col_heading level0 col1\" >task_1.1</th>\n",
       "      <th id=\"T_d7cbc_level0_col2\" class=\"col_heading level0 col2\" >task_1.2</th>\n",
       "      <th id=\"T_d7cbc_level0_col3\" class=\"col_heading level0 col3\" >task_1.3</th>\n",
       "      <th id=\"T_d7cbc_level0_col4\" class=\"col_heading level0 col4\" >task_2.1</th>\n",
       "      <th id=\"T_d7cbc_level0_col5\" class=\"col_heading level0 col5\" >task_2.2</th>\n",
       "      <th id=\"T_d7cbc_level0_col6\" class=\"col_heading level0 col6\" >task_3.1</th>\n",
       "      <th id=\"T_d7cbc_level0_col7\" class=\"col_heading level0 col7\" >task_4.1</th>\n",
       "    </tr>\n",
       "  </thead>\n",
       "  <tbody>\n",
       "    <tr>\n",
       "      <th id=\"T_d7cbc_level0_row0\" class=\"row_heading level0 row0\" >0</th>\n",
       "      <td id=\"T_d7cbc_row0_col0\" class=\"data row0 col0\" >26</td>\n",
       "      <td id=\"T_d7cbc_row0_col1\" class=\"data row0 col1\" >completed</td>\n",
       "      <td id=\"T_d7cbc_row0_col2\" class=\"data row0 col2\" >completed</td>\n",
       "      <td id=\"T_d7cbc_row0_col3\" class=\"data row0 col3\" >completed</td>\n",
       "      <td id=\"T_d7cbc_row0_col4\" class=\"data row0 col4\" >completed</td>\n",
       "      <td id=\"T_d7cbc_row0_col5\" class=\"data row0 col5\" >completed</td>\n",
       "      <td id=\"T_d7cbc_row0_col6\" class=\"data row0 col6\" >completed</td>\n",
       "      <td id=\"T_d7cbc_row0_col7\" class=\"data row0 col7\" >completed</td>\n",
       "    </tr>\n",
       "    <tr>\n",
       "      <th id=\"T_d7cbc_level0_row1\" class=\"row_heading level0 row1\" >1</th>\n",
       "      <td id=\"T_d7cbc_row1_col0\" class=\"data row1 col0\" >34</td>\n",
       "      <td id=\"T_d7cbc_row1_col1\" class=\"data row1 col1\" >completed</td>\n",
       "      <td id=\"T_d7cbc_row1_col2\" class=\"data row1 col2\" >completed</td>\n",
       "      <td id=\"T_d7cbc_row1_col3\" class=\"data row1 col3\" >completed</td>\n",
       "      <td id=\"T_d7cbc_row1_col4\" class=\"data row1 col4\" >completed</td>\n",
       "      <td id=\"T_d7cbc_row1_col5\" class=\"data row1 col5\" >completed</td>\n",
       "      <td id=\"T_d7cbc_row1_col6\" class=\"data row1 col6\" >completed</td>\n",
       "      <td id=\"T_d7cbc_row1_col7\" class=\"data row1 col7\" >completed</td>\n",
       "    </tr>\n",
       "    <tr>\n",
       "      <th id=\"T_d7cbc_level0_row2\" class=\"row_heading level0 row2\" >2</th>\n",
       "      <td id=\"T_d7cbc_row2_col0\" class=\"data row2 col0\" >41</td>\n",
       "      <td id=\"T_d7cbc_row2_col1\" class=\"data row2 col1\" >completed</td>\n",
       "      <td id=\"T_d7cbc_row2_col2\" class=\"data row2 col2\" >completed</td>\n",
       "      <td id=\"T_d7cbc_row2_col3\" class=\"data row2 col3\" >completed</td>\n",
       "      <td id=\"T_d7cbc_row2_col4\" class=\"data row2 col4\" >completed</td>\n",
       "      <td id=\"T_d7cbc_row2_col5\" class=\"data row2 col5\" >completed</td>\n",
       "      <td id=\"T_d7cbc_row2_col6\" class=\"data row2 col6\" >completed</td>\n",
       "      <td id=\"T_d7cbc_row2_col7\" class=\"data row2 col7\" >completed</td>\n",
       "    </tr>\n",
       "    <tr>\n",
       "      <th id=\"T_d7cbc_level0_row3\" class=\"row_heading level0 row3\" >3</th>\n",
       "      <td id=\"T_d7cbc_row3_col0\" class=\"data row3 col0\" >48</td>\n",
       "      <td id=\"T_d7cbc_row3_col1\" class=\"data row3 col1\" >completed</td>\n",
       "      <td id=\"T_d7cbc_row3_col2\" class=\"data row3 col2\" >completed</td>\n",
       "      <td id=\"T_d7cbc_row3_col3\" class=\"data row3 col3\" >completed</td>\n",
       "      <td id=\"T_d7cbc_row3_col4\" class=\"data row3 col4\" >completed</td>\n",
       "      <td id=\"T_d7cbc_row3_col5\" class=\"data row3 col5\" >completed</td>\n",
       "      <td id=\"T_d7cbc_row3_col6\" class=\"data row3 col6\" >completed</td>\n",
       "      <td id=\"T_d7cbc_row3_col7\" class=\"data row3 col7\" >completed</td>\n",
       "    </tr>\n",
       "    <tr>\n",
       "      <th id=\"T_d7cbc_level0_row4\" class=\"row_heading level0 row4\" >4</th>\n",
       "      <td id=\"T_d7cbc_row4_col0\" class=\"data row4 col0\" >55</td>\n",
       "      <td id=\"T_d7cbc_row4_col1\" class=\"data row4 col1\" >completed</td>\n",
       "      <td id=\"T_d7cbc_row4_col2\" class=\"data row4 col2\" >completed</td>\n",
       "      <td id=\"T_d7cbc_row4_col3\" class=\"data row4 col3\" >completed</td>\n",
       "      <td id=\"T_d7cbc_row4_col4\" class=\"data row4 col4\" >completed</td>\n",
       "      <td id=\"T_d7cbc_row4_col5\" class=\"data row4 col5\" >completed</td>\n",
       "      <td id=\"T_d7cbc_row4_col6\" class=\"data row4 col6\" >completed</td>\n",
       "      <td id=\"T_d7cbc_row4_col7\" class=\"data row4 col7\" >completed</td>\n",
       "    </tr>\n",
       "  </tbody>\n",
       "</table>\n"
      ],
      "text/plain": [
       "<pandas.io.formats.style.Styler at 0x7f736f841660>"
      ]
     },
     "execution_count": 19,
     "metadata": {},
     "output_type": "execute_result"
    }
   ],
   "source": [
    "mwf_builder.to_file(\"test_workflow.yaml\")\n",
    "\n",
    "mwf_builder2 = MultipleWorkflowBuilder.from_file(\"test_workflow.yaml\")\n",
    "mwf_builder2.return_workflow_states()"
   ]
  },
  {
   "cell_type": "raw",
   "id": "7ee9ae0a",
   "metadata": {
    "raw_mimetype": "text/restructuredtext"
   },
   "source": [
    "Related API instances\n",
    "=====================\n",
    "\n",
    "* :class:`WorkflowBuilder <aim2dat.aiida_workflows.workflow_builder.WorkflowBuilder>`\n",
    "* :class:`MultipleWorkflowBuilder <aim2dat.aiida_workflows.workflow_builder.MultipleWorkflowBuilder>`"
   ]
  }
 ],
 "metadata": {
  "celltoolbar": "Raw Cell Format",
  "kernelspec": {
   "display_name": "Python 3 (ipykernel)",
   "language": "python",
   "name": "python3"
  },
  "language_info": {
   "codemirror_mode": {
    "name": "ipython",
    "version": 3
   },
   "file_extension": ".py",
   "mimetype": "text/x-python",
   "name": "python",
   "nbconvert_exporter": "python",
   "pygments_lexer": "ipython3",
   "version": "3.10.15"
  }
 },
 "nbformat": 4,
 "nbformat_minor": 5
}
