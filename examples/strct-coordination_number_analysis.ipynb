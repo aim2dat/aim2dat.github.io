{
 "cells": [
  {
   "cell_type": "markdown",
   "id": "5a3e8887",
   "metadata": {},
   "source": [
    "# Calculating the coordination numbers for different atomic sites\n",
    "\n",
    "The ``Structure`` class of the `strct` sub-package can be used to determine the coordination number of periodic and non-periodic structures using different methods, all of them described here: <a href=\"https://pubs.acs.org/doi/10.1021/acs.inorgchem.0c02996\" target=\"_blank\">doi:10.1021/acs.inorgchem.0c02996</a>.\n",
    "\n",
    "First, we create an object of the class and import a structure:"
   ]
  },
  {
   "cell_type": "code",
   "execution_count": 1,
   "id": "9a456c31",
   "metadata": {
    "execution": {
     "iopub.execute_input": "2024-11-07T12:00:07.938822Z",
     "iopub.status.busy": "2024-11-07T12:00:07.938623Z",
     "iopub.status.idle": "2024-11-07T12:00:08.986867Z",
     "shell.execute_reply": "2024-11-07T12:00:08.986156Z"
    }
   },
   "outputs": [],
   "source": [
    "from aim2dat.strct import Structure\n",
    "\n",
    "strct = Structure.from_file(\"files/strct_coord_num/Na2SbCs.xsf\", label=\"Na2SbCs\")"
   ]
  },
  {
   "cell_type": "markdown",
   "id": "05964692",
   "metadata": {},
   "source": [
    "Several methods are implemented to calculate the coordination numbers:\n",
    "\n",
    "* `\"minimum_distance\"`: The distance of the closest atom is taken as reference. All atoms inbetween that distance and a relative margin are considered as neighbours of the atomic site. The relative margin can be set via the attribute `minimum_distance_delta`, the default value is `0.1`.\n",
    "* `\"n_nearest_neighbours\"` defines the number of coordianted sites by the *n* nearest neighbours via the `n_nearest_neighbours` parameter.\n",
    "* `\"atomic_radius\"` takes the sum of radii for each of the corresponding elements and consideres a site as neighbouring if the distance is smaller than the sum. The radius type can be specified via the `atomic_radius` parameter. The parameter `atomic_radius_delta` includes a relative tolerance. \n",
    "* `\"econ\"`: The effective coordination number algorithm is an iterative method. Two parameters can be changed to tweak the method: `econ_tolerance` and `econ_conv_threshold` with the default values of `0.5` and `0.001`, respectively.\n",
    "* `\"voronoi\"`: This method implements various approaches based on a Voronoi tessellation. To obtain, e.g., the method developed by O'Keeffe one can set `voronoi_weight_type` to `rel_solid_angle` and the `voronoi_weight_threshold` to a float number between 0.0 and 1.0."
   ]
  },
  {
   "cell_type": "markdown",
   "id": "e10652b9",
   "metadata": {},
   "source": [
    "The coordination numbers for each site can then be readily calculated using the methods `calculate_coordination`:"
   ]
  },
  {
   "cell_type": "code",
   "execution_count": 2,
   "id": "6ebed013",
   "metadata": {
    "execution": {
     "iopub.execute_input": "2024-11-07T12:00:08.990713Z",
     "iopub.status.busy": "2024-11-07T12:00:08.990387Z",
     "iopub.status.idle": "2024-11-07T12:00:09.010767Z",
     "shell.execute_reply": "2024-11-07T12:00:09.010001Z"
    }
   },
   "outputs": [
    {
     "data": {
      "text/plain": [
       "{'distance_avg': {('Cs', 'Na'): 4.048938040566,\n",
       "  ('Na', 'Sb'): 2.9856709594339996,\n",
       "  ('Sb', 'Na'): 2.9856709594339996},\n",
       " 'distance_stdev': {('Cs', 'Na'): 0.0,\n",
       "  ('Na', 'Sb'): 3.1401849173675503e-16,\n",
       "  ('Sb', 'Na'): 3.1401849173675503e-16},\n",
       " 'distance_max': {('Cs', 'Na'): 4.048938040566,\n",
       "  ('Na', 'Sb'): 2.985670959434,\n",
       "  ('Sb', 'Na'): 2.985670959434},\n",
       " 'distance_min': {('Cs', 'Na'): 4.048938040566,\n",
       "  ('Na', 'Sb'): 2.9856709594339996,\n",
       "  ('Sb', 'Na'): 2.9856709594339996},\n",
       " 'nrs_avg': {('Cs', 'Cs'): 0,\n",
       "  ('Cs', 'Na'): 2,\n",
       "  ('Cs', 'Sb'): 0,\n",
       "  ('Na', 'Cs'): 0,\n",
       "  ('Na', 'Na'): 0,\n",
       "  ('Na', 'Sb'): 1,\n",
       "  ('Sb', 'Cs'): 0,\n",
       "  ('Sb', 'Na'): 2,\n",
       "  ('Sb', 'Sb'): 0},\n",
       " 'nrs_stdev': {('Cs', 'Cs'): 0.0,\n",
       "  ('Cs', 'Na'): 0.0,\n",
       "  ('Cs', 'Sb'): 0.0,\n",
       "  ('Na', 'Cs'): 0.0,\n",
       "  ('Na', 'Na'): 0.0,\n",
       "  ('Na', 'Sb'): 0.0,\n",
       "  ('Sb', 'Cs'): 0.0,\n",
       "  ('Sb', 'Na'): 0.0,\n",
       "  ('Sb', 'Sb'): 0.0},\n",
       " 'nrs_max': {('Cs', 'Cs'): 0,\n",
       "  ('Cs', 'Na'): 2,\n",
       "  ('Cs', 'Sb'): 0,\n",
       "  ('Na', 'Cs'): 0,\n",
       "  ('Na', 'Na'): 0,\n",
       "  ('Na', 'Sb'): 1,\n",
       "  ('Sb', 'Cs'): 0,\n",
       "  ('Sb', 'Na'): 2,\n",
       "  ('Sb', 'Sb'): 0},\n",
       " 'nrs_min': {('Cs', 'Cs'): 0,\n",
       "  ('Cs', 'Na'): 2,\n",
       "  ('Cs', 'Sb'): 0,\n",
       "  ('Na', 'Cs'): 0,\n",
       "  ('Na', 'Na'): 0,\n",
       "  ('Na', 'Sb'): 1,\n",
       "  ('Sb', 'Cs'): 0,\n",
       "  ('Sb', 'Na'): 2,\n",
       "  ('Sb', 'Sb'): 0},\n",
       " 'sites': [{'Cs': 0,\n",
       "   'Na': 2,\n",
       "   'Sb': 0,\n",
       "   'element': 'Cs',\n",
       "   'kind': None,\n",
       "   'position': [7.034609, 0.0, 0.0],\n",
       "   'neighbours': [{'element': 'Na',\n",
       "     'kind': None,\n",
       "     'site_index': 1,\n",
       "     'distance': 4.048938040566,\n",
       "     'position': [2.9856709594339996,\n",
       "      -2.7858803441915443e-19,\n",
       "      -1.1238758099096912e-16]},\n",
       "    {'element': 'Na',\n",
       "     'kind': None,\n",
       "     'site_index': 2,\n",
       "     'distance': 4.048938040566,\n",
       "     'position': [11.083547040566,\n",
       "      2.0368784969093668e-16,\n",
       "      2.706877317564249e-16]}],\n",
       "   'total_cn': 2,\n",
       "   'min_dist': 4.048938040566,\n",
       "   'max_dist': 4.048938040566,\n",
       "   'avg_dist': 4.048938040566},\n",
       "  {'Cs': 0,\n",
       "   'Na': 0,\n",
       "   'Sb': 1,\n",
       "   'element': 'Na',\n",
       "   'kind': None,\n",
       "   'position': [2.985670959434, 0.0, 0.0],\n",
       "   'neighbours': [{'element': 'Sb',\n",
       "     'kind': None,\n",
       "     'site_index': 3,\n",
       "     'distance': 2.985670959434,\n",
       "     'position': [0.0, 2.7858803441915443e-19, 1.1238758099096912e-16]}],\n",
       "   'total_cn': 1,\n",
       "   'min_dist': 2.985670959434,\n",
       "   'max_dist': 2.985670959434,\n",
       "   'avg_dist': 2.985670959434},\n",
       "  {'Cs': 0,\n",
       "   'Na': 0,\n",
       "   'Sb': 1,\n",
       "   'element': 'Na',\n",
       "   'kind': None,\n",
       "   'position': [11.083547040566, 0.0, 0.0],\n",
       "   'neighbours': [{'element': 'Sb',\n",
       "     'kind': None,\n",
       "     'site_index': 3,\n",
       "     'distance': 2.9856709594339996,\n",
       "     'position': [14.069218,\n",
       "      -2.0368784969093668e-16,\n",
       "      -2.706877317564249e-16]}],\n",
       "   'total_cn': 1,\n",
       "   'min_dist': 2.9856709594339996,\n",
       "   'max_dist': 2.9856709594339996,\n",
       "   'avg_dist': 2.9856709594339996},\n",
       "  {'Cs': 0,\n",
       "   'Na': 2,\n",
       "   'Sb': 0,\n",
       "   'element': 'Sb',\n",
       "   'kind': None,\n",
       "   'position': [0.0, 0.0, 0.0],\n",
       "   'neighbours': [{'element': 'Na',\n",
       "     'kind': None,\n",
       "     'site_index': 1,\n",
       "     'distance': 2.985670959434,\n",
       "     'position': [2.985670959434,\n",
       "      -2.7858803441915443e-19,\n",
       "      -1.1238758099096912e-16]},\n",
       "    {'element': 'Na',\n",
       "     'kind': None,\n",
       "     'site_index': 2,\n",
       "     'distance': 2.9856709594339996,\n",
       "     'position': [-2.9856709594339996,\n",
       "      -1.835675523409463e-17,\n",
       "      -1.734014780936377e-16]}],\n",
       "   'total_cn': 2,\n",
       "   'min_dist': 2.9856709594339996,\n",
       "   'max_dist': 2.985670959434,\n",
       "   'avg_dist': 2.9856709594339996}]}"
      ]
     },
     "execution_count": 2,
     "metadata": {},
     "output_type": "execute_result"
    }
   ],
   "source": [
    "strct.calculate_coordination()"
   ]
  },
  {
   "cell_type": "markdown",
   "id": "247f4df2",
   "metadata": {},
   "source": [
    "Based on the coordination numbers and distances two atomic sites can be compared using the ``StructureOperations`` class: "
   ]
  },
  {
   "cell_type": "code",
   "execution_count": 3,
   "id": "b3f9ce02",
   "metadata": {
    "execution": {
     "iopub.execute_input": "2024-11-07T12:00:09.013823Z",
     "iopub.status.busy": "2024-11-07T12:00:09.013585Z",
     "iopub.status.idle": "2024-11-07T12:00:09.019390Z",
     "shell.execute_reply": "2024-11-07T12:00:09.018802Z"
    }
   },
   "outputs": [
    {
     "data": {
      "text/plain": [
       "True"
      ]
     },
     "execution_count": 3,
     "metadata": {},
     "output_type": "execute_result"
    }
   ],
   "source": [
    "from aim2dat.strct import StructureCollection, StructureOperations\n",
    "\n",
    "strct_op = StructureOperations(StructureCollection([strct]))\n",
    "strct_op.compare_sites_via_coordination(\"Na2SbCs\", \"Na2SbCs\", 1, 2)"
   ]
  }
 ],
 "metadata": {
  "kernelspec": {
   "display_name": "Python 3 (ipykernel)",
   "language": "python",
   "name": "python3"
  },
  "language_info": {
   "codemirror_mode": {
    "name": "ipython",
    "version": 3
   },
   "file_extension": ".py",
   "mimetype": "text/x-python",
   "name": "python",
   "nbconvert_exporter": "python",
   "pygments_lexer": "ipython3",
   "version": "3.10.15"
  }
 },
 "nbformat": 4,
 "nbformat_minor": 5
}
