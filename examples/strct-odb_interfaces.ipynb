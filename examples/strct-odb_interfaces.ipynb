{
 "cells": [
  {
   "cell_type": "markdown",
   "id": "521ee30b",
   "metadata": {},
   "source": [
    "# Querying the structure pool for the Cs-Te binary system\n",
    "\n",
    "_This example is reproducing the steps to create the initial structure pool for the high-throughput calculations published here: [doi:10.1063/5.0082710](https://doi.org/10.1063/5.0082710)._\n",
    "\n",
    "As an initial data pool of crystal structures we use the [Materials Project (MP)](https://materialsproject.org) database and the [Open Quantum Materials database (OQMD)](https://oqmd.org/) that can be readily interfaced using the ``StructureImporter`` class of the library:"
   ]
  },
  {
   "cell_type": "code",
   "execution_count": 1,
   "id": "9bbc0845",
   "metadata": {
    "execution": {
     "iopub.execute_input": "2024-11-07T12:00:10.544628Z",
     "iopub.status.busy": "2024-11-07T12:00:10.544075Z",
     "iopub.status.idle": "2024-11-07T12:00:11.560466Z",
     "shell.execute_reply": "2024-11-07T12:00:11.559892Z"
    }
   },
   "outputs": [],
   "source": [
    "from aim2dat.strct import StructureImporter\n",
    "\n",
    "strct_imp = StructureImporter()"
   ]
  },
  {
   "cell_type": "markdown",
   "id": "4cf3752a",
   "metadata": {},
   "source": [
    "## Querying crystals from Materials Project and Open Quantum Materials Database\n",
    "\n",
    "The first argument for the queries consists of the chemical compositions specified via the string `'Cs-Te'`.\n",
    "\n",
    "As for the MP database we query the initial structures (specified via the keyword `structure_type`) since these structures still have all symmetries. Additionally, an individual API key has to be passed to the function which can be requested at the MP webpage.\n",
    "\n",
    "**Update:** The original interface to materials project via the pymatgen library is depreciated and will be removed soon. It is advised to use the open-api by setting the keyword argument ``use_openapi`` to ``True``."
   ]
  },
  {
   "cell_type": "code",
   "execution_count": 2,
   "id": "c5837c80",
   "metadata": {
    "execution": {
     "iopub.execute_input": "2024-11-07T12:00:11.563452Z",
     "iopub.status.busy": "2024-11-07T12:00:11.562978Z",
     "iopub.status.idle": "2024-11-07T12:00:24.155444Z",
     "shell.execute_reply": "2024-11-07T12:00:24.154792Z"
    }
   },
   "outputs": [
    {
     "name": "stderr",
     "output_type": "stream",
     "text": [
      "/opt/hostedtoolcache/Python/3.10.15/x64/lib/python3.10/site-packages/pymatgen/ext/matproj_legacy.py:164: UserWarning: You are using the legacy MPRester. This version of the MPRester will no longer be updated. To access the latest data with the new MPRester, obtain a new API key from https://materialsproject.org/api and consult the docs at https://docs.materialsproject.org/ for more information.\n",
      "  warnings.warn(\n"
     ]
    },
    {
     "name": "stdout",
     "output_type": "stream",
     "text": [
      "connected with Materials Project Version 2020_09_08.\n"
     ]
    },
    {
     "name": "stderr",
     "output_type": "stream",
     "text": [
      "/opt/hostedtoolcache/Python/3.10.15/x64/lib/python3.10/site-packages/pymatgen/ext/matproj_legacy.py:164: UserWarning: You are using the legacy MPRester. This version of the MPRester will no longer be updated. To access the latest data with the new MPRester, obtain a new API key from https://materialsproject.org/api and consult the docs at https://docs.materialsproject.org/ for more information.\n",
      "  warnings.warn(\n"
     ]
    },
    {
     "name": "stdout",
     "output_type": "stream",
     "text": [
      "connected with Materials Project Version 2020_09_08.\n"
     ]
    },
    {
     "name": "stderr",
     "output_type": "stream",
     "text": [
      "/opt/hostedtoolcache/Python/3.10.15/x64/lib/python3.10/site-packages/pymatgen/ext/matproj_legacy.py:164: UserWarning: You are using the legacy MPRester. This version of the MPRester will no longer be updated. To access the latest data with the new MPRester, obtain a new API key from https://materialsproject.org/api and consult the docs at https://docs.materialsproject.org/ for more information.\n",
      "  warnings.warn(\n"
     ]
    },
    {
     "name": "stdout",
     "output_type": "stream",
     "text": [
      "connected with Materials Project Version 2020_09_08.\n"
     ]
    },
    {
     "data": {
      "text/plain": [
       "<aim2dat.strct.structure_collection.StructureCollection at 0x7f68ca8f1810>"
      ]
     },
     "execution_count": 2,
     "metadata": {},
     "output_type": "execute_result"
    }
   ],
   "source": [
    "import os\n",
    "\n",
    "strct_imp.import_from_mp(\n",
    "    \"Cs-Te\", \"NiQf1wbOAEUJHo8H\", structure_type=\"initial\", use_openapi=False\n",
    ")"
   ]
  },
  {
   "cell_type": "code",
   "execution_count": 3,
   "id": "ad0c7804",
   "metadata": {
    "execution": {
     "iopub.execute_input": "2024-11-07T12:00:24.158920Z",
     "iopub.status.busy": "2024-11-07T12:00:24.158117Z",
     "iopub.status.idle": "2024-11-07T12:00:44.239451Z",
     "shell.execute_reply": "2024-11-07T12:00:44.238784Z"
    }
   },
   "outputs": [
    {
     "data": {
      "text/plain": [
       "<aim2dat.strct.structure_collection.StructureCollection at 0x7f68ca569e70>"
      ]
     },
     "execution_count": 3,
     "metadata": {},
     "output_type": "execute_result"
    }
   ],
   "source": [
    "strct_imp.import_from_oqmd(\"Cs-Te\", query_limit=1000)"
   ]
  },
  {
   "cell_type": "markdown",
   "id": "0ea3316c",
   "metadata": {},
   "source": [
    "The downloaded crystals are stored in a ``StructureCollection`` object which can be accessed via the ``structures`` property. We can check the number of imported structures via `len` or by printing the object:"
   ]
  },
  {
   "cell_type": "code",
   "execution_count": 4,
   "id": "4790b66b",
   "metadata": {
    "execution": {
     "iopub.execute_input": "2024-11-07T12:00:44.242515Z",
     "iopub.status.busy": "2024-11-07T12:00:44.242117Z",
     "iopub.status.idle": "2024-11-07T12:00:44.248446Z",
     "shell.execute_reply": "2024-11-07T12:00:44.247840Z"
    }
   },
   "outputs": [
    {
     "data": {
      "text/plain": [
       "156"
      ]
     },
     "execution_count": 4,
     "metadata": {},
     "output_type": "execute_result"
    }
   ],
   "source": [
    "len(strct_imp.structures)"
   ]
  },
  {
   "cell_type": "code",
   "execution_count": 5,
   "id": "c110c521",
   "metadata": {
    "execution": {
     "iopub.execute_input": "2024-11-07T12:00:44.251292Z",
     "iopub.status.busy": "2024-11-07T12:00:44.250911Z",
     "iopub.status.idle": "2024-11-07T12:00:44.254317Z",
     "shell.execute_reply": "2024-11-07T12:00:44.253710Z"
    }
   },
   "outputs": [
    {
     "name": "stdout",
     "output_type": "stream",
     "text": [
      "----------------------------------------------------------------------\n",
      "------------------------ Structure Collection ------------------------\n",
      "----------------------------------------------------------------------\n",
      "\n",
      "                          Imported from: mp                           \n",
      "   - Number of structures: 32\n",
      "   - Elements: Cs-Te\n",
      "\n",
      "                         Imported from: oqmd                          \n",
      "   - Number of structures: 124\n",
      "   - Elements: Cs-Te\n",
      "\n",
      "----------------------------------------------------------------------\n",
      "\n",
      "                     Chemical element constraints                     \n",
      "   Neglecting elemental structures: False\n",
      "\n",
      "                     Chemical formula constraints                     \n",
      "   Not set.\n",
      "\n",
      "                        Attribute constraints                         \n",
      "   Not set.\n",
      "\n",
      "----------------------------------------------------------------------\n"
     ]
    }
   ],
   "source": [
    "print(strct_imp)"
   ]
  },
  {
   "cell_type": "markdown",
   "id": "f7548039",
   "metadata": {},
   "source": [
    "Since we have been querying data from two different databases we might also want to check whether there are crystals shared by both databases.\n",
    "In this case we use the F-fingerprint (<a href=\"https://doi.org/10.1063/1.3079326\" target=\"_blank\">doi:10.1063/1.3079326</a>) to identify duplicate structures. The function to indentify duplicate structures is implemented in the ``StructureOperations`` class.\n",
    "\n",
    "We can simply pass the ``StructureCollection``](aiida_scripts.structure_analysis.StructureCollection) object from the ``StructureImporter`` to the ``StructureOperations`` object upon initialization:"
   ]
  },
  {
   "cell_type": "code",
   "execution_count": 6,
   "id": "16079f09",
   "metadata": {
    "execution": {
     "iopub.execute_input": "2024-11-07T12:00:44.257152Z",
     "iopub.status.busy": "2024-11-07T12:00:44.256782Z",
     "iopub.status.idle": "2024-11-07T12:00:44.260297Z",
     "shell.execute_reply": "2024-11-07T12:00:44.259713Z"
    }
   },
   "outputs": [],
   "source": [
    "from aim2dat.strct import StructureOperations\n",
    "\n",
    "strct_op = StructureOperations(structures=strct_imp.structures)\n",
    "strct_op.n_procs = 2\n",
    "strct_op.cunksize = 500\n",
    "strct_op.verbose = False"
   ]
  },
  {
   "cell_type": "markdown",
   "id": "aa7d9d39",
   "metadata": {},
   "source": [
    "We use the ``find_duplicates_via_ffingerprint`` function to identify duplicate crystals, the function returns the labels of duplicate pairs and removes the first member of the pair from the ``StructureCollection`` object if `remove_structures` is set to `True`:"
   ]
  },
  {
   "cell_type": "code",
   "execution_count": 7,
   "id": "fbf29006",
   "metadata": {
    "execution": {
     "iopub.execute_input": "2024-11-07T12:00:44.263131Z",
     "iopub.status.busy": "2024-11-07T12:00:44.262757Z",
     "iopub.status.idle": "2024-11-07T12:01:34.289077Z",
     "shell.execute_reply": "2024-11-07T12:01:34.288377Z"
    }
   },
   "outputs": [
    {
     "data": {
      "text/plain": [
       "[('OQMD_676192', 'mp_mp-1055940'),\n",
       " ('OQMD_676503', 'mp_mp-1055940'),\n",
       " ('OQMD_676504', 'mp_mp-1055940'),\n",
       " ('OQMD_621965', 'OQMD_620946'),\n",
       " ('OQMD_677954', 'OQMD_676288'),\n",
       " ('OQMD_1280348', 'OQMD_1215022'),\n",
       " ('OQMD_690486', 'OQMD_676083'),\n",
       " ('OQMD_675565', 'OQMD_675564'),\n",
       " ('OQMD_676082', 'OQMD_686178')]"
      ]
     },
     "execution_count": 7,
     "metadata": {},
     "output_type": "execute_result"
    }
   ],
   "source": [
    "strct_op.find_duplicates_via_ffingerprint(\n",
    "    remove_structures=True, \n",
    "    threshold=0.001, \n",
    "    r_max=15.0, \n",
    "    delta_bin=0.005, \n",
    "    sigma=10.0\n",
    ")"
   ]
  },
  {
   "cell_type": "markdown",
   "id": "71202b25",
   "metadata": {},
   "source": [
    "Once again we can check the final number of structures:"
   ]
  },
  {
   "cell_type": "code",
   "execution_count": 8,
   "id": "df2d7b61",
   "metadata": {
    "execution": {
     "iopub.execute_input": "2024-11-07T12:01:34.292005Z",
     "iopub.status.busy": "2024-11-07T12:01:34.291587Z",
     "iopub.status.idle": "2024-11-07T12:01:34.295900Z",
     "shell.execute_reply": "2024-11-07T12:01:34.295286Z"
    }
   },
   "outputs": [
    {
     "data": {
      "text/plain": [
       "147"
      ]
     },
     "execution_count": 8,
     "metadata": {},
     "output_type": "execute_result"
    }
   ],
   "source": [
    "len(strct_op.structures)"
   ]
  },
  {
   "cell_type": "markdown",
   "id": "65f5884c",
   "metadata": {},
   "source": [
    "## Analysing the initial dataset\n",
    "\n",
    "Having the duplicate structures removed we can split the dataset based on the crystal's source database:"
   ]
  },
  {
   "cell_type": "code",
   "execution_count": 9,
   "id": "02430689",
   "metadata": {
    "execution": {
     "iopub.execute_input": "2024-11-07T12:01:34.298347Z",
     "iopub.status.busy": "2024-11-07T12:01:34.297940Z",
     "iopub.status.idle": "2024-11-07T12:01:34.303897Z",
     "shell.execute_reply": "2024-11-07T12:01:34.303358Z"
    }
   },
   "outputs": [],
   "source": [
    "structures_mp = strct_op.structures[:32]\n",
    "structures_oqmd = strct_op.structures[32:]"
   ]
  },
  {
   "cell_type": "markdown",
   "id": "3847839a",
   "metadata": {},
   "source": [
    "We can get a better overview of on the crystals by exporting the data into a pandas dataframe for better visualization:"
   ]
  },
  {
   "cell_type": "code",
   "execution_count": 10,
   "id": "046b9cb9",
   "metadata": {
    "execution": {
     "iopub.execute_input": "2024-11-07T12:01:34.306344Z",
     "iopub.status.busy": "2024-11-07T12:01:34.305936Z",
     "iopub.status.idle": "2024-11-07T12:01:34.329622Z",
     "shell.execute_reply": "2024-11-07T12:01:34.329094Z"
    }
   },
   "outputs": [
    {
     "data": {
      "text/html": [
       "<div>\n",
       "<style scoped>\n",
       "    .dataframe tbody tr th:only-of-type {\n",
       "        vertical-align: middle;\n",
       "    }\n",
       "\n",
       "    .dataframe tbody tr th {\n",
       "        vertical-align: top;\n",
       "    }\n",
       "\n",
       "    .dataframe thead th {\n",
       "        text-align: right;\n",
       "    }\n",
       "</style>\n",
       "<table border=\"1\" class=\"dataframe\">\n",
       "  <thead>\n",
       "    <tr style=\"text-align: right;\">\n",
       "      <th></th>\n",
       "      <th>label</th>\n",
       "      <th>el_conc_Cs</th>\n",
       "      <th>el_conc_Te</th>\n",
       "      <th>nr_atoms</th>\n",
       "      <th>nr_atoms_Cs</th>\n",
       "      <th>nr_atoms_Te</th>\n",
       "      <th>source</th>\n",
       "      <th>source_id</th>\n",
       "      <th>space_group</th>\n",
       "      <th>formation_energy (eV/atom)</th>\n",
       "      <th>stability (eV/atom)</th>\n",
       "    </tr>\n",
       "  </thead>\n",
       "  <tbody>\n",
       "    <tr>\n",
       "      <th>0</th>\n",
       "      <td>mp_mp-1012110</td>\n",
       "      <td>1.000000</td>\n",
       "      <td>0.000000</td>\n",
       "      <td>4</td>\n",
       "      <td>4</td>\n",
       "      <td>0</td>\n",
       "      <td>MP_2020_09_08</td>\n",
       "      <td>mp-1012110</td>\n",
       "      <td>57</td>\n",
       "      <td>0.046335</td>\n",
       "      <td>0.046335</td>\n",
       "    </tr>\n",
       "    <tr>\n",
       "      <th>1</th>\n",
       "      <td>mp_mp-949029</td>\n",
       "      <td>1.000000</td>\n",
       "      <td>0.000000</td>\n",
       "      <td>8</td>\n",
       "      <td>8</td>\n",
       "      <td>0</td>\n",
       "      <td>MP_2020_09_08</td>\n",
       "      <td>mp-949029</td>\n",
       "      <td>223</td>\n",
       "      <td>0.046690</td>\n",
       "      <td>0.046690</td>\n",
       "    </tr>\n",
       "    <tr>\n",
       "      <th>2</th>\n",
       "      <td>mp_mp-1055940</td>\n",
       "      <td>1.000000</td>\n",
       "      <td>0.000000</td>\n",
       "      <td>1</td>\n",
       "      <td>1</td>\n",
       "      <td>0</td>\n",
       "      <td>MP_2020_09_08</td>\n",
       "      <td>mp-1055940</td>\n",
       "      <td>225</td>\n",
       "      <td>0.041371</td>\n",
       "      <td>0.041371</td>\n",
       "    </tr>\n",
       "    <tr>\n",
       "      <th>3</th>\n",
       "      <td>mp_mp-573579</td>\n",
       "      <td>1.000000</td>\n",
       "      <td>0.000000</td>\n",
       "      <td>8</td>\n",
       "      <td>8</td>\n",
       "      <td>0</td>\n",
       "      <td>MP_2020_09_08</td>\n",
       "      <td>mp-573579</td>\n",
       "      <td>64</td>\n",
       "      <td>0.053976</td>\n",
       "      <td>0.053976</td>\n",
       "    </tr>\n",
       "    <tr>\n",
       "      <th>4</th>\n",
       "      <td>mp_mp-639727</td>\n",
       "      <td>1.000000</td>\n",
       "      <td>0.000000</td>\n",
       "      <td>4</td>\n",
       "      <td>4</td>\n",
       "      <td>0</td>\n",
       "      <td>MP_2020_09_08</td>\n",
       "      <td>mp-639727</td>\n",
       "      <td>194</td>\n",
       "      <td>0.026213</td>\n",
       "      <td>0.026213</td>\n",
       "    </tr>\n",
       "    <tr>\n",
       "      <th>5</th>\n",
       "      <td>mp_mp-1183897</td>\n",
       "      <td>1.000000</td>\n",
       "      <td>0.000000</td>\n",
       "      <td>20</td>\n",
       "      <td>20</td>\n",
       "      <td>0</td>\n",
       "      <td>MP_2020_09_08</td>\n",
       "      <td>mp-1183897</td>\n",
       "      <td>213</td>\n",
       "      <td>0.038677</td>\n",
       "      <td>0.038677</td>\n",
       "    </tr>\n",
       "    <tr>\n",
       "      <th>6</th>\n",
       "      <td>mp_mp-672241</td>\n",
       "      <td>1.000000</td>\n",
       "      <td>0.000000</td>\n",
       "      <td>8</td>\n",
       "      <td>8</td>\n",
       "      <td>0</td>\n",
       "      <td>MP_2020_09_08</td>\n",
       "      <td>mp-672241</td>\n",
       "      <td>135</td>\n",
       "      <td>0.065470</td>\n",
       "      <td>0.065470</td>\n",
       "    </tr>\n",
       "    <tr>\n",
       "      <th>7</th>\n",
       "      <td>mp_mp-1</td>\n",
       "      <td>1.000000</td>\n",
       "      <td>0.000000</td>\n",
       "      <td>1</td>\n",
       "      <td>1</td>\n",
       "      <td>0</td>\n",
       "      <td>MP_2020_09_08</td>\n",
       "      <td>mp-1</td>\n",
       "      <td>229</td>\n",
       "      <td>0.038770</td>\n",
       "      <td>0.038770</td>\n",
       "    </tr>\n",
       "    <tr>\n",
       "      <th>8</th>\n",
       "      <td>mp_mp-11832</td>\n",
       "      <td>1.000000</td>\n",
       "      <td>0.000000</td>\n",
       "      <td>2</td>\n",
       "      <td>2</td>\n",
       "      <td>0</td>\n",
       "      <td>MP_2020_09_08</td>\n",
       "      <td>mp-11832</td>\n",
       "      <td>194</td>\n",
       "      <td>0.035109</td>\n",
       "      <td>0.035109</td>\n",
       "    </tr>\n",
       "    <tr>\n",
       "      <th>9</th>\n",
       "      <td>mp_mp-1096915</td>\n",
       "      <td>1.000000</td>\n",
       "      <td>0.000000</td>\n",
       "      <td>1</td>\n",
       "      <td>1</td>\n",
       "      <td>0</td>\n",
       "      <td>MP_2020_09_08</td>\n",
       "      <td>mp-1096915</td>\n",
       "      <td>12</td>\n",
       "      <td>0.042218</td>\n",
       "      <td>0.042218</td>\n",
       "    </tr>\n",
       "    <tr>\n",
       "      <th>10</th>\n",
       "      <td>mp_mp-1007976</td>\n",
       "      <td>1.000000</td>\n",
       "      <td>0.000000</td>\n",
       "      <td>4</td>\n",
       "      <td>4</td>\n",
       "      <td>0</td>\n",
       "      <td>MP_2020_09_08</td>\n",
       "      <td>mp-1007976</td>\n",
       "      <td>62</td>\n",
       "      <td>0.054917</td>\n",
       "      <td>0.054917</td>\n",
       "    </tr>\n",
       "    <tr>\n",
       "      <th>11</th>\n",
       "      <td>mp_mp-1184151</td>\n",
       "      <td>1.000000</td>\n",
       "      <td>0.000000</td>\n",
       "      <td>29</td>\n",
       "      <td>29</td>\n",
       "      <td>0</td>\n",
       "      <td>MP_2020_09_08</td>\n",
       "      <td>mp-1184151</td>\n",
       "      <td>217</td>\n",
       "      <td>0.000000</td>\n",
       "      <td>0.000000</td>\n",
       "    </tr>\n",
       "    <tr>\n",
       "      <th>12</th>\n",
       "      <td>mp_mp-1183694</td>\n",
       "      <td>1.000000</td>\n",
       "      <td>0.000000</td>\n",
       "      <td>1</td>\n",
       "      <td>1</td>\n",
       "      <td>0</td>\n",
       "      <td>MP_2020_09_08</td>\n",
       "      <td>mp-1183694</td>\n",
       "      <td>139</td>\n",
       "      <td>0.037375</td>\n",
       "      <td>0.037375</td>\n",
       "    </tr>\n",
       "    <tr>\n",
       "      <th>13</th>\n",
       "      <td>mp_mp-3</td>\n",
       "      <td>1.000000</td>\n",
       "      <td>0.000000</td>\n",
       "      <td>2</td>\n",
       "      <td>2</td>\n",
       "      <td>0</td>\n",
       "      <td>MP_2020_09_08</td>\n",
       "      <td>mp-3</td>\n",
       "      <td>141</td>\n",
       "      <td>0.097650</td>\n",
       "      <td>0.097650</td>\n",
       "    </tr>\n",
       "    <tr>\n",
       "      <th>14</th>\n",
       "      <td>mp_mp-1178932</td>\n",
       "      <td>0.000000</td>\n",
       "      <td>1.000000</td>\n",
       "      <td>1</td>\n",
       "      <td>0</td>\n",
       "      <td>1</td>\n",
       "      <td>MP_2020_09_08</td>\n",
       "      <td>mp-1178932</td>\n",
       "      <td>166</td>\n",
       "      <td>0.054101</td>\n",
       "      <td>0.054101</td>\n",
       "    </tr>\n",
       "    <tr>\n",
       "      <th>15</th>\n",
       "      <td>mp_mp-9924</td>\n",
       "      <td>0.000000</td>\n",
       "      <td>1.000000</td>\n",
       "      <td>1</td>\n",
       "      <td>0</td>\n",
       "      <td>1</td>\n",
       "      <td>MP_2020_09_08</td>\n",
       "      <td>mp-9924</td>\n",
       "      <td>65</td>\n",
       "      <td>0.127402</td>\n",
       "      <td>0.127402</td>\n",
       "    </tr>\n",
       "    <tr>\n",
       "      <th>16</th>\n",
       "      <td>mp_mp-1178952</td>\n",
       "      <td>0.000000</td>\n",
       "      <td>1.000000</td>\n",
       "      <td>4</td>\n",
       "      <td>0</td>\n",
       "      <td>4</td>\n",
       "      <td>MP_2020_09_08</td>\n",
       "      <td>mp-1178952</td>\n",
       "      <td>26</td>\n",
       "      <td>0.049131</td>\n",
       "      <td>0.049131</td>\n",
       "    </tr>\n",
       "    <tr>\n",
       "      <th>17</th>\n",
       "      <td>mp_mp-1064307</td>\n",
       "      <td>0.000000</td>\n",
       "      <td>1.000000</td>\n",
       "      <td>4</td>\n",
       "      <td>0</td>\n",
       "      <td>4</td>\n",
       "      <td>MP_2020_09_08</td>\n",
       "      <td>mp-1064307</td>\n",
       "      <td>18</td>\n",
       "      <td>0.122781</td>\n",
       "      <td>0.122781</td>\n",
       "    </tr>\n",
       "    <tr>\n",
       "      <th>18</th>\n",
       "      <td>mp_mp-19</td>\n",
       "      <td>0.000000</td>\n",
       "      <td>1.000000</td>\n",
       "      <td>3</td>\n",
       "      <td>0</td>\n",
       "      <td>3</td>\n",
       "      <td>MP_2020_09_08</td>\n",
       "      <td>mp-19</td>\n",
       "      <td>152</td>\n",
       "      <td>0.000000</td>\n",
       "      <td>0.000000</td>\n",
       "    </tr>\n",
       "    <tr>\n",
       "      <th>19</th>\n",
       "      <td>mp_mp-567313</td>\n",
       "      <td>0.000000</td>\n",
       "      <td>1.000000</td>\n",
       "      <td>3</td>\n",
       "      <td>0</td>\n",
       "      <td>3</td>\n",
       "      <td>MP_2020_09_08</td>\n",
       "      <td>mp-567313</td>\n",
       "      <td>154</td>\n",
       "      <td>0.000024</td>\n",
       "      <td>0.000024</td>\n",
       "    </tr>\n",
       "    <tr>\n",
       "      <th>20</th>\n",
       "      <td>mp_mp-570459</td>\n",
       "      <td>0.000000</td>\n",
       "      <td>1.000000</td>\n",
       "      <td>3</td>\n",
       "      <td>0</td>\n",
       "      <td>3</td>\n",
       "      <td>MP_2020_09_08</td>\n",
       "      <td>mp-570459</td>\n",
       "      <td>12</td>\n",
       "      <td>0.043651</td>\n",
       "      <td>0.043651</td>\n",
       "    </tr>\n",
       "    <tr>\n",
       "      <th>21</th>\n",
       "      <td>mp_mp-105</td>\n",
       "      <td>0.000000</td>\n",
       "      <td>1.000000</td>\n",
       "      <td>4</td>\n",
       "      <td>0</td>\n",
       "      <td>4</td>\n",
       "      <td>MP_2020_09_08</td>\n",
       "      <td>mp-105</td>\n",
       "      <td>51</td>\n",
       "      <td>0.047063</td>\n",
       "      <td>0.047063</td>\n",
       "    </tr>\n",
       "    <tr>\n",
       "      <th>22</th>\n",
       "      <td>mp_mp-10654</td>\n",
       "      <td>0.000000</td>\n",
       "      <td>1.000000</td>\n",
       "      <td>1</td>\n",
       "      <td>0</td>\n",
       "      <td>1</td>\n",
       "      <td>MP_2020_09_08</td>\n",
       "      <td>mp-10654</td>\n",
       "      <td>221</td>\n",
       "      <td>0.046556</td>\n",
       "      <td>0.046556</td>\n",
       "    </tr>\n",
       "    <tr>\n",
       "      <th>23</th>\n",
       "      <td>mp_mp-8361</td>\n",
       "      <td>0.500000</td>\n",
       "      <td>0.500000</td>\n",
       "      <td>8</td>\n",
       "      <td>4</td>\n",
       "      <td>4</td>\n",
       "      <td>MP_2020_09_08</td>\n",
       "      <td>mp-8361</td>\n",
       "      <td>55</td>\n",
       "      <td>-0.847515</td>\n",
       "      <td>0.000000</td>\n",
       "    </tr>\n",
       "    <tr>\n",
       "      <th>24</th>\n",
       "      <td>mp_mp-1178386</td>\n",
       "      <td>0.200000</td>\n",
       "      <td>0.800000</td>\n",
       "      <td>20</td>\n",
       "      <td>4</td>\n",
       "      <td>16</td>\n",
       "      <td>MP_2020_09_08</td>\n",
       "      <td>mp-1178386</td>\n",
       "      <td>14</td>\n",
       "      <td>-0.391677</td>\n",
       "      <td>0.000000</td>\n",
       "    </tr>\n",
       "    <tr>\n",
       "      <th>25</th>\n",
       "      <td>mp_mp-620471</td>\n",
       "      <td>0.120000</td>\n",
       "      <td>0.880000</td>\n",
       "      <td>25</td>\n",
       "      <td>3</td>\n",
       "      <td>22</td>\n",
       "      <td>MP_2020_09_08</td>\n",
       "      <td>mp-620471</td>\n",
       "      <td>1</td>\n",
       "      <td>-0.212136</td>\n",
       "      <td>0.022870</td>\n",
       "    </tr>\n",
       "    <tr>\n",
       "      <th>26</th>\n",
       "      <td>mp_mp-573763</td>\n",
       "      <td>0.666667</td>\n",
       "      <td>0.333333</td>\n",
       "      <td>12</td>\n",
       "      <td>8</td>\n",
       "      <td>4</td>\n",
       "      <td>MP_2020_09_08</td>\n",
       "      <td>mp-573763</td>\n",
       "      <td>62</td>\n",
       "      <td>-0.991598</td>\n",
       "      <td>0.000000</td>\n",
       "    </tr>\n",
       "    <tr>\n",
       "      <th>27</th>\n",
       "      <td>mp_mp-505464</td>\n",
       "      <td>0.133333</td>\n",
       "      <td>0.866667</td>\n",
       "      <td>60</td>\n",
       "      <td>8</td>\n",
       "      <td>52</td>\n",
       "      <td>MP_2020_09_08</td>\n",
       "      <td>mp-505464</td>\n",
       "      <td>57</td>\n",
       "      <td>-0.257485</td>\n",
       "      <td>0.003632</td>\n",
       "    </tr>\n",
       "    <tr>\n",
       "      <th>28</th>\n",
       "      <td>mp_mp-1205022</td>\n",
       "      <td>0.125000</td>\n",
       "      <td>0.875000</td>\n",
       "      <td>128</td>\n",
       "      <td>16</td>\n",
       "      <td>112</td>\n",
       "      <td>MP_2020_09_08</td>\n",
       "      <td>mp-1205022</td>\n",
       "      <td>130</td>\n",
       "      <td>-0.214743</td>\n",
       "      <td>0.030055</td>\n",
       "    </tr>\n",
       "    <tr>\n",
       "      <th>29</th>\n",
       "      <td>mp_mp-505634</td>\n",
       "      <td>0.400000</td>\n",
       "      <td>0.600000</td>\n",
       "      <td>10</td>\n",
       "      <td>4</td>\n",
       "      <td>6</td>\n",
       "      <td>MP_2020_09_08</td>\n",
       "      <td>mp-505634</td>\n",
       "      <td>36</td>\n",
       "      <td>-0.742686</td>\n",
       "      <td>0.000000</td>\n",
       "    </tr>\n",
       "    <tr>\n",
       "      <th>30</th>\n",
       "      <td>mp_mp-1188281</td>\n",
       "      <td>0.625000</td>\n",
       "      <td>0.375000</td>\n",
       "      <td>16</td>\n",
       "      <td>10</td>\n",
       "      <td>6</td>\n",
       "      <td>MP_2020_09_08</td>\n",
       "      <td>mp-1188281</td>\n",
       "      <td>87</td>\n",
       "      <td>-0.955132</td>\n",
       "      <td>0.000445</td>\n",
       "    </tr>\n",
       "    <tr>\n",
       "      <th>31</th>\n",
       "      <td>mp_mp-1191593</td>\n",
       "      <td>0.120000</td>\n",
       "      <td>0.880000</td>\n",
       "      <td>25</td>\n",
       "      <td>3</td>\n",
       "      <td>22</td>\n",
       "      <td>MP_2020_09_08</td>\n",
       "      <td>mp-1191593</td>\n",
       "      <td>87</td>\n",
       "      <td>-0.204884</td>\n",
       "      <td>0.030122</td>\n",
       "    </tr>\n",
       "  </tbody>\n",
       "</table>\n",
       "</div>"
      ],
      "text/plain": [
       "            label  el_conc_Cs  el_conc_Te  nr_atoms  nr_atoms_Cs  nr_atoms_Te  \\\n",
       "0   mp_mp-1012110    1.000000    0.000000         4            4            0   \n",
       "1    mp_mp-949029    1.000000    0.000000         8            8            0   \n",
       "2   mp_mp-1055940    1.000000    0.000000         1            1            0   \n",
       "3    mp_mp-573579    1.000000    0.000000         8            8            0   \n",
       "4    mp_mp-639727    1.000000    0.000000         4            4            0   \n",
       "5   mp_mp-1183897    1.000000    0.000000        20           20            0   \n",
       "6    mp_mp-672241    1.000000    0.000000         8            8            0   \n",
       "7         mp_mp-1    1.000000    0.000000         1            1            0   \n",
       "8     mp_mp-11832    1.000000    0.000000         2            2            0   \n",
       "9   mp_mp-1096915    1.000000    0.000000         1            1            0   \n",
       "10  mp_mp-1007976    1.000000    0.000000         4            4            0   \n",
       "11  mp_mp-1184151    1.000000    0.000000        29           29            0   \n",
       "12  mp_mp-1183694    1.000000    0.000000         1            1            0   \n",
       "13        mp_mp-3    1.000000    0.000000         2            2            0   \n",
       "14  mp_mp-1178932    0.000000    1.000000         1            0            1   \n",
       "15     mp_mp-9924    0.000000    1.000000         1            0            1   \n",
       "16  mp_mp-1178952    0.000000    1.000000         4            0            4   \n",
       "17  mp_mp-1064307    0.000000    1.000000         4            0            4   \n",
       "18       mp_mp-19    0.000000    1.000000         3            0            3   \n",
       "19   mp_mp-567313    0.000000    1.000000         3            0            3   \n",
       "20   mp_mp-570459    0.000000    1.000000         3            0            3   \n",
       "21      mp_mp-105    0.000000    1.000000         4            0            4   \n",
       "22    mp_mp-10654    0.000000    1.000000         1            0            1   \n",
       "23     mp_mp-8361    0.500000    0.500000         8            4            4   \n",
       "24  mp_mp-1178386    0.200000    0.800000        20            4           16   \n",
       "25   mp_mp-620471    0.120000    0.880000        25            3           22   \n",
       "26   mp_mp-573763    0.666667    0.333333        12            8            4   \n",
       "27   mp_mp-505464    0.133333    0.866667        60            8           52   \n",
       "28  mp_mp-1205022    0.125000    0.875000       128           16          112   \n",
       "29   mp_mp-505634    0.400000    0.600000        10            4            6   \n",
       "30  mp_mp-1188281    0.625000    0.375000        16           10            6   \n",
       "31  mp_mp-1191593    0.120000    0.880000        25            3           22   \n",
       "\n",
       "           source   source_id  space_group  formation_energy (eV/atom)  \\\n",
       "0   MP_2020_09_08  mp-1012110           57                    0.046335   \n",
       "1   MP_2020_09_08   mp-949029          223                    0.046690   \n",
       "2   MP_2020_09_08  mp-1055940          225                    0.041371   \n",
       "3   MP_2020_09_08   mp-573579           64                    0.053976   \n",
       "4   MP_2020_09_08   mp-639727          194                    0.026213   \n",
       "5   MP_2020_09_08  mp-1183897          213                    0.038677   \n",
       "6   MP_2020_09_08   mp-672241          135                    0.065470   \n",
       "7   MP_2020_09_08        mp-1          229                    0.038770   \n",
       "8   MP_2020_09_08    mp-11832          194                    0.035109   \n",
       "9   MP_2020_09_08  mp-1096915           12                    0.042218   \n",
       "10  MP_2020_09_08  mp-1007976           62                    0.054917   \n",
       "11  MP_2020_09_08  mp-1184151          217                    0.000000   \n",
       "12  MP_2020_09_08  mp-1183694          139                    0.037375   \n",
       "13  MP_2020_09_08        mp-3          141                    0.097650   \n",
       "14  MP_2020_09_08  mp-1178932          166                    0.054101   \n",
       "15  MP_2020_09_08     mp-9924           65                    0.127402   \n",
       "16  MP_2020_09_08  mp-1178952           26                    0.049131   \n",
       "17  MP_2020_09_08  mp-1064307           18                    0.122781   \n",
       "18  MP_2020_09_08       mp-19          152                    0.000000   \n",
       "19  MP_2020_09_08   mp-567313          154                    0.000024   \n",
       "20  MP_2020_09_08   mp-570459           12                    0.043651   \n",
       "21  MP_2020_09_08      mp-105           51                    0.047063   \n",
       "22  MP_2020_09_08    mp-10654          221                    0.046556   \n",
       "23  MP_2020_09_08     mp-8361           55                   -0.847515   \n",
       "24  MP_2020_09_08  mp-1178386           14                   -0.391677   \n",
       "25  MP_2020_09_08   mp-620471            1                   -0.212136   \n",
       "26  MP_2020_09_08   mp-573763           62                   -0.991598   \n",
       "27  MP_2020_09_08   mp-505464           57                   -0.257485   \n",
       "28  MP_2020_09_08  mp-1205022          130                   -0.214743   \n",
       "29  MP_2020_09_08   mp-505634           36                   -0.742686   \n",
       "30  MP_2020_09_08  mp-1188281           87                   -0.955132   \n",
       "31  MP_2020_09_08  mp-1191593           87                   -0.204884   \n",
       "\n",
       "    stability (eV/atom)  \n",
       "0              0.046335  \n",
       "1              0.046690  \n",
       "2              0.041371  \n",
       "3              0.053976  \n",
       "4              0.026213  \n",
       "5              0.038677  \n",
       "6              0.065470  \n",
       "7              0.038770  \n",
       "8              0.035109  \n",
       "9              0.042218  \n",
       "10             0.054917  \n",
       "11             0.000000  \n",
       "12             0.037375  \n",
       "13             0.097650  \n",
       "14             0.054101  \n",
       "15             0.127402  \n",
       "16             0.049131  \n",
       "17             0.122781  \n",
       "18             0.000000  \n",
       "19             0.000024  \n",
       "20             0.043651  \n",
       "21             0.047063  \n",
       "22             0.046556  \n",
       "23             0.000000  \n",
       "24             0.000000  \n",
       "25             0.022870  \n",
       "26             0.000000  \n",
       "27             0.003632  \n",
       "28             0.030055  \n",
       "29             0.000000  \n",
       "30             0.000445  \n",
       "31             0.030122  "
      ]
     },
     "execution_count": 10,
     "metadata": {},
     "output_type": "execute_result"
    }
   ],
   "source": [
    "df_mp = structures_mp.create_pandas_df(\n",
    "    exclude_columns=[\"functional\", \"icsd_ids\", \"magnetic_moment\", \"direct_band_gap\"]\n",
    ")\n",
    "df_mp"
   ]
  },
  {
   "cell_type": "code",
   "execution_count": 11,
   "id": "a9656209",
   "metadata": {
    "execution": {
     "iopub.execute_input": "2024-11-07T12:01:34.332068Z",
     "iopub.status.busy": "2024-11-07T12:01:34.331699Z",
     "iopub.status.idle": "2024-11-07T12:01:34.354507Z",
     "shell.execute_reply": "2024-11-07T12:01:34.353975Z"
    }
   },
   "outputs": [],
   "source": [
    "df_oqmd = structures_oqmd.create_pandas_df(\n",
    "    exclude_columns=[\"functional\", \"icsd_ids\", \"magnetic_moment\", \"direct_band_gap\"]\n",
    ")"
   ]
  },
  {
   "cell_type": "markdown",
   "id": "bd766f66",
   "metadata": {},
   "source": [
    "The dataset can be analyzed in more detail using the ``PhasePlot`` object from the ``plot`` sub-package of the library:"
   ]
  },
  {
   "cell_type": "code",
   "execution_count": 12,
   "id": "1f9da282",
   "metadata": {
    "execution": {
     "iopub.execute_input": "2024-11-07T12:01:34.357070Z",
     "iopub.status.busy": "2024-11-07T12:01:34.356587Z",
     "iopub.status.idle": "2024-11-07T12:01:34.363164Z",
     "shell.execute_reply": "2024-11-07T12:01:34.362532Z"
    }
   },
   "outputs": [],
   "source": [
    "from aim2dat.plots import PhasePlot"
   ]
  },
  {
   "cell_type": "markdown",
   "id": "fc2fc4cb",
   "metadata": {},
   "source": [
    "Here we use the matplotlib-library to create the plots, interactive plots can also be generated by changing the ``backend`` to `\"plotly\"`:"
   ]
  },
  {
   "cell_type": "code",
   "execution_count": 13,
   "id": "403c8e7c",
   "metadata": {
    "execution": {
     "iopub.execute_input": "2024-11-07T12:01:34.365835Z",
     "iopub.status.busy": "2024-11-07T12:01:34.365362Z",
     "iopub.status.idle": "2024-11-07T12:01:34.370492Z",
     "shell.execute_reply": "2024-11-07T12:01:34.369813Z"
    }
   },
   "outputs": [],
   "source": [
    "phase_diagram = PhasePlot()\n",
    "phase_diagram.ratio = (9, 4.5)\n",
    "phase_diagram.show_crystal_system = True\n",
    "phase_diagram.show_legend = True\n",
    "phase_diagram.legend_bbox_to_anchor = (1.35, 1.0)\n",
    "phase_diagram.backend = \"matplotlib\""
   ]
  },
  {
   "cell_type": "markdown",
   "id": "e5678181",
   "metadata": {},
   "source": [
    "Chemical composition and formation energies can be readily parsed from the pandas data frames:"
   ]
  },
  {
   "cell_type": "code",
   "execution_count": 14,
   "id": "647bde08",
   "metadata": {
    "execution": {
     "iopub.execute_input": "2024-11-07T12:01:34.372928Z",
     "iopub.status.busy": "2024-11-07T12:01:34.372541Z",
     "iopub.status.idle": "2024-11-07T12:01:34.387828Z",
     "shell.execute_reply": "2024-11-07T12:01:34.387172Z"
    }
   },
   "outputs": [],
   "source": [
    "phase_diagram.import_from_pandas_df(\"MP\", df_mp)\n",
    "phase_diagram.import_from_pandas_df(\"OQMD\", df_oqmd)"
   ]
  },
  {
   "cell_type": "code",
   "execution_count": 15,
   "id": "517963b8",
   "metadata": {
    "execution": {
     "iopub.execute_input": "2024-11-07T12:01:34.390480Z",
     "iopub.status.busy": "2024-11-07T12:01:34.390107Z",
     "iopub.status.idle": "2024-11-07T12:01:34.945534Z",
     "shell.execute_reply": "2024-11-07T12:01:34.944742Z"
    }
   },
   "outputs": [
    {
     "data": {
      "image/png": "[encoded data removed]",
      "text/plain": [
       "<Figure size 900x450 with 1 Axes>"
      ]
     },
     "execution_count": 15,
     "metadata": {},
     "output_type": "execute_result"
    }
   ],
   "source": [
    "phase_diagram.plot_type = \"scatter\"\n",
    "phase_diagram.plot_property = \"formation_energy\"\n",
    "phase_diagram.plot([\"MP\", \"OQMD\"])"
   ]
  },
  {
   "cell_type": "markdown",
   "id": "139f0322",
   "metadata": {},
   "source": [
    "The stability is defined as the vertical distance of a phase with respect to the convex hull:"
   ]
  },
  {
   "cell_type": "code",
   "execution_count": 16,
   "id": "2f6a8fa1",
   "metadata": {
    "execution": {
     "iopub.execute_input": "2024-11-07T12:01:34.948358Z",
     "iopub.status.busy": "2024-11-07T12:01:34.947947Z",
     "iopub.status.idle": "2024-11-07T12:01:35.272455Z",
     "shell.execute_reply": "2024-11-07T12:01:35.271624Z"
    }
   },
   "outputs": [
    {
     "data": {
      "image/png": "[encoded data removed]",
      "text/plain": [
       "<Figure size 900x450 with 1 Axes>"
      ]
     },
     "execution_count": 16,
     "metadata": {},
     "output_type": "execute_result"
    }
   ],
   "source": [
    "phase_diagram.plot_property = \"stability\"\n",
    "phase_diagram.show_convex_hull = False\n",
    "phase_diagram.plot([\"MP\", \"OQMD\"])"
   ]
  },
  {
   "cell_type": "markdown",
   "id": "3438b72d",
   "metadata": {},
   "source": [
    "To analyze the distribution of the phases in their chemical configuration space we can plot a histogram of the total number of phases per concentration interval and crystal system:"
   ]
  },
  {
   "cell_type": "code",
   "execution_count": 17,
   "id": "3d857147",
   "metadata": {
    "execution": {
     "iopub.execute_input": "2024-11-07T12:01:35.275321Z",
     "iopub.status.busy": "2024-11-07T12:01:35.274889Z",
     "iopub.status.idle": "2024-11-07T12:01:35.645205Z",
     "shell.execute_reply": "2024-11-07T12:01:35.644379Z"
    }
   },
   "outputs": [
    {
     "data": {
      "image/png": "[encoded data removed]",
      "text/plain": [
       "<Figure size 900x450 with 1 Axes>"
      ]
     },
     "execution_count": 17,
     "metadata": {},
     "output_type": "execute_result"
    }
   ],
   "source": [
    "phase_diagram.plot_type = \"numbers\"\n",
    "phase_diagram.y_label = \"Nr. of crystals\"\n",
    "phase_diagram.plot([\"MP\", \"OQMD\"])"
   ]
  },
  {
   "cell_type": "markdown",
   "id": "9874e890",
   "metadata": {},
   "source": [
    "## Exploiting chemical similarity to increase the structure pool\n",
    "\n",
    "From the last plot it is noticeable that more than two thirds of the structures actually represent elemental phases.\n",
    "This imbalance is due to the fact that most structures in online databases have been determined experimentally.\n",
    "Thus, we often find that the chemical space (in this case the mixed phases) relevant is under-represented in the dataset because it is easier to experimentally analyze \"simple\" compounds.\n",
    "\n",
    "One way to counteract this trend is to make use of the chemical similarity of cations or anions and also query structures containing of ions having the same oxidation state as the target system. The ions can then be replaced in a second step, thus obtaining a larger variety of structures.\n",
    "To do so, we import new structures once again.\n",
    "However, this time we exclude elemental phases straight-away by setting the corresponding constraint:"
   ]
  },
  {
   "cell_type": "code",
   "execution_count": 18,
   "id": "eb5f502d",
   "metadata": {
    "execution": {
     "iopub.execute_input": "2024-11-07T12:01:35.648085Z",
     "iopub.status.busy": "2024-11-07T12:01:35.647658Z",
     "iopub.status.idle": "2024-11-07T12:01:35.650953Z",
     "shell.execute_reply": "2024-11-07T12:01:35.650247Z"
    }
   },
   "outputs": [],
   "source": [
    "strct_imp = StructureImporter()\n",
    "strct_imp.neglect_elemental_structures = True"
   ]
  },
  {
   "cell_type": "code",
   "execution_count": 19,
   "id": "134ddbd2",
   "metadata": {
    "execution": {
     "iopub.execute_input": "2024-11-07T12:01:35.653687Z",
     "iopub.status.busy": "2024-11-07T12:01:35.653233Z",
     "iopub.status.idle": "2024-11-07T12:01:45.108452Z",
     "shell.execute_reply": "2024-11-07T12:01:45.107787Z"
    }
   },
   "outputs": [
    {
     "name": "stderr",
     "output_type": "stream",
     "text": [
      "/opt/hostedtoolcache/Python/3.10.15/x64/lib/python3.10/site-packages/pymatgen/ext/matproj_legacy.py:164: UserWarning: You are using the legacy MPRester. This version of the MPRester will no longer be updated. To access the latest data with the new MPRester, obtain a new API key from https://materialsproject.org/api and consult the docs at https://docs.materialsproject.org/ for more information.\n",
      "  warnings.warn(\n"
     ]
    },
    {
     "name": "stdout",
     "output_type": "stream",
     "text": [
      "connected with Materials Project Version 2020_09_08.\n"
     ]
    },
    {
     "name": "stderr",
     "output_type": "stream",
     "text": [
      "/opt/hostedtoolcache/Python/3.10.15/x64/lib/python3.10/site-packages/pymatgen/ext/matproj_legacy.py:164: UserWarning: You are using the legacy MPRester. This version of the MPRester will no longer be updated. To access the latest data with the new MPRester, obtain a new API key from https://materialsproject.org/api and consult the docs at https://docs.materialsproject.org/ for more information.\n",
      "  warnings.warn(\n"
     ]
    },
    {
     "name": "stdout",
     "output_type": "stream",
     "text": [
      "connected with Materials Project Version 2020_09_08.\n"
     ]
    },
    {
     "name": "stderr",
     "output_type": "stream",
     "text": [
      "/opt/hostedtoolcache/Python/3.10.15/x64/lib/python3.10/site-packages/pymatgen/ext/matproj_legacy.py:164: UserWarning: You are using the legacy MPRester. This version of the MPRester will no longer be updated. To access the latest data with the new MPRester, obtain a new API key from https://materialsproject.org/api and consult the docs at https://docs.materialsproject.org/ for more information.\n",
      "  warnings.warn(\n"
     ]
    },
    {
     "name": "stdout",
     "output_type": "stream",
     "text": [
      "connected with Materials Project Version 2020_09_08.\n"
     ]
    },
    {
     "name": "stderr",
     "output_type": "stream",
     "text": [
      "/opt/hostedtoolcache/Python/3.10.15/x64/lib/python3.10/site-packages/pymatgen/ext/matproj_legacy.py:164: UserWarning: You are using the legacy MPRester. This version of the MPRester will no longer be updated. To access the latest data with the new MPRester, obtain a new API key from https://materialsproject.org/api and consult the docs at https://docs.materialsproject.org/ for more information.\n",
      "  warnings.warn(\n"
     ]
    },
    {
     "name": "stdout",
     "output_type": "stream",
     "text": [
      "connected with Materials Project Version 2020_09_08.\n"
     ]
    },
    {
     "name": "stderr",
     "output_type": "stream",
     "text": [
      "/opt/hostedtoolcache/Python/3.10.15/x64/lib/python3.10/site-packages/pymatgen/ext/matproj_legacy.py:164: UserWarning: You are using the legacy MPRester. This version of the MPRester will no longer be updated. To access the latest data with the new MPRester, obtain a new API key from https://materialsproject.org/api and consult the docs at https://docs.materialsproject.org/ for more information.\n",
      "  warnings.warn(\n"
     ]
    },
    {
     "name": "stdout",
     "output_type": "stream",
     "text": [
      "connected with Materials Project Version 2020_09_08.\n"
     ]
    },
    {
     "name": "stderr",
     "output_type": "stream",
     "text": [
      "/opt/hostedtoolcache/Python/3.10.15/x64/lib/python3.10/site-packages/pymatgen/ext/matproj_legacy.py:164: UserWarning: You are using the legacy MPRester. This version of the MPRester will no longer be updated. To access the latest data with the new MPRester, obtain a new API key from https://materialsproject.org/api and consult the docs at https://docs.materialsproject.org/ for more information.\n",
      "  warnings.warn(\n"
     ]
    },
    {
     "name": "stdout",
     "output_type": "stream",
     "text": [
      "connected with Materials Project Version 2020_09_08.\n"
     ]
    },
    {
     "name": "stderr",
     "output_type": "stream",
     "text": [
      "/opt/hostedtoolcache/Python/3.10.15/x64/lib/python3.10/site-packages/pymatgen/ext/matproj_legacy.py:164: UserWarning: You are using the legacy MPRester. This version of the MPRester will no longer be updated. To access the latest data with the new MPRester, obtain a new API key from https://materialsproject.org/api and consult the docs at https://docs.materialsproject.org/ for more information.\n",
      "  warnings.warn(\n"
     ]
    },
    {
     "name": "stdout",
     "output_type": "stream",
     "text": [
      "connected with Materials Project Version 2020_09_08.\n"
     ]
    },
    {
     "name": "stderr",
     "output_type": "stream",
     "text": [
      "/opt/hostedtoolcache/Python/3.10.15/x64/lib/python3.10/site-packages/pymatgen/ext/matproj_legacy.py:164: UserWarning: You are using the legacy MPRester. This version of the MPRester will no longer be updated. To access the latest data with the new MPRester, obtain a new API key from https://materialsproject.org/api and consult the docs at https://docs.materialsproject.org/ for more information.\n",
      "  warnings.warn(\n"
     ]
    },
    {
     "name": "stdout",
     "output_type": "stream",
     "text": [
      "connected with Materials Project Version 2020_09_08.\n"
     ]
    },
    {
     "data": {
      "text/plain": [
       "<aim2dat.strct.structure_collection.StructureCollection at 0x7f68e36a6a10>"
      ]
     },
     "execution_count": 19,
     "metadata": {},
     "output_type": "execute_result"
    }
   ],
   "source": [
    "strct_imp.import_from_mp(\n",
    "    [\"K-Te\", \"Rb-Te\", \"K-Se\", \"Rb-Se\", \"Cs-Se\", \"K-Po\", \"Rb-Po\", \"Cs-Po\"],\n",
    "    \"NiQf1wbOAEUJHo8H\",\n",
    "    structure_type=\"initial\",\n",
    "    use_openapi=False,\n",
    ")"
   ]
  },
  {
   "cell_type": "code",
   "execution_count": 20,
   "id": "b922b07c",
   "metadata": {
    "execution": {
     "iopub.execute_input": "2024-11-07T12:01:45.111671Z",
     "iopub.status.busy": "2024-11-07T12:01:45.111125Z",
     "iopub.status.idle": "2024-11-07T12:03:47.540771Z",
     "shell.execute_reply": "2024-11-07T12:03:47.540106Z"
    }
   },
   "outputs": [
    {
     "data": {
      "text/plain": [
       "<aim2dat.strct.structure_collection.StructureCollection at 0x7f68c78ea0b0>"
      ]
     },
     "execution_count": 20,
     "metadata": {},
     "output_type": "execute_result"
    }
   ],
   "source": [
    "strct_imp.import_from_oqmd(\n",
    "    [\"K-Te\", \"Rb-Te\", \"K-Se\", \"Rb-Se\", \"Cs-Se\", \"K-Po\", \"Rb-Po\", \"Cs-Po\"], query_limit=1000\n",
    ")"
   ]
  },
  {
   "cell_type": "markdown",
   "id": "67ab507f",
   "metadata": {},
   "source": [
    "Now we can substitute the elements in ``StructureOperations`` object accordingly:"
   ]
  },
  {
   "cell_type": "code",
   "execution_count": 21,
   "id": "bee10e39",
   "metadata": {
    "execution": {
     "iopub.execute_input": "2024-11-07T12:03:47.544093Z",
     "iopub.status.busy": "2024-11-07T12:03:47.543612Z",
     "iopub.status.idle": "2024-11-07T12:03:47.832463Z",
     "shell.execute_reply": "2024-11-07T12:03:47.831640Z"
    }
   },
   "outputs": [],
   "source": [
    "strct_op.structures = strct_imp.structures\n",
    "structures_subst = strct_op[strct_op.structures.labels].substitute_elements(\n",
    "    [(\"K\", \"Cs\"), (\"Rb\", \"Cs\"), (\"Se\", \"Te\"), (\"Po\", \"Te\")],\n",
    "    change_label=True,\n",
    ")"
   ]
  },
  {
   "cell_type": "markdown",
   "id": "408e3c73",
   "metadata": {},
   "source": [
    "Since we have now probably have quite a few duplicate structures we will try to remove them. This time, however, we use a less strict method to filter out structures that are likely to be duplicates of others using merely the composition and the space group as criteria.\n",
    "\n",
    "**Note:** In order to reduce the run time, we only take the first 50 crystals for this example.\n",
    "\n",
    "We can choose to restrict the method merely on the newly imported structures where we substituted the elements by using the `confined` keyword, thus keeping all the previous phases in our dataset and applying the tight constraint only on the newly created phases:"
   ]
  },
  {
   "cell_type": "code",
   "execution_count": 22,
   "id": "f5dc4df5",
   "metadata": {
    "execution": {
     "iopub.execute_input": "2024-11-07T12:03:47.836093Z",
     "iopub.status.busy": "2024-11-07T12:03:47.835599Z",
     "iopub.status.idle": "2024-11-07T12:03:53.113103Z",
     "shell.execute_reply": "2024-11-07T12:03:53.112318Z"
    }
   },
   "outputs": [
    {
     "name": "stderr",
     "output_type": "stream",
     "text": [
      "spglib: No point group was found (line 405, /project/src/pointgroup.c).\n",
      "spglib: Attempt 0 tolerance = 5.000000e-03 failed(line 800, /project/src/spacegroup.c).\n",
      "spglib: No point group was found (line 405, /project/src/pointgroup.c).\n",
      "spglib: Attempt 1 tolerance = 4.750000e-03 failed(line 800, /project/src/spacegroup.c).\n",
      "spglib: No point group was found (line 405, /project/src/pointgroup.c).\n",
      "spglib: Attempt 2 tolerance = 4.512500e-03 failed(line 800, /project/src/spacegroup.c).\n",
      "spglib: No point group was found (line 405, /project/src/pointgroup.c).\n",
      "spglib: Attempt 3 tolerance = 4.286875e-03 failed(line 800, /project/src/spacegroup.c).\n",
      "spglib: No point group was found (line 405, /project/src/pointgroup.c).\n",
      "spglib: Attempt 4 tolerance = 4.072531e-03 failed(line 800, /project/src/spacegroup.c).\n",
      "spglib: No point group was found (line 405, /project/src/pointgroup.c).\n",
      "spglib: Attempt 5 tolerance = 3.868905e-03 failed(line 800, /project/src/spacegroup.c).\n",
      "spglib: No point group was found (line 405, /project/src/pointgroup.c).\n",
      "spglib: Attempt 6 tolerance = 3.675459e-03 failed(line 800, /project/src/spacegroup.c).\n",
      "spglib: No point group was found (line 405, /project/src/pointgroup.c).\n",
      "spglib: Attempt 0 tolerance = 5.000000e-03 failed(line 800, /project/src/spacegroup.c).\n",
      "spglib: No point group was found (line 405, /project/src/pointgroup.c).\n",
      "spglib: Attempt 1 tolerance = 4.750000e-03 failed(line 800, /project/src/spacegroup.c).\n",
      "spglib: No point group was found (line 405, /project/src/pointgroup.c).\n",
      "spglib: Attempt 2 tolerance = 4.512500e-03 failed(line 800, /project/src/spacegroup.c).\n",
      "spglib: No point group was found (line 405, /project/src/pointgroup.c).\n",
      "spglib: Attempt 3 tolerance = 4.286875e-03 failed(line 800, /project/src/spacegroup.c).\n",
      "spglib: No point group was found (line 405, /project/src/pointgroup.c).\n",
      "spglib: Attempt 4 tolerance = 4.072531e-03 failed(line 800, /project/src/spacegroup.c).\n",
      "spglib: No point group was found (line 405, /project/src/pointgroup.c).\n",
      "spglib: Attempt 5 tolerance = 3.868905e-03 failed(line 800, /project/src/spacegroup.c).\n",
      "spglib: No point group was found (line 405, /project/src/pointgroup.c).\n",
      "spglib: Attempt 6 tolerance = 3.675459e-03 failed(line 800, /project/src/spacegroup.c).\n"
     ]
    },
    {
     "name": "stderr",
     "output_type": "stream",
     "text": [
      "spglib: No point group was found (line 405, /project/src/pointgroup.c).\n",
      "spglib: Attempt 0 tolerance = 5.000000e-03 failed(line 800, /project/src/spacegroup.c).\n",
      "spglib: No point group was found (line 405, /project/src/pointgroup.c).\n",
      "spglib: Attempt 1 tolerance = 4.750000e-03 failed(line 800, /project/src/spacegroup.c).\n",
      "spglib: No point group was found (line 405, /project/src/pointgroup.c).\n",
      "spglib: Attempt 2 tolerance = 4.512500e-03 failed(line 800, /project/src/spacegroup.c).\n",
      "spglib: No point group was found (line 405, /project/src/pointgroup.c).\n",
      "spglib: Attempt 3 tolerance = 4.286875e-03 failed(line 800, /project/src/spacegroup.c).\n",
      "spglib: No point group was found (line 405, /project/src/pointgroup.c).\n",
      "spglib: Attempt 4 tolerance = 4.072531e-03 failed(line 800, /project/src/spacegroup.c).\n",
      "spglib: No point group was found (line 405, /project/src/pointgroup.c).\n",
      "spglib: Attempt 5 tolerance = 3.868905e-03 failed(line 800, /project/src/spacegroup.c).\n",
      "spglib: No point group was found (line 405, /project/src/pointgroup.c).\n",
      "spglib: Attempt 6 tolerance = 3.675459e-03 failed(line 800, /project/src/spacegroup.c).\n",
      "spglib: No point group was found (line 405, /project/src/pointgroup.c).\n",
      "spglib: Attempt 7 tolerance = 3.491686e-03 failed(line 800, /project/src/spacegroup.c).\n",
      "spglib: No point group was found (line 405, /project/src/pointgroup.c).\n",
      "spglib: Attempt 8 tolerance = 3.317102e-03 failed(line 800, /project/src/spacegroup.c).\n",
      "spglib: No point group was found (line 405, /project/src/pointgroup.c).\n",
      "spglib: Attempt 9 tolerance = 3.151247e-03 failed(line 800, /project/src/spacegroup.c).\n",
      "spglib: No point group was found (line 405, /project/src/pointgroup.c).\n",
      "spglib: Attempt 10 tolerance = 2.993685e-03 failed(line 800, /project/src/spacegroup.c).\n",
      "spglib: No point group was found (line 405, /project/src/pointgroup.c).\n",
      "spglib: Attempt 0 tolerance = 5.000000e-03 failed(line 800, /project/src/spacegroup.c).\n",
      "spglib: No point group was found (line 405, /project/src/pointgroup.c).\n",
      "spglib: Attempt 1 tolerance = 4.750000e-03 failed(line 800, /project/src/spacegroup.c).\n",
      "spglib: No point group was found (line 405, /project/src/pointgroup.c).\n",
      "spglib: Attempt 2 tolerance = 4.512500e-03 failed(line 800, /project/src/spacegroup.c).\n",
      "spglib: No point group was found (line 405, /project/src/pointgroup.c).\n",
      "spglib: Attempt 3 tolerance = 4.286875e-03 failed(line 800, /project/src/spacegroup.c).\n",
      "spglib: No point group was found (line 405, /project/src/pointgroup.c).\n",
      "spglib: Attempt 4 tolerance = 4.072531e-03 failed(line 800, /project/src/spacegroup.c).\n",
      "spglib: No point group was found (line 405, /project/src/pointgroup.c).\n",
      "spglib: Attempt 5 tolerance = 3.868905e-03 failed(line 800, /project/src/spacegroup.c).\n",
      "spglib: No point group was found (line 405, /project/src/pointgroup.c).\n",
      "spglib: Attempt 6 tolerance = 3.675459e-03 failed(line 800, /project/src/spacegroup.c).\n",
      "spglib: No point group was found (line 405, /project/src/pointgroup.c).\n",
      "spglib: Attempt 7 tolerance = 3.491686e-03 failed(line 800, /project/src/spacegroup.c).\n",
      "spglib: No point group was found (line 405, /project/src/pointgroup.c).\n",
      "spglib: Attempt 8 tolerance = 3.317102e-03 failed(line 800, /project/src/spacegroup.c).\n",
      "spglib: No point group was found (line 405, /project/src/pointgroup.c).\n",
      "spglib: Attempt 9 tolerance = 3.151247e-03 failed(line 800, /project/src/spacegroup.c).\n",
      "spglib: No point group was found (line 405, /project/src/pointgroup.c).\n",
      "spglib: Attempt 10 tolerance = 2.993685e-03 failed(line 800, /project/src/spacegroup.c).\n"
     ]
    },
    {
     "data": {
      "text/plain": [
       "[('mp_mp-8360_subst-RbCs', 'mp_mp-8361'),\n",
       " ('mp_mp-568745_subst-RbCs', 'mp_mp-573763'),\n",
       " ('mp_mp-1397_subst-RbCs', 'mp_mp-573763'),\n",
       " ('mp_mp-1011696_subst-SeTe', 'mp_mp-573763'),\n",
       " ('OQMD_647134', 'mp_mp-505634'),\n",
       " ('mp_mp-7670_subst-KCs-SeTe', 'mp_mp-505634'),\n",
       " ('mp_mp-7447_subst-RbCs-SeTe', 'mp_mp-505634'),\n",
       " ('mp_mp-644_subst-KCs', 'mp_mp-1188281'),\n",
       " ('mp_mp-755633_subst-KCs-SeTe', 'mp_mp-1188281'),\n",
       " ('mp_mp-1009489_subst-RbCs', 'OQMD_1104417'),\n",
       " ('mp_mp-1059621_subst-KCs-SeTe', 'OQMD_1104417'),\n",
       " ('mp_mp-1061530_subst-RbCs-SeTe', 'OQMD_1104417'),\n",
       " ('mp_mp-1009491_subst-RbCs', 'OQMD_1222159'),\n",
       " ('OQMD_1593007', 'OQMD_1239241'),\n",
       " ('mp_mp-1747_subst-KCs', 'OQMD_1343671'),\n",
       " ('mp_mp-441_subst-RbCs', 'OQMD_1343671'),\n",
       " ('mp_mp-8426_subst-KCs-SeTe', 'OQMD_1343671'),\n",
       " ('mp_mp-11327_subst-RbCs-SeTe', 'OQMD_1343671'),\n",
       " ('mp_mp-1011695_subst-SeTe', 'OQMD_1343671'),\n",
       " ('mp_mp-31002_subst-RbCs', 'OQMD_1800027'),\n",
       " ('mp_mp-2095_subst-RbCs', 'mp_mp-7289_subst-KCs'),\n",
       " ('mp_mp-9064_subst-RbCs', 'mp_mp-1554_subst-KCs'),\n",
       " ('mp_mp-9268_subst-KCs-SeTe', 'mp_mp-1554_subst-KCs'),\n",
       " ('mp_mp-9063_subst-RbCs-SeTe', 'mp_mp-1554_subst-KCs'),\n",
       " ('mp_mp-1080254_subst-SeTe', 'mp_mp-383_subst-RbCs'),\n",
       " ('mp_mp-1180659_subst-KCs-SeTe', 'mp_mp-1080121_subst-KCs-SeTe'),\n",
       " ('mp_mp-620372_subst-RbCs-SeTe', 'mp_mp-18609_subst-KCs-SeTe'),\n",
       " ('mp_mp-18609_subst-KCs-SeTe', 'mp_mp-541055_subst-SeTe')]"
      ]
     },
     "execution_count": 22,
     "metadata": {},
     "output_type": "execute_result"
    }
   ],
   "source": [
    "strct_op.structures = structures_mp + structures_oqmd + structures_subst[:50]\n",
    "strct_op.find_duplicates_via_comp_sym(remove_structures=True, confined=(133, 133 + 50))"
   ]
  },
  {
   "cell_type": "markdown",
   "id": "14f125b4",
   "metadata": {},
   "source": [
    "And now we can add the new structures to our plot object:"
   ]
  },
  {
   "cell_type": "code",
   "execution_count": 23,
   "id": "6639b18a",
   "metadata": {
    "execution": {
     "iopub.execute_input": "2024-11-07T12:03:53.116219Z",
     "iopub.status.busy": "2024-11-07T12:03:53.115643Z",
     "iopub.status.idle": "2024-11-07T12:03:53.677846Z",
     "shell.execute_reply": "2024-11-07T12:03:53.677090Z"
    }
   },
   "outputs": [
    {
     "data": {
      "image/png": "[encoded data removed]",
      "text/plain": [
       "<Figure size 900x450 with 1 Axes>"
      ]
     },
     "execution_count": 23,
     "metadata": {},
     "output_type": "execute_result"
    }
   ],
   "source": [
    "subst_structures = strct_op.structures[133:]\n",
    "df_subst = subst_structures.create_pandas_df(\n",
    "    exclude_columns=[\"functional\", \"icsd_ids\", \"magnetic_moment\", \"direct_band_gap\"]\n",
    ")\n",
    "df_subst\n",
    "phase_diagram.import_from_pandas_df(\"subst. structures\", df_subst)\n",
    "phase_diagram.plot([\"MP\", \"OQMD\", \"subst. structures\"])"
   ]
  },
  {
   "cell_type": "markdown",
   "id": "26da6083",
   "metadata": {},
   "source": [
    "We can clearly see that the number of mixed phases is larger in the new data pool."
   ]
  }
 ],
 "metadata": {
  "kernelspec": {
   "display_name": "Python 3 (ipykernel)",
   "language": "python",
   "name": "python3"
  },
  "language_info": {
   "codemirror_mode": {
    "name": "ipython",
    "version": 3
   },
   "file_extension": ".py",
   "mimetype": "text/x-python",
   "name": "python",
   "nbconvert_exporter": "python",
   "pygments_lexer": "ipython3",
   "version": "3.10.15"
  }
 },
 "nbformat": 4,
 "nbformat_minor": 5
}
