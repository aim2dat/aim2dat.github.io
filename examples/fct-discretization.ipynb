{
 "cells": [
  {
   "cell_type": "markdown",
   "metadata": {
    "raw_mimetype": "text/restructuredtext"
   },
   "source": [
    "# Creating a discretized grid to analyse functions\n",
    "\n",
    "## Create a discretized axis\n",
    "\n",
    "The ``DiscretizedAxis`` object allows to discretize a given range e.g. an energy or DOS range. At the moment, uniformly and normally distributed discretizations are implemented. The method can be chosen via ``discretization_method``. Either a string specifying the implemented methods or a custom function are allowed.\n",
    "\n",
    "The ``DiscretizedAxis`` expects the ``axis_type`` argument, this can be either \"x\" or \"y\". The other attributes can be set afterwards. The ``axis_type`` specifies the shape of the internal ``numpy array`` that stores the values of the axis.\n",
    "\n",
    "Create Two axis, both of ``axis_type`` ``x`` but with different ranges and discretization types. The ``normal`` discretization expects a ``mean`` and ``standard deviation``.\n",
    "In case of the uniform distribution, no further keywords are needed and the step size is specified via ``min_step``.\n",
    "\n",
    "Further arguments of the class are:\n",
    "\n",
    "* ``min``, ``max``: Specify the minimum and maximum value of the axis\n",
    "* ``max_num_steps``: Specifies the maximum step size for the gaussian distributed discretization which is ``max_num_steps`` multiplied with ``min_step``."
   ]
  },
  {
   "cell_type": "code",
   "execution_count": 1,
   "metadata": {
    "execution": {
     "iopub.execute_input": "2024-10-15T06:47:50.639142Z",
     "iopub.status.busy": "2024-10-15T06:47:50.638945Z",
     "iopub.status.idle": "2024-10-15T06:47:51.350893Z",
     "shell.execute_reply": "2024-10-15T06:47:51.350236Z"
    }
   },
   "outputs": [
    {
     "data": {
      "text/plain": [
       "DiscretizedAxis\n",
       "\taxis_type: x\n",
       "\tmax: 1\n",
       "\tmin: 0\n",
       "\tmin_step: 0.02\n",
       "\tmax_num_steps: 5\n",
       "\tprecision: 6\n",
       "\tdiscretization_method: _uniform_discretization\n",
       "\n",
       "<aim2dat.fct.discretization.DiscretizedAxis object at 0x7f458e14b040>"
      ]
     },
     "execution_count": 1,
     "metadata": {},
     "output_type": "execute_result"
    }
   ],
   "source": [
    "from aim2dat.fct import DiscretizedAxis\n",
    "\n",
    "axis = DiscretizedAxis(axis_type=\"x\", max=0.49, min=0, min_step=0.01)\n",
    "axis.discretization_method = \"gaussian\"\n",
    "axis.discretize_axis(mu=1, sigma=2)\n",
    "\n",
    "axis2 = DiscretizedAxis(axis_type=\"x\", max=1, min=0, min_step=0.02)\n",
    "axis2.discretization_method = \"uniform\"\n",
    "axis2.discretize_axis()"
   ]
  },
  {
   "cell_type": "markdown",
   "metadata": {},
   "source": [
    "We can now check that the axis is uniformly distributed."
   ]
  },
  {
   "cell_type": "code",
   "execution_count": 2,
   "metadata": {
    "execution": {
     "iopub.execute_input": "2024-10-15T06:47:51.385533Z",
     "iopub.status.busy": "2024-10-15T06:47:51.385092Z",
     "iopub.status.idle": "2024-10-15T06:47:51.389781Z",
     "shell.execute_reply": "2024-10-15T06:47:51.389164Z"
    }
   },
   "outputs": [
    {
     "data": {
      "text/plain": [
       "array([[0.  , 0.01, 0.03, 0.05, 0.06, 0.07, 0.08, 0.09, 0.1 , 0.11, 0.12,\n",
       "        0.13, 0.14, 0.15, 0.16, 0.17, 0.18, 0.19, 0.2 , 0.21, 0.22, 0.23,\n",
       "        0.24, 0.25, 0.26, 0.27, 0.28, 0.29, 0.3 , 0.31, 0.32, 0.33, 0.34,\n",
       "        0.35, 0.36, 0.37, 0.38, 0.39, 0.4 , 0.41, 0.42, 0.43, 0.44, 0.45,\n",
       "        0.46, 0.47, 0.48, 0.49]])"
      ]
     },
     "execution_count": 2,
     "metadata": {},
     "output_type": "execute_result"
    }
   ],
   "source": [
    "axis.axis"
   ]
  },
  {
   "cell_type": "markdown",
   "metadata": {},
   "source": [
    "Normally distributed."
   ]
  },
  {
   "cell_type": "code",
   "execution_count": 3,
   "metadata": {
    "execution": {
     "iopub.execute_input": "2024-10-15T06:47:51.392209Z",
     "iopub.status.busy": "2024-10-15T06:47:51.391820Z",
     "iopub.status.idle": "2024-10-15T06:47:51.396224Z",
     "shell.execute_reply": "2024-10-15T06:47:51.395649Z"
    }
   },
   "outputs": [
    {
     "data": {
      "text/plain": [
       "array([[0.  , 0.02, 0.04, 0.06, 0.08, 0.1 , 0.12, 0.14, 0.16, 0.18, 0.2 ,\n",
       "        0.22, 0.24, 0.26, 0.28, 0.3 , 0.32, 0.34, 0.36, 0.38, 0.4 , 0.42,\n",
       "        0.44, 0.46, 0.48, 0.5 , 0.52, 0.54, 0.56, 0.58, 0.6 , 0.62, 0.64,\n",
       "        0.66, 0.68, 0.7 , 0.72, 0.74, 0.76, 0.78, 0.8 , 0.82, 0.84, 0.86,\n",
       "        0.88, 0.9 , 0.92, 0.94, 0.96, 0.98, 1.  ]])"
      ]
     },
     "execution_count": 3,
     "metadata": {},
     "output_type": "execute_result"
    }
   ],
   "source": [
    "axis2.axis"
   ]
  },
  {
   "cell_type": "markdown",
   "metadata": {
    "raw_mimetype": "text/restructuredtext"
   },
   "source": [
    "## Merge two objects with the same ``axis_type``\n",
    "\n",
    "\n",
    "The addition of two ``DiscretizedAxis`` objects leads to a merge of the two axis ranges. The axis of the first summand is kept. In case the second summand covers a range that is not covered by the first one, the part will be merged. Before the ranges are merged, the last point of the first summand and the first point of the merged range are aligned."
   ]
  },
  {
   "cell_type": "code",
   "execution_count": 4,
   "metadata": {
    "execution": {
     "iopub.execute_input": "2024-10-15T06:47:51.398841Z",
     "iopub.status.busy": "2024-10-15T06:47:51.398321Z",
     "iopub.status.idle": "2024-10-15T06:47:51.401496Z",
     "shell.execute_reply": "2024-10-15T06:47:51.400898Z"
    }
   },
   "outputs": [],
   "source": [
    "axis3 = axis + axis2"
   ]
  },
  {
   "cell_type": "markdown",
   "metadata": {},
   "source": [
    "The merge is performed at 0.49. The values of the `axis2` are shifted as mentioned before."
   ]
  },
  {
   "cell_type": "code",
   "execution_count": 5,
   "metadata": {
    "execution": {
     "iopub.execute_input": "2024-10-15T06:47:51.403862Z",
     "iopub.status.busy": "2024-10-15T06:47:51.403507Z",
     "iopub.status.idle": "2024-10-15T06:47:51.407814Z",
     "shell.execute_reply": "2024-10-15T06:47:51.407245Z"
    }
   },
   "outputs": [
    {
     "data": {
      "text/plain": [
       "array([[0.  , 0.01, 0.03, 0.05, 0.06, 0.07, 0.08, 0.09, 0.1 , 0.11, 0.12,\n",
       "        0.13, 0.14, 0.15, 0.16, 0.17, 0.18, 0.19, 0.2 , 0.21, 0.22, 0.23,\n",
       "        0.24, 0.25, 0.26, 0.27, 0.28, 0.29, 0.3 , 0.31, 0.32, 0.33, 0.34,\n",
       "        0.35, 0.36, 0.37, 0.38, 0.39, 0.4 , 0.41, 0.42, 0.43, 0.44, 0.45,\n",
       "        0.46, 0.47, 0.48, 0.49, 0.51, 0.53, 0.55, 0.57, 0.59, 0.61, 0.63,\n",
       "        0.65, 0.67, 0.69, 0.71, 0.73, 0.75, 0.77, 0.79, 0.81, 0.83, 0.85,\n",
       "        0.87, 0.89, 0.91, 0.93, 0.95, 0.97, 0.99]])"
      ]
     },
     "execution_count": 5,
     "metadata": {},
     "output_type": "execute_result"
    }
   ],
   "source": [
    "axis3.axis"
   ]
  },
  {
   "cell_type": "markdown",
   "metadata": {},
   "source": [
    "## Axis can be transposed\n",
    "\n",
    "Transposing an axis converts the `axis_type` from `x` to `y` and vice versa.\n",
    "\n",
    "The following cells show the functionality. The `axis_type` is not changed by the transpose method but the method returns a copy with the converted `axis_type`, as known for `numpy`.\n",
    "\n",
    "The `T` attribute is also supported and does the same as `transpose`. Moreover, the methods return the `instance` wherefore chained method calls are possible."
   ]
  },
  {
   "cell_type": "code",
   "execution_count": 6,
   "metadata": {
    "execution": {
     "iopub.execute_input": "2024-10-15T06:47:51.410187Z",
     "iopub.status.busy": "2024-10-15T06:47:51.409828Z",
     "iopub.status.idle": "2024-10-15T06:47:51.413598Z",
     "shell.execute_reply": "2024-10-15T06:47:51.413088Z"
    }
   },
   "outputs": [
    {
     "data": {
      "text/plain": [
       "'x'"
      ]
     },
     "execution_count": 6,
     "metadata": {},
     "output_type": "execute_result"
    }
   ],
   "source": [
    "axis.axis_type"
   ]
  },
  {
   "cell_type": "code",
   "execution_count": 7,
   "metadata": {
    "execution": {
     "iopub.execute_input": "2024-10-15T06:47:51.415867Z",
     "iopub.status.busy": "2024-10-15T06:47:51.415556Z",
     "iopub.status.idle": "2024-10-15T06:47:51.418661Z",
     "shell.execute_reply": "2024-10-15T06:47:51.418033Z"
    }
   },
   "outputs": [],
   "source": [
    "axis_t = axis.transpose()"
   ]
  },
  {
   "cell_type": "markdown",
   "metadata": {},
   "source": [
    "Initial type is not changed."
   ]
  },
  {
   "cell_type": "code",
   "execution_count": 8,
   "metadata": {
    "execution": {
     "iopub.execute_input": "2024-10-15T06:47:51.421099Z",
     "iopub.status.busy": "2024-10-15T06:47:51.420715Z",
     "iopub.status.idle": "2024-10-15T06:47:51.424741Z",
     "shell.execute_reply": "2024-10-15T06:47:51.424172Z"
    }
   },
   "outputs": [
    {
     "data": {
      "text/plain": [
       "'x'"
      ]
     },
     "execution_count": 8,
     "metadata": {},
     "output_type": "execute_result"
    }
   ],
   "source": [
    "axis.axis_type"
   ]
  },
  {
   "cell_type": "code",
   "execution_count": 9,
   "metadata": {
    "execution": {
     "iopub.execute_input": "2024-10-15T06:47:51.427200Z",
     "iopub.status.busy": "2024-10-15T06:47:51.426749Z",
     "iopub.status.idle": "2024-10-15T06:47:51.430832Z",
     "shell.execute_reply": "2024-10-15T06:47:51.430288Z"
    }
   },
   "outputs": [
    {
     "data": {
      "text/plain": [
       "'y'"
      ]
     },
     "execution_count": 9,
     "metadata": {},
     "output_type": "execute_result"
    }
   ],
   "source": [
    "axis_t.axis_type"
   ]
  },
  {
   "cell_type": "markdown",
   "metadata": {},
   "source": [
    "The corresponding array shape. \"y\" corresponds to a column vector."
   ]
  },
  {
   "cell_type": "code",
   "execution_count": 10,
   "metadata": {
    "execution": {
     "iopub.execute_input": "2024-10-15T06:47:51.433147Z",
     "iopub.status.busy": "2024-10-15T06:47:51.432787Z",
     "iopub.status.idle": "2024-10-15T06:47:51.436807Z",
     "shell.execute_reply": "2024-10-15T06:47:51.436149Z"
    }
   },
   "outputs": [
    {
     "data": {
      "text/plain": [
       "(-1, 1)"
      ]
     },
     "execution_count": 10,
     "metadata": {},
     "output_type": "execute_result"
    }
   ],
   "source": [
    "axis_t.shape"
   ]
  },
  {
   "cell_type": "markdown",
   "metadata": {},
   "source": [
    "Chained calls."
   ]
  },
  {
   "cell_type": "code",
   "execution_count": 11,
   "metadata": {
    "execution": {
     "iopub.execute_input": "2024-10-15T06:47:51.438955Z",
     "iopub.status.busy": "2024-10-15T06:47:51.438773Z",
     "iopub.status.idle": "2024-10-15T06:47:51.442930Z",
     "shell.execute_reply": "2024-10-15T06:47:51.442391Z"
    }
   },
   "outputs": [
    {
     "data": {
      "text/plain": [
       "'y'"
      ]
     },
     "execution_count": 11,
     "metadata": {},
     "output_type": "execute_result"
    }
   ],
   "source": [
    "axis.T.axis_type"
   ]
  },
  {
   "cell_type": "code",
   "execution_count": 12,
   "metadata": {
    "execution": {
     "iopub.execute_input": "2024-10-15T06:47:51.445175Z",
     "iopub.status.busy": "2024-10-15T06:47:51.444815Z",
     "iopub.status.idle": "2024-10-15T06:47:51.448913Z",
     "shell.execute_reply": "2024-10-15T06:47:51.448296Z"
    }
   },
   "outputs": [
    {
     "data": {
      "text/plain": [
       "'x'"
      ]
     },
     "execution_count": 12,
     "metadata": {},
     "output_type": "execute_result"
    }
   ],
   "source": [
    "axis.T.T.axis_type"
   ]
  },
  {
   "cell_type": "markdown",
   "metadata": {},
   "source": [
    "## Combine two objects with different `axis_type` to a grid\n",
    "\n",
    "It was shown above that the addition of two axis objects leads to a merge of the corresponding ranges. In case the two objects do not have the same `axis_type`, the addition will create a grid. The `axis_type` \"x\" discretizes the \"x\" range and the `axis_type` \"y\" the \"y\" range."
   ]
  },
  {
   "cell_type": "code",
   "execution_count": 13,
   "metadata": {
    "execution": {
     "iopub.execute_input": "2024-10-15T06:47:51.451335Z",
     "iopub.status.busy": "2024-10-15T06:47:51.450956Z",
     "iopub.status.idle": "2024-10-15T06:47:51.454872Z",
     "shell.execute_reply": "2024-10-15T06:47:51.454239Z"
    }
   },
   "outputs": [
    {
     "data": {
      "text/plain": [
       "<aim2dat.fct.discretization.DiscretizedGrid at 0x7f458e14ba60>"
      ]
     },
     "execution_count": 13,
     "metadata": {},
     "output_type": "execute_result"
    }
   ],
   "source": [
    "axis4 = axis + axis_t\n",
    "axis4"
   ]
  },
  {
   "cell_type": "markdown",
   "metadata": {},
   "source": [
    "The returned object contains only the parameters for the grid. The grid needs to be created via the following method call. It will generate the internal representation of the grid which is a list of lists. The first argument of each sublist contains the x-value and the second argument contains a list with the discretized y-values."
   ]
  },
  {
   "cell_type": "code",
   "execution_count": 14,
   "metadata": {
    "execution": {
     "iopub.execute_input": "2024-10-15T06:47:51.457234Z",
     "iopub.status.busy": "2024-10-15T06:47:51.456855Z",
     "iopub.status.idle": "2024-10-15T06:47:51.461839Z",
     "shell.execute_reply": "2024-10-15T06:47:51.461299Z"
    }
   },
   "outputs": [
    {
     "name": "stdout",
     "output_type": "stream",
     "text": [
      "(1, 48)\n",
      "(48, 48)\n"
     ]
    },
    {
     "data": {
      "text/plain": [
       "<aim2dat.fct.discretization.DiscretizedGrid at 0x7f458e14ba60>"
      ]
     },
     "execution_count": 14,
     "metadata": {},
     "output_type": "execute_result"
    }
   ],
   "source": [
    "axis4.create_grid()"
   ]
  },
  {
   "cell_type": "markdown",
   "metadata": {},
   "source": [
    "The grid can be visualized via the following method."
   ]
  },
  {
   "cell_type": "code",
   "execution_count": 15,
   "metadata": {
    "execution": {
     "iopub.execute_input": "2024-10-15T06:47:51.464229Z",
     "iopub.status.busy": "2024-10-15T06:47:51.463848Z",
     "iopub.status.idle": "2024-10-15T06:47:53.161822Z",
     "shell.execute_reply": "2024-10-15T06:47:53.161107Z"
    }
   },
   "outputs": [
    {
     "data": {
      "image/png": "[encoded data removed]",
      "text/plain": [
       "<Figure size 1200x800 with 1 Axes>"
      ]
     },
     "execution_count": 15,
     "metadata": {},
     "output_type": "execute_result"
    }
   ],
   "source": [
    "axis4.plot_grid()"
   ]
  },
  {
   "cell_type": "markdown",
   "metadata": {},
   "source": [
    "## Weighted grid\n",
    "\n",
    "The multiplication of two axis objects expect two objects with different `axis_type` attributes. It also cerates a grid. In contrast to the addition, the multiplication weights the y-values by the x-values. The weights are currently related to the width of a bin in x-direction.\n",
    "\n",
    "The following cell uses the merged `axis3` from above and the transposed uniformly distributed `axis2`. It can be seen, that the discretization in z-direction changes with the x-width."
   ]
  },
  {
   "cell_type": "code",
   "execution_count": 16,
   "metadata": {
    "execution": {
     "iopub.execute_input": "2024-10-15T06:47:53.164571Z",
     "iopub.status.busy": "2024-10-15T06:47:53.164109Z",
     "iopub.status.idle": "2024-10-15T06:47:53.169501Z",
     "shell.execute_reply": "2024-10-15T06:47:53.168946Z"
    }
   },
   "outputs": [
    {
     "name": "stdout",
     "output_type": "stream",
     "text": [
      "(1, 73)\n",
      "(73, 51)\n"
     ]
    },
    {
     "data": {
      "text/plain": [
       "<aim2dat.fct.discretization.DiscretizedGrid at 0x7f4547f3b850>"
      ]
     },
     "execution_count": 16,
     "metadata": {},
     "output_type": "execute_result"
    }
   ],
   "source": [
    "axis5 = axis3 * axis2.T\n",
    "axis5.create_grid()"
   ]
  },
  {
   "cell_type": "code",
   "execution_count": 17,
   "metadata": {
    "execution": {
     "iopub.execute_input": "2024-10-15T06:47:53.172051Z",
     "iopub.status.busy": "2024-10-15T06:47:53.171638Z",
     "iopub.status.idle": "2024-10-15T06:47:55.842558Z",
     "shell.execute_reply": "2024-10-15T06:47:55.841910Z"
    }
   },
   "outputs": [
    {
     "data": {
      "image/png": "[encoded data removed]",
      "text/plain": [
       "<Figure size 1200x800 with 1 Axes>"
      ]
     },
     "execution_count": 17,
     "metadata": {},
     "output_type": "execute_result"
    }
   ],
   "source": [
    "axis5.plot_grid()"
   ]
  }
 ],
 "metadata": {
  "celltoolbar": "Raw Cell Format",
  "kernelspec": {
   "display_name": "Python 3 (ipykernel)",
   "language": "python",
   "name": "python3"
  },
  "language_info": {
   "codemirror_mode": {
    "name": "ipython",
    "version": 3
   },
   "file_extension": ".py",
   "mimetype": "text/x-python",
   "name": "python",
   "nbconvert_exporter": "python",
   "pygments_lexer": "ipython3",
   "version": "3.10.15"
  }
 },
 "nbformat": 4,
 "nbformat_minor": 4
}
