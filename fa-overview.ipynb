{
 "cells": [
  {
   "cell_type": "raw",
   "metadata": {
    "raw_mimetype": "text/restructuredtext"
   },
   "source": [
    "=================\n",
    "Function Analysis\n",
    "=================\n",
    "\n",
    "This sub-package is used to analyze and especially compare functions. The current implementation supports ``2D-functions`` and  multiple methods for comparison either based on the function values itselves or by discretizing the corresponding 2D-plot of the function.\n",
    "\n",
    "The usage of the discretization of 2D-plots and the corresponding fingerprint that is used for the actual comparison is more extensively described in the related examples.\n",
    "\n",
    "A genereal comparison class  is available which also wraps the aformentioned fingerpint and in addition the further function-value based methods."
   ]
  },
  {
   "cell_type": "code",
   "execution_count": 1,
   "metadata": {
    "execution": {
     "iopub.execute_input": "2024-10-15T06:52:54.261329Z",
     "iopub.status.busy": "2024-10-15T06:52:54.261136Z",
     "iopub.status.idle": "2024-10-15T06:52:54.483885Z",
     "shell.execute_reply": "2024-10-15T06:52:54.483325Z"
    }
   },
   "outputs": [],
   "source": [
    "import numpy as np\n",
    "import yaml\n",
    "\n",
    "with open(\n",
    "    \"../../example_notebooks/files/function_analysis/example_energy_dos.yaml\"\n",
    ") as file:\n",
    "    example_dos_energy, example_dos = np.array(yaml.safe_load(file))"
   ]
  },
  {
   "cell_type": "raw",
   "metadata": {
    "raw_mimetype": "text/restructuredtext"
   },
   "source": [
    "Importing datasets\n",
    "==================\n",
    "\n",
    "Data sets can be readily imported into the object using the :meth:`import_data <aim2dat.fct.FunctionAnalysis.import_data>` function:"
   ]
  },
  {
   "cell_type": "code",
   "execution_count": 2,
   "metadata": {
    "execution": {
     "iopub.execute_input": "2024-10-15T06:52:54.486848Z",
     "iopub.status.busy": "2024-10-15T06:52:54.486398Z",
     "iopub.status.idle": "2024-10-15T06:52:55.087179Z",
     "shell.execute_reply": "2024-10-15T06:52:55.086582Z"
    }
   },
   "outputs": [],
   "source": [
    "from aim2dat.fct import FunctionAnalysis\n",
    "\n",
    "fa = FunctionAnalysis()\n",
    "\n",
    "fa.import_data(\"test_set\", example_dos_energy, example_dos)\n",
    "fa.import_data(\n",
    "    \"test_set_shifted\", \n",
    "    example_dos_energy, \n",
    "    example_dos + np.random.random(len(example_dos))\n",
    ")"
   ]
  },
  {
   "cell_type": "raw",
   "metadata": {
    "raw_mimetype": "text/restructuredtext"
   },
   "source": [
    "Supported comparison metrics\n",
    "============================\n",
    "\n",
    "* Pearson-correlation : :meth:`calculate_correlation <aim2dat.fct.FunctionAnalysis.calculate_correlation>`\n",
    "* Difference / distance: :meth:`calculate_distance <aim2dat.fct.FunctionAnalysis.calculate_distance>` (multiple options to define the difference)\n",
    "    * Euclidian norm\n",
    "    * Cosine distance\n",
    "    * Total difference (sum of the distances at each x-value)\n",
    "    * Absolute difference (sum of the absolute distances at each x-value)\n",
    "* Comparison of areas: :meth:`compare_areas <aim2dat.fct.FunctionAnalysis.compare_areas>`\n",
    "\n",
    "\n",
    "Example of the different methods for :meth:`calculate_distance <aim2dat.fct.FunctionAnalysis.calculate_distance>`."
   ]
  },
  {
   "cell_type": "code",
   "execution_count": 3,
   "metadata": {
    "execution": {
     "iopub.execute_input": "2024-10-15T06:52:55.090327Z",
     "iopub.status.busy": "2024-10-15T06:52:55.089765Z",
     "iopub.status.idle": "2024-10-15T06:52:55.094165Z",
     "shell.execute_reply": "2024-10-15T06:52:55.093581Z"
    }
   },
   "outputs": [
    {
     "name": "stdout",
     "output_type": "stream",
     "text": [
      "Method: euclidian: 20.05\n",
      "Method: cosine: 0.19\n",
      "Method: total: -611.80\n",
      "Method: absolute: 611.80\n"
     ]
    }
   ],
   "source": [
    "for distance_method in fa.allowed_distance_methods:\n",
    "    difference = fa.calculate_distance(\n",
    "        \"test_set\", \"test_set_shifted\", distance_method\n",
    "    )\n",
    "    print(f\"Method: {distance_method}: {difference:.2f}\")"
   ]
  },
  {
   "cell_type": "raw",
   "metadata": {
    "raw_mimetype": "text/restructuredtext"
   },
   "source": [
    "Comparison fingerprint\n",
    "======================\n",
    "\n",
    "A comparison between two functions can also be accomplished using the fingerprint introduced in :doi:`10.1038/s41597-022-01754-z` which is either calculated via the :meth:`calculate_discrete_fingerprint <aim2dat.fct.FunctionAnalysis.calculate_discrete_fingerprint>` function or directly used for the comparison via the :meth:`compare_functions_by_discrete_fingerprint <aim2dat.fct.FunctionAnalysis.compare_functions_by_discrete_fingerprint>` function. Both methods require the definition of a grid. Please refer to the two examples (:doc:`here <examples/fct-discretization>` and :doc:`here <examples/fct-fingerprint_comparison>`) to see how to do this in detail."
   ]
  },
  {
   "cell_type": "code",
   "execution_count": 4,
   "metadata": {
    "execution": {
     "iopub.execute_input": "2024-10-15T06:52:55.096516Z",
     "iopub.status.busy": "2024-10-15T06:52:55.096114Z",
     "iopub.status.idle": "2024-10-15T06:52:55.101460Z",
     "shell.execute_reply": "2024-10-15T06:52:55.100939Z"
    }
   },
   "outputs": [
    {
     "name": "stdout",
     "output_type": "stream",
     "text": [
      "(1, 101)\n",
      "(101, 101)\n"
     ]
    }
   ],
   "source": [
    "from aim2dat.fct import DiscretizedAxis\n",
    "\n",
    "axis = DiscretizedAxis(\n",
    "    axis_type=\"x\", max=20, min=0, min_step=0.2, max_num_steps=1\n",
    ")\n",
    "axis.discretization_method = \"uniform\"\n",
    "axis.discretize_axis()\n",
    "\n",
    "axis2 = DiscretizedAxis(\n",
    "    axis_type=\"y\", max=0.3, min=0, min_step=0.003, max_num_steps=1\n",
    ")\n",
    "axis2.discretization_method = \"uniform\"\n",
    "axis2.discretize_axis()\n",
    "\n",
    "grid = (axis + axis2).create_grid()"
   ]
  },
  {
   "cell_type": "code",
   "execution_count": 5,
   "metadata": {
    "execution": {
     "iopub.execute_input": "2024-10-15T06:52:55.103642Z",
     "iopub.status.busy": "2024-10-15T06:52:55.103338Z",
     "iopub.status.idle": "2024-10-15T06:52:55.120432Z",
     "shell.execute_reply": "2024-10-15T06:52:55.119771Z"
    }
   },
   "outputs": [
    {
     "data": {
      "text/plain": [
       "0.259183"
      ]
     },
     "execution_count": 5,
     "metadata": {},
     "output_type": "execute_result"
    }
   ],
   "source": [
    "# the fingerprint, e.g. for further comparisons\n",
    "fp = fa.calculate_discrete_fingerprint(\"test_set\", grid)\n",
    "\n",
    "# comparison of the two datasets on the specified grid\n",
    "fa.compare_functions_by_discrete_fingerprint(\n",
    "    \"test_set\", \"test_set_shifted\", grid\n",
    ")"
   ]
  },
  {
   "cell_type": "raw",
   "metadata": {
    "raw_mimetype": "text/restructuredtext"
   },
   "source": [
    "Related examples\n",
    "================\n",
    "\n",
    "* :doc:`Creating a discretized grid to analyse functions <examples/fct-discretization>`\n",
    "* :doc:`Comparing two functions on a discretized grid <examples/fct-fingerprint_comparison>`"
   ]
  }
 ],
 "metadata": {
  "celltoolbar": "Raw Cell Format",
  "kernelspec": {
   "display_name": "Python 3 (ipykernel)",
   "language": "python",
   "name": "python3"
  },
  "language_info": {
   "codemirror_mode": {
    "name": "ipython",
    "version": 3
   },
   "file_extension": ".py",
   "mimetype": "text/x-python",
   "name": "python",
   "nbconvert_exporter": "python",
   "pygments_lexer": "ipython3",
   "version": "3.10.15"
  }
 },
 "nbformat": 4,
 "nbformat_minor": 2
}
